{
 "cells": [
  {
   "cell_type": "markdown",
   "id": "2515ec35-68e4-4bc3-98eb-f498bc34715d",
   "metadata": {},
   "source": [
    "# Summary\n",
    "Merges the the StatCan dissemination areas and Ookla tile overlay pre-pickled data. \n",
    "Calculates aggregates from the ookla tile data over the most recent 4 quarters and addes the averages \n",
    "to the overlay tiles. \n"
   ]
  },
  {
   "cell_type": "code",
   "execution_count": 1,
   "id": "7f85d97b-91c1-4cf8-b3d1-fcbe916b9e5c",
   "metadata": {
    "tags": []
   },
   "outputs": [],
   "source": [
    "import pickle \n",
    "import src.config\n",
    "import pandas as pd\n",
    "\n",
    "from src.datasets.loading import statcan, ookla\n",
    "\n",
    "output_dir = src.config.DATA_DIRECTORY / 'processed' \n",
    "output_dir.mkdir(exist_ok = True)\n",
    "feature_pickle = output_dir / 'feature_table.pickle'\n",
    "all_tiles_pickle = output_dir / 'full_tileset.pickle'\n"
   ]
  },
  {
   "cell_type": "code",
   "execution_count": 2,
   "id": "f890d336-ea7e-44a8-bd21-a482cbadc0d2",
   "metadata": {
    "tags": []
   },
   "outputs": [],
   "source": [
    "with open(all_tiles_pickle,'rb') as f:\n",
    "    full_data = pickle.load(f)"
   ]
  },
  {
   "cell_type": "code",
   "execution_count": 3,
   "id": "b57ef4e0-8e66-4733-84cb-cccb1bd879d0",
   "metadata": {
    "tags": []
   },
   "outputs": [
    {
     "data": {
      "text/plain": [
       "Index(['DAUID', 'PRUID', 'PRNAME', 'CDUID', 'CDNAME', 'CDTYPE', 'CCSUID',\n",
       "       'CCSNAME', 'CSDUID', 'CSDNAME', 'CSDTYPE', 'ERUID', 'ERNAME', 'SACCODE',\n",
       "       'SACTYPE', 'CMAUID', 'CMAPUID', 'CMANAME', 'CMATYPE', 'CTUID', 'CTNAME',\n",
       "       'ADAUID', 'das_area', 'quadkey', 'tile_area', 'tile_frac', 'das_frac',\n",
       "       'geometry', 'index_right', 'PCUID', 'PCNAME', 'PCTYPE', 'PCPUID',\n",
       "       'PCCLASS', 'GEO_NAME', 'DAPOP'],\n",
       "      dtype='object')"
      ]
     },
     "execution_count": 3,
     "metadata": {},
     "output_type": "execute_result"
    }
   ],
   "source": [
    "full_data.columns"
   ]
  },
  {
   "cell_type": "code",
   "execution_count": 4,
   "id": "10fb541a-5aee-4e8b-82c3-c3d061e732bc",
   "metadata": {
    "tags": []
   },
   "outputs": [],
   "source": [
    "to_merge = full_data.dropna(subset=['DAUID','quadkey']).sort_values(by=['quadkey','tile_frac'],ascending=False).drop_duplicates(subset='quadkey', keep='first')"
   ]
  },
  {
   "cell_type": "code",
   "execution_count": 5,
   "id": "05622a16-8842-469e-b07d-3db08832160e",
   "metadata": {
    "tags": []
   },
   "outputs": [
    {
     "data": {
      "text/html": [
       "<div>\n",
       "<style scoped>\n",
       "    .dataframe tbody tr th:only-of-type {\n",
       "        vertical-align: middle;\n",
       "    }\n",
       "\n",
       "    .dataframe tbody tr th {\n",
       "        vertical-align: top;\n",
       "    }\n",
       "\n",
       "    .dataframe thead th {\n",
       "        text-align: right;\n",
       "    }\n",
       "</style>\n",
       "<table border=\"1\" class=\"dataframe\">\n",
       "  <thead>\n",
       "    <tr style=\"text-align: right;\">\n",
       "      <th></th>\n",
       "      <th>quadkey</th>\n",
       "      <th>conn_type</th>\n",
       "      <th>avg_d_kbps</th>\n",
       "      <th>avg_u_kbps</th>\n",
       "      <th>tests</th>\n",
       "      <th>devices</th>\n",
       "      <th>avg_lat_ms</th>\n",
       "    </tr>\n",
       "  </thead>\n",
       "  <tbody>\n",
       "    <tr>\n",
       "      <th>0</th>\n",
       "      <td>13230212122122</td>\n",
       "      <td>fixed</td>\n",
       "      <td>544197.00</td>\n",
       "      <td>269445.0</td>\n",
       "      <td>1</td>\n",
       "      <td>1</td>\n",
       "      <td>19.00</td>\n",
       "    </tr>\n",
       "    <tr>\n",
       "      <th>1</th>\n",
       "      <td>23313133202223</td>\n",
       "      <td>fixed</td>\n",
       "      <td>43221.00</td>\n",
       "      <td>3756.0</td>\n",
       "      <td>2</td>\n",
       "      <td>1</td>\n",
       "      <td>134.00</td>\n",
       "    </tr>\n",
       "    <tr>\n",
       "      <th>2</th>\n",
       "      <td>23313133220001</td>\n",
       "      <td>fixed</td>\n",
       "      <td>29290.00</td>\n",
       "      <td>2404.0</td>\n",
       "      <td>2</td>\n",
       "      <td>1</td>\n",
       "      <td>255.00</td>\n",
       "    </tr>\n",
       "    <tr>\n",
       "      <th>3</th>\n",
       "      <td>23313203322102</td>\n",
       "      <td>fixed</td>\n",
       "      <td>76875.00</td>\n",
       "      <td>21079.0</td>\n",
       "      <td>2</td>\n",
       "      <td>1</td>\n",
       "      <td>76.00</td>\n",
       "    </tr>\n",
       "    <tr>\n",
       "      <th>4</th>\n",
       "      <td>23331133131233</td>\n",
       "      <td>fixed</td>\n",
       "      <td>13775.00</td>\n",
       "      <td>525.0</td>\n",
       "      <td>2</td>\n",
       "      <td>1</td>\n",
       "      <td>28.00</td>\n",
       "    </tr>\n",
       "    <tr>\n",
       "      <th>...</th>\n",
       "      <td>...</td>\n",
       "      <td>...</td>\n",
       "      <td>...</td>\n",
       "      <td>...</td>\n",
       "      <td>...</td>\n",
       "      <td>...</td>\n",
       "      <td>...</td>\n",
       "    </tr>\n",
       "    <tr>\n",
       "      <th>426107</th>\n",
       "      <td>303303002122001</td>\n",
       "      <td>fixed</td>\n",
       "      <td>31970.75</td>\n",
       "      <td>10417.5</td>\n",
       "      <td>7</td>\n",
       "      <td>4</td>\n",
       "      <td>58.25</td>\n",
       "    </tr>\n",
       "    <tr>\n",
       "      <th>426108</th>\n",
       "      <td>303303002122002</td>\n",
       "      <td>fixed</td>\n",
       "      <td>5414.50</td>\n",
       "      <td>2030.0</td>\n",
       "      <td>2</td>\n",
       "      <td>2</td>\n",
       "      <td>59.00</td>\n",
       "    </tr>\n",
       "    <tr>\n",
       "      <th>426109</th>\n",
       "      <td>303303002122003</td>\n",
       "      <td>fixed</td>\n",
       "      <td>37499.00</td>\n",
       "      <td>436.0</td>\n",
       "      <td>1</td>\n",
       "      <td>1</td>\n",
       "      <td>48.00</td>\n",
       "    </tr>\n",
       "    <tr>\n",
       "      <th>426110</th>\n",
       "      <td>303303002331120</td>\n",
       "      <td>fixed</td>\n",
       "      <td>63916.00</td>\n",
       "      <td>16396.0</td>\n",
       "      <td>1</td>\n",
       "      <td>1</td>\n",
       "      <td>60.00</td>\n",
       "    </tr>\n",
       "    <tr>\n",
       "      <th>426111</th>\n",
       "      <td>303303003011222</td>\n",
       "      <td>fixed</td>\n",
       "      <td>80037.00</td>\n",
       "      <td>5595.0</td>\n",
       "      <td>1</td>\n",
       "      <td>1</td>\n",
       "      <td>57.00</td>\n",
       "    </tr>\n",
       "  </tbody>\n",
       "</table>\n",
       "<p>426112 rows × 7 columns</p>\n",
       "</div>"
      ],
      "text/plain": [
       "                quadkey conn_type  avg_d_kbps  avg_u_kbps  tests  devices   \n",
       "0        13230212122122     fixed   544197.00    269445.0      1        1  \\\n",
       "1        23313133202223     fixed    43221.00      3756.0      2        1   \n",
       "2        23313133220001     fixed    29290.00      2404.0      2        1   \n",
       "3        23313203322102     fixed    76875.00     21079.0      2        1   \n",
       "4        23331133131233     fixed    13775.00       525.0      2        1   \n",
       "...                 ...       ...         ...         ...    ...      ...   \n",
       "426107  303303002122001     fixed    31970.75     10417.5      7        4   \n",
       "426108  303303002122002     fixed     5414.50      2030.0      2        2   \n",
       "426109  303303002122003     fixed    37499.00       436.0      1        1   \n",
       "426110  303303002331120     fixed    63916.00     16396.0      1        1   \n",
       "426111  303303003011222     fixed    80037.00      5595.0      1        1   \n",
       "\n",
       "        avg_lat_ms  \n",
       "0            19.00  \n",
       "1           134.00  \n",
       "2           255.00  \n",
       "3            76.00  \n",
       "4            28.00  \n",
       "...            ...  \n",
       "426107       58.25  \n",
       "426108       59.00  \n",
       "426109       48.00  \n",
       "426110       60.00  \n",
       "426111       57.00  \n",
       "\n",
       "[426112 rows x 7 columns]"
      ]
     },
     "execution_count": 5,
     "metadata": {},
     "output_type": "execute_result"
    }
   ],
   "source": [
    "speed_data = ookla.speed_data()\n",
    "year_quarters = sorted(speed_data.loc[:,['year','quarter']].value_counts().index.values)\n",
    "last4 = year_quarters[-4:]\n",
    "last_4Q_speed = speed_data[speed_data.loc[:,['year','quarter']].apply(tuple, axis=1).isin(last4)]\n",
    "\n",
    "last4Q_agg = last_4Q_speed.groupby(['quadkey','conn_type']).agg({\n",
    "    'avg_d_kbps':'mean',\n",
    "    'avg_u_kbps':'mean',\n",
    "    'tests':'sum',\n",
    "    'devices':'sum',\n",
    "    'avg_lat_ms':'mean'\n",
    "}).reset_index()\n",
    "last4Q_agg['quadkey'] = last4Q_agg['quadkey'].astype(str)\n",
    "last4Q_agg"
   ]
  },
  {
   "cell_type": "code",
   "execution_count": 6,
   "id": "c83dbfa6-b8c9-4c0d-aa83-ba58a79b3728",
   "metadata": {
    "tags": []
   },
   "outputs": [],
   "source": [
    "feature_table = to_merge.merge(last4Q_agg.loc[lambda s:s.conn_type=='fixed'], on='quadkey')"
   ]
  },
  {
   "cell_type": "code",
   "execution_count": 7,
   "id": "166f7f72-be0a-4be9-8df1-360865a3074b",
   "metadata": {
    "tags": []
   },
   "outputs": [
    {
     "name": "stdout",
     "output_type": "stream",
     "text": [
      "<class 'geopandas.geodataframe.GeoDataFrame'>\n",
      "RangeIndex: 292548 entries, 0 to 292547\n",
      "Data columns (total 42 columns):\n",
      " #   Column       Non-Null Count   Dtype   \n",
      "---  ------       --------------   -----   \n",
      " 0   DAUID        292548 non-null  object  \n",
      " 1   PRUID        284769 non-null  object  \n",
      " 2   PRNAME       284769 non-null  object  \n",
      " 3   CDUID        284769 non-null  object  \n",
      " 4   CDNAME       284769 non-null  object  \n",
      " 5   CDTYPE       284769 non-null  object  \n",
      " 6   CCSUID       284769 non-null  object  \n",
      " 7   CCSNAME      284769 non-null  object  \n",
      " 8   CSDUID       284769 non-null  object  \n",
      " 9   CSDNAME      284769 non-null  object  \n",
      " 10  CSDTYPE      284769 non-null  object  \n",
      " 11  ERUID        284769 non-null  object  \n",
      " 12  ERNAME       284769 non-null  object  \n",
      " 13  SACCODE      284769 non-null  object  \n",
      " 14  SACTYPE      284769 non-null  object  \n",
      " 15  CMAUID       146048 non-null  object  \n",
      " 16  CMAPUID      146048 non-null  object  \n",
      " 17  CMANAME      146048 non-null  object  \n",
      " 18  CMATYPE      146048 non-null  object  \n",
      " 19  CTUID        115290 non-null  object  \n",
      " 20  CTNAME       115290 non-null  object  \n",
      " 21  ADAUID       284769 non-null  object  \n",
      " 22  das_area     284769 non-null  float64 \n",
      " 23  quadkey      292548 non-null  object  \n",
      " 24  tile_area    292548 non-null  float64 \n",
      " 25  tile_frac    292548 non-null  float64 \n",
      " 26  das_frac     284769 non-null  float64 \n",
      " 27  geometry     292548 non-null  geometry\n",
      " 28  index_right  98846 non-null   float64 \n",
      " 29  PCUID        98846 non-null   object  \n",
      " 30  PCNAME       98846 non-null   object  \n",
      " 31  PCTYPE       98846 non-null   object  \n",
      " 32  PCPUID       98846 non-null   object  \n",
      " 33  PCCLASS      98846 non-null   object  \n",
      " 34  GEO_NAME     282100 non-null  object  \n",
      " 35  DAPOP        282100 non-null  object  \n",
      " 36  conn_type    292548 non-null  object  \n",
      " 37  avg_d_kbps   292548 non-null  float64 \n",
      " 38  avg_u_kbps   292548 non-null  float64 \n",
      " 39  tests        292548 non-null  int64   \n",
      " 40  devices      292548 non-null  int64   \n",
      " 41  avg_lat_ms   292548 non-null  float64 \n",
      "dtypes: float64(8), geometry(1), int64(2), object(31)\n",
      "memory usage: 93.7+ MB\n"
     ]
    }
   ],
   "source": [
    "feature_table.info()"
   ]
  },
  {
   "cell_type": "code",
   "execution_count": 8,
   "id": "a4d8203b-c541-45a8-b779-46d8d7ee6233",
   "metadata": {
    "tags": []
   },
   "outputs": [],
   "source": [
    "with open(feature_pickle, 'wb') as f:\n",
    "    pickle.dump(feature_table, f)"
   ]
  }
 ],
 "metadata": {
  "kernelspec": {
   "display_name": "Python 3 (ipykernel)",
   "language": "python",
   "name": "python3"
  },
  "language_info": {
   "codemirror_mode": {
    "name": "ipython",
    "version": 3
   },
   "file_extension": ".py",
   "mimetype": "text/x-python",
   "name": "python",
   "nbconvert_exporter": "python",
   "pygments_lexer": "ipython3",
   "version": "3.10.10"
  }
 },
 "nbformat": 4,
 "nbformat_minor": 5
}
