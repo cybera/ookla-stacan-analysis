{
 "cells": [
  {
   "cell_type": "markdown",
   "id": "201d9969-192c-483a-bf05-d1112a154467",
   "metadata": {},
   "source": [
    "# Summary\n",
    "Resaves the StatCan dissemination areas and Ookla tile overlay data as a faster to load *.pickle file.\n",
    "In addition to loading/resaving the file, it adds some statistical information on whether the \n",
    "area is within a population center and population information."
   ]
  },
  {
   "cell_type": "code",
   "execution_count": 1,
   "id": "32c15bd2-6a7d-44e6-aeed-a8f51cd14365",
   "metadata": {
    "tags": []
   },
   "outputs": [],
   "source": [
    "import src.config\n",
    "\n",
    "from src.datasets.loading import statcan, ookla\n",
    "\n",
    "import numpy as np \n",
    "import pandas as pd\n",
    "import geopandas as gp\n",
    "\n",
    "import gc"
   ]
  },
  {
   "cell_type": "code",
   "execution_count": 2,
   "id": "037c30a2-7308-4410-96a9-94f387c8f020",
   "metadata": {
    "tags": []
   },
   "outputs": [],
   "source": [
    "import pickle \n",
    "import src.config\n",
    "\n",
    "output_dir = src.config.DATA_DIRECTORY / 'processed' \n",
    "output_dir.mkdir(exist_ok = True)\n",
    "feature_pickle = output_dir / 'feature_table.pickle'\n",
    "all_tiles_pickle = output_dir / 'full_tileset.pickle'"
   ]
  },
  {
   "cell_type": "code",
   "execution_count": 3,
   "id": "e887652c-ca68-4a1c-8747-9fe1a3631596",
   "metadata": {
    "tags": []
   },
   "outputs": [
    {
     "name": "stderr",
     "output_type": "stream",
     "text": [
      "/home/jovyan/src/datasets/loading/statcan.py:234: DtypeWarning: Columns (3,11,12,13) have mixed types. Specify dtype option on import or set low_memory=False.\n",
      "  return pd.read_csv(POP_FILE)\n"
     ]
    }
   ],
   "source": [
    "da_pops = statcan.dissemination_areas_populations()\n",
    "da_pops['DAUID'] = da_pops.DAUID.astype(str)"
   ]
  },
  {
   "cell_type": "code",
   "execution_count": 4,
   "id": "b16581d0-deec-492d-95f5-a1b38e2f1d9f",
   "metadata": {
    "tags": []
   },
   "outputs": [],
   "source": [
    "speed_data = ookla.speed_data()\n",
    "speed_data['quadkey'] = speed_data.quadkey.astype(str)"
   ]
  },
  {
   "cell_type": "code",
   "execution_count": 5,
   "id": "c7456400-07f6-434e-ab4e-2d9797e8d421",
   "metadata": {
    "tags": []
   },
   "outputs": [],
   "source": [
    "overlay_das_tiles = gp.read_file(src.config.OVERLAYS_DIR / 'tile_das_overlay')\n",
    "overlay_das_tiles['DAUID'] = overlay_das_tiles.DAUID.astype(str)\n",
    "overlay_das_tiles['quadkey'] = overlay_das_tiles.quadkey.astype(str)"
   ]
  },
  {
   "cell_type": "code",
   "execution_count": 6,
   "id": "fa235b2c-2255-4e4d-bc03-6bab1390cb1f",
   "metadata": {
    "tags": []
   },
   "outputs": [
    {
     "data": {
      "text/plain": [
       "0"
      ]
     },
     "execution_count": 6,
     "metadata": {},
     "output_type": "execute_result"
    }
   ],
   "source": [
    "gc.collect()\n",
    "popctrs = statcan.boundary('population_centres')\n",
    "p = popctrs.loc[:,['PCUID', 'PCNAME', 'PCTYPE', 'PCPUID', 'PCCLASS','geometry']]\n",
    "overlay_das_tiles = overlay_das_tiles.sjoin(p, how='left')\n",
    "\n",
    "overlay_das_tiles = overlay_das_tiles.merge(da_pops, on=\"DAUID\", how='left')\n",
    "gc.collect()"
   ]
  },
  {
   "cell_type": "code",
   "execution_count": 7,
   "id": "27fc13bc-2a56-49bb-82d7-7416bec973e3",
   "metadata": {
    "tags": []
   },
   "outputs": [
    {
     "ename": "NameError",
     "evalue": "name 'overaly_das_tiles' is not defined",
     "output_type": "error",
     "traceback": [
      "\u001b[0;31m---------------------------------------------------------------------------\u001b[0m",
      "\u001b[0;31mNameError\u001b[0m                                 Traceback (most recent call last)",
      "Cell \u001b[0;32mIn[7], line 1\u001b[0m\n\u001b[0;32m----> 1\u001b[0m overlay_das_tiles \u001b[38;5;241m=\u001b[39m \u001b[43moveraly_das_tiles\u001b[49m\u001b[38;5;241m.\u001b[39mloc[\u001b[38;5;28;01mlambda\u001b[39;00m s:s\u001b[38;5;241m.\u001b[39mquadkey \u001b[38;5;241m!=\u001b[39m\u001b[38;5;124m'\u001b[39m\u001b[38;5;124mnan\u001b[39m\u001b[38;5;124m'\u001b[39m]\n",
      "\u001b[0;31mNameError\u001b[0m: name 'overaly_das_tiles' is not defined"
     ]
    }
   ],
   "source": [
    "overlay_das_tiles = overlay_das_tiles.loc[lambda s:s.quadkey !='nan']"
   ]
  },
  {
   "cell_type": "code",
   "execution_count": null,
   "id": "2aaf57d6-648d-42f2-8681-144ff008b3df",
   "metadata": {
    "tags": []
   },
   "outputs": [],
   "source": [
    "overlay_das_tiles.info()"
   ]
  },
  {
   "cell_type": "code",
   "execution_count": null,
   "id": "242fd438-b1cb-40b2-891f-74244379dc9b",
   "metadata": {
    "tags": []
   },
   "outputs": [],
   "source": [
    "with open(all_tiles_pickle, 'wb') as f:\n",
    "    pickle.dump(overlay_das_tiles, f)"
   ]
  }
 ],
 "metadata": {
  "kernelspec": {
   "display_name": "Python 3 (ipykernel)",
   "language": "python",
   "name": "python3"
  },
  "language_info": {
   "codemirror_mode": {
    "name": "ipython",
    "version": 3
   },
   "file_extension": ".py",
   "mimetype": "text/x-python",
   "name": "python",
   "nbconvert_exporter": "python",
   "pygments_lexer": "ipython3",
   "version": "3.10.10"
  }
 },
 "nbformat": 4,
 "nbformat_minor": 5
}
