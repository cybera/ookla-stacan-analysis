{
 "cells": [
  {
   "cell_type": "code",
   "execution_count": 70,
   "metadata": {},
   "outputs": [],
   "source": [
    "import pandas as pd\n",
    "import numpy as np\n",
    "import geopandas as gp\n",
    "import matplotlib.pyplot as plt "
   ]
  },
  {
   "cell_type": "code",
   "execution_count": 71,
   "metadata": {},
   "outputs": [],
   "source": [
    "time_data = pd.DataFrame()\n",
    "number_of_chunks = 5\n",
    "for idx in range(1, number_of_chunks+1):\n",
    "    time_data = pd.concat([time_data, pd.read_csv(f\"down_up_lat_tests_by_quarter_part{idx}.csv\")])"
   ]
  },
  {
   "cell_type": "code",
   "execution_count": 72,
   "metadata": {},
   "outputs": [
    {
     "name": "stdout",
     "output_type": "stream",
     "text": [
      "Index(['quadkey', 'geometry', 'd2019Q1', 'u2019Q1', 'l2019Q1', 't2019Q1',\n",
      "       'd2019Q2', 'u2019Q2', 'l2019Q2', 't2019Q2',\n",
      "       ...\n",
      "       'tile_area', 'tile_frac', 'das_frac', 'DAPOP', 'POP_DENSITY', 'PCUID',\n",
      "       'PCNAME', 'PCTYPE', 'PCPUID', 'PCCLASS'],\n",
      "      dtype='object', length=103)\n",
      "(581765, 103)\n",
      "(581765, 85)\n"
     ]
    }
   ],
   "source": [
    "print(time_data.columns)\n",
    "print(time_data.shape)\n",
    "cols_to_drop = ['geometry','DAUID','PRUID','CDUID','CCSUID','CCSNAME','CSDUID','ERUID','SACCODE','CMAUID','CMAPUID','CMANAME','CMATYPE','CTUID','CTNAME','ADAUID','PCUID','PCPUID']\n",
    "time_data = time_data.drop(columns=cols_to_drop).reset_index(drop=True)\n",
    "print(time_data.shape)"
   ]
  },
  {
   "cell_type": "code",
   "execution_count": 55,
   "metadata": {},
   "outputs": [],
   "source": [
    "down_cols = [col for col in time_data if col.startswith('d20')]\n",
    "up_cols = [col for col in time_data if col.startswith('u20')]\n",
    "lat_cols = [col for col in time_data if col.startswith('l20')]\n",
    "tests_cols = [col for col in time_data if col.startswith('t20')]"
   ]
  },
  {
   "cell_type": "code",
   "execution_count": 44,
   "metadata": {},
   "outputs": [],
   "source": [
    "def training_quarters(y, q, n):\n",
    "    quarters = []\n",
    "    i=0\n",
    "    while i<5:\n",
    "        if q<=i:\n",
    "            i = 0\n",
    "            y = y-1\n",
    "            q=4\n",
    "        else:\n",
    "            quarters.append(str(y) + \"Q\" + str(q-i))\n",
    "            i=i+1\n",
    "            if len(quarters) == n:\n",
    "                return quarters"
   ]
  },
  {
   "cell_type": "code",
   "execution_count": 68,
   "metadata": {},
   "outputs": [
    {
     "name": "stdout",
     "output_type": "stream",
     "text": [
      "(0, 0)\n",
      "(581765, 53)\n",
      "(1163530, 53)\n",
      "(1745295, 53)\n",
      "(2327060, 53)\n",
      "(2908825, 53)\n",
      "(3490590, 53)\n",
      "(4072355, 53)\n",
      "(4654120, 53)\n",
      "(5235885, 53)\n"
     ]
    }
   ],
   "source": [
    "feature_table = pd.DataFrame()\n",
    "print(feature_table.shape)\n",
    "\n",
    "n_train_quarter = 8\n",
    "n_quarter = n_train_quarter+1\n",
    "\n",
    "for year in range(2021, 2023):\n",
    "    new_table = time_data.drop(columns=down_cols+up_cols+lat_cols+tests_cols)\n",
    "    for quarter in range(1, 5):\n",
    "        quarters = training_quarters(year, quarter, n_quarter)\n",
    "        for i in range(n_quarter):\n",
    "            new_table[\"d_quarter\"+str(i)] = time_data[\"d\"+quarters[i]]\n",
    "            new_table[\"u_quarter\"+str(i)] = time_data[\"u\"+quarters[i]]\n",
    "            new_table[\"l_quarter\"+str(i)] = time_data[\"l\"+quarters[i]]\n",
    "            new_table[\"t_quarter\"+str(i)] = time_data[\"t\"+quarters[i]]\n",
    "\n",
    "        feature_table = pd.concat([feature_table, new_table], ignore_index=True)\n",
    "        print(feature_table.shape)\n",
    "\n",
    "year=2023\n",
    "quarter=1\n",
    "new_table = time_data.drop(columns=down_cols+up_cols+lat_cols+tests_cols)\n",
    "quarters = training_quarters(year, quarter, n_quarter)\n",
    "for i in range(n_quarter):\n",
    "    new_table[\"d_quarter\"+str(i)] = time_data[\"d\"+quarters[i]]\n",
    "    new_table[\"u_quarter\"+str(i)] = time_data[\"u\"+quarters[i]]\n",
    "    new_table[\"l_quarter\"+str(i)] = time_data[\"l\"+quarters[i]]\n",
    "    new_table[\"t_quarter\"+str(i)] = time_data[\"t\"+quarters[i]]\n",
    "\n",
    "feature_table = pd.concat([feature_table, new_table], ignore_index=True)\n",
    "print(feature_table.shape)"
   ]
  },
  {
   "cell_type": "code",
   "execution_count": 65,
   "metadata": {},
   "outputs": [],
   "source": [
    "feature_table.to_csv(\"feature_table_by_quarter.csv\", index=False)"
   ]
  },
  {
   "cell_type": "code",
   "execution_count": 69,
   "metadata": {},
   "outputs": [
    {
     "name": "stdout",
     "output_type": "stream",
     "text": [
      "0 quadkey\n",
      "1 PRNAME\n",
      "2 CDNAME\n",
      "3 CDTYPE\n",
      "4 CSDNAME\n",
      "5 CSDTYPE\n",
      "6 ERNAME\n",
      "7 SACTYPE\n",
      "8 das_area\n",
      "9 tile_area\n",
      "10 tile_frac\n",
      "11 das_frac\n",
      "12 DAPOP\n",
      "13 POP_DENSITY\n",
      "14 PCNAME\n",
      "15 PCTYPE\n",
      "16 PCCLASS\n",
      "17 d_quarter0\n",
      "18 u_quarter0\n",
      "19 l_quarter0\n",
      "20 t_quarter0\n",
      "21 d_quarter1\n",
      "22 u_quarter1\n",
      "23 l_quarter1\n",
      "24 t_quarter1\n",
      "25 d_quarter2\n",
      "26 u_quarter2\n",
      "27 l_quarter2\n",
      "28 t_quarter2\n",
      "29 d_quarter3\n",
      "30 u_quarter3\n",
      "31 l_quarter3\n",
      "32 t_quarter3\n",
      "33 d_quarter4\n",
      "34 u_quarter4\n",
      "35 l_quarter4\n",
      "36 t_quarter4\n",
      "37 d_quarter5\n",
      "38 u_quarter5\n",
      "39 l_quarter5\n",
      "40 t_quarter5\n",
      "41 d_quarter6\n",
      "42 u_quarter6\n",
      "43 l_quarter6\n",
      "44 t_quarter6\n",
      "45 d_quarter7\n",
      "46 u_quarter7\n",
      "47 l_quarter7\n",
      "48 t_quarter7\n",
      "49 d_quarter8\n",
      "50 u_quarter8\n",
      "51 l_quarter8\n",
      "52 t_quarter8\n"
     ]
    }
   ],
   "source": [
    "for i, col in enumerate(feature_table.columns):\n",
    "    print(i,col)"
   ]
  }
 ],
 "metadata": {
  "kernelspec": {
   "display_name": "ookla-statcan-test",
   "language": "python",
   "name": "python3"
  },
  "language_info": {
   "codemirror_mode": {
    "name": "ipython",
    "version": 3
   },
   "file_extension": ".py",
   "mimetype": "text/x-python",
   "name": "python",
   "nbconvert_exporter": "python",
   "pygments_lexer": "ipython3",
   "version": "3.10.10"
  },
  "orig_nbformat": 4
 },
 "nbformat": 4,
 "nbformat_minor": 2
}
