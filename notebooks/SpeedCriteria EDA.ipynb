{
 "cells": [
  {
   "cell_type": "markdown",
   "id": "4923ec2c",
   "metadata": {},
   "source": [
    "# Summary\n",
    "\n",
    "Starting point for a supervised learning model for Ookla speed tiles. The data comes from a combination of \n",
    "Ookla Open Data speed tests and Statistics Canada information, including 2016 census population data and census boundaries (shapefiles). \n"
   ]
  },
  {
   "cell_type": "code",
   "execution_count": 1,
   "id": "6e11b16f",
   "metadata": {
    "tags": []
   },
   "outputs": [],
   "source": [
    "import sys\n",
    "sys.path.append(\"..\")"
   ]
  },
  {
   "cell_type": "code",
   "execution_count": 2,
   "id": "e59298bc",
   "metadata": {
    "tags": []
   },
   "outputs": [],
   "source": [
    "import src.config"
   ]
  },
  {
   "cell_type": "code",
   "execution_count": 3,
   "id": "c0120861",
   "metadata": {
    "tags": []
   },
   "outputs": [],
   "source": [
    "from src.datasets.loading import statcan, ookla"
   ]
  },
  {
   "cell_type": "code",
   "execution_count": 4,
   "id": "44a651b9",
   "metadata": {
    "tags": []
   },
   "outputs": [],
   "source": [
    "import numpy as np \n",
    "import pandas as pd\n",
    "import geopandas as gp"
   ]
  },
  {
   "cell_type": "code",
   "execution_count": 5,
   "id": "7747ae1a",
   "metadata": {
    "tags": []
   },
   "outputs": [],
   "source": [
    "from sklearn import preprocessing, pipeline, compose\n",
    "from sklearn import linear_model, model_selection, svm\n",
    "from sklearn import metrics"
   ]
  },
  {
   "cell_type": "code",
   "execution_count": 6,
   "id": "28af861b",
   "metadata": {
    "tags": []
   },
   "outputs": [],
   "source": [
    "import matplotlib.pyplot as plt "
   ]
  },
  {
   "cell_type": "markdown",
   "id": "14697af4",
   "metadata": {},
   "source": [
    "## Load \n",
    "Load some of the available data. The census population data and StatCan boundaries are automatically loaded from \n",
    "the StatCan website. The overlays and tile geometries/speeds need to pre-computed and saved to the overlays directory and data directories. "
   ]
  },
  {
   "cell_type": "markdown",
   "id": "5dee2f19",
   "metadata": {},
   "source": [
    "### Load All Unique Tile Gemoetries"
   ]
  },
  {
   "cell_type": "code",
   "execution_count": 7,
   "id": "2f33da9d",
   "metadata": {
    "tags": []
   },
   "outputs": [],
   "source": [
    "ookla_tiles = ookla.canada_tiles()"
   ]
  },
  {
   "cell_type": "markdown",
   "id": "f99eb5de",
   "metadata": {},
   "source": [
    "### Load Census Population Information"
   ]
  },
  {
   "cell_type": "code",
   "execution_count": 8,
   "id": "b6832deb",
   "metadata": {
    "tags": []
   },
   "outputs": [
    {
     "name": "stderr",
     "output_type": "stream",
     "text": [
      "/home/jovyan/src/datasets/loading/statcan.py:234: DtypeWarning: Columns (3,11,12,13) have mixed types. Specify dtype option on import or set low_memory=False.\n",
      "  return pd.read_csv(POP_FILE)\n"
     ]
    }
   ],
   "source": [
    "da_pops = statcan.dissemination_areas_populations()"
   ]
  },
  {
   "cell_type": "markdown",
   "id": "5f62db26",
   "metadata": {},
   "source": [
    "### Labelling Tiles\n",
    "Generate labels from geometric overlay of the Ookla tiles and Statistics Canada Dissemination Areas (DA). \n",
    "Label each tile with the information from the StatCan areas based on which DA the tile overlaps the most with."
   ]
  },
  {
   "cell_type": "code",
   "execution_count": 11,
   "id": "2d2a7bd2",
   "metadata": {
    "tags": []
   },
   "outputs": [],
   "source": [
    "o = gp.read_file(src.config.OVERLAYS_DIR / 'tile_das_overlay') #this can take a few minutes to load.\n",
    "tile_da_label = o.dropna(subset=['DAUID','quadkey']).sort_values(by=['quadkey','tile_frac'],ascending=False).drop_duplicates(subset='quadkey', keep='first')\n",
    "tile_da_label['quadkey'] = tile_da_label['quadkey'].astype(int)\n",
    "tile_da_label['DAUID'] = tile_da_label['DAUID'].astype(int)"
   ]
  },
  {
   "cell_type": "markdown",
   "id": "e0112f24",
   "metadata": {},
   "source": [
    "### Speed Test Data\n",
    "Load in the previous 4 quarters of data. Since we're currently in Q3 of 2022, the most recent quarter is Q2 \n",
    "so we can slice the files listed to grab those. Subsequently, we'll calculate weighted averages for individual tiles and use those as representative speeds for our model."
   ]
  },
  {
   "cell_type": "code",
   "execution_count": 12,
   "id": "246ca578",
   "metadata": {},
   "outputs": [],
   "source": [
    "last_4_quarters = ookla.speed_data(ookla.available_files().loc[('fixed',2021,3):('fixed',2022,2)].path)"
   ]
  },
  {
   "cell_type": "code",
   "execution_count": 13,
   "id": "f8149cf7",
   "metadata": {},
   "outputs": [],
   "source": [
    "down = last_4_quarters.groupby('quadkey').apply(lambda s:np.average(s.avg_d_kbps, weights=s.tests)).rename('avg_d_kbps')\n",
    "up = last_4_quarters.groupby('quadkey').apply(lambda s:np.average(s.avg_u_kbps, weights=s.tests)).rename('avg_u_kbps')\n",
    "tests = last_4_quarters.groupby('quadkey')['tests'].sum()\n",
    "devices = last_4_quarters.groupby('quadkey')['devices'].sum()\n",
    "last4_agg = pd.concat([down, up, tests, devices],axis=1)"
   ]
  },
  {
   "cell_type": "markdown",
   "id": "fd02857a",
   "metadata": {},
   "source": [
    "### Merge All The Data\n",
    "It's a bit messy, but we're merging several tables and removing a few of the redundant or non-useful \n",
    "columns as we go through. At the end the `features_table` variable will have all of the \n",
    "tiles within census areas labelled by what type of Census Subdivision, Dissemination Area, Population Centre, etc. they are in, as well as population information for the DA (smallest area with populations available) and the speed test averages over the last 4 quarters."
   ]
  },
  {
   "cell_type": "code",
   "execution_count": 174,
   "id": "75a3bb68",
   "metadata": {},
   "outputs": [],
   "source": [
    "## merge dissemination area (DA) populations with ookla tiles (already combined with other statcan data)\n",
    "features_table = tile_da_label.merge(da_pops, on='DAUID', how='left')\n",
    "features_table['DAPOP'] = features_table['DAPOP'].fillna(0).astype(int)\n",
    "del features_table['GEO_NAME']\n",
    "features_table = pd.DataFrame(features_table)\n",
    "del features_table['geometry']\n",
    "features_table['POP_DENSITY'] = features_table['DAPOP']/features_table['das_area']*1000**2 #people per square kilometer\n",
    "\n",
    "# take all ookla tiles, merge the speeds data and tile labels and populations\n",
    "features_table = ookla_tiles.merge(last4_agg, on='quadkey').merge(features_table, on='quadkey')\n",
    "\n",
    "# compute spatial joins to identify if area is a population centre\n",
    "pop_info = statcan.boundary('population_centres').to_crs('epsg:4326')\n",
    "pop_info = pop_info[['PCUID', 'PCNAME', 'PCTYPE', 'PCPUID', 'PCCLASS', 'geometry']] ##removes some redundant cols from DAs\n",
    "features_table = features_table.sjoin(pop_info, how='left')\n",
    "del features_table['index_right']\n",
    "features_table = features_table.sort_values(by=['PCUID','quadkey']).drop_duplicates(subset=['quadkey']) #keep tiles where overlap was true"
   ]
  },
  {
   "cell_type": "markdown",
   "id": "dad6d808",
   "metadata": {},
   "source": [
    "### Categorize All the Columns\n",
    "All the columns from our joins above can be roughly split into categories based on the type of \n",
    "data and how you might use them in a simple supervised learning problem. These are broken down as follows:"
   ]
  },
  {
   "cell_type": "code",
   "execution_count": 175,
   "id": "aa9a4ae3",
   "metadata": {},
   "outputs": [],
   "source": [
    "pkey = 'quadkey'\n",
    "geometry = 'geometry'\n",
    "id_and_names = ['DAUID', 'CDUID', 'CDNAME', 'CCSUID', 'CSDNAME', 'CMAUID', 'CMAPUID', 'CMANAME', \n",
    "'CCSNAME', 'CSDUID', 'ERUID', 'ERNAME', 'CTUID', 'CTNAME', 'ADAUID', \n",
    "'PCUID', 'PCNAME', 'PCPUID', 'SACCODE',] ##SACCODE is half a category half ID values\n",
    "\n",
    "categorical_labels = [\n",
    "    #'PRUID', #PRUID is redundant with PRNAME\n",
    "    'PRNAME', 'CDTYPE', \n",
    "    'CSDTYPE',  \n",
    "    'SACTYPE', \n",
    "    'CMATYPE', 'PCTYPE', 'PCCLASS',\n",
    "]\n",
    "numerical_vars = [\n",
    "    'tests', 'devices',\n",
    "    'das_area', 'tile_area', 'tile_frac',  'das_frac', \n",
    "    'DAPOP','POP_DENSITY'\n",
    "]\n",
    "target_vars = ['avg_d_kbps', 'avg_u_kbps']"
   ]
  },
  {
   "cell_type": "code",
   "execution_count": 176,
   "id": "97dbe082",
   "metadata": {},
   "outputs": [
    {
     "data": {
      "text/html": [
       "<div>\n",
       "<style scoped>\n",
       "    .dataframe tbody tr th:only-of-type {\n",
       "        vertical-align: middle;\n",
       "    }\n",
       "\n",
       "    .dataframe tbody tr th {\n",
       "        vertical-align: top;\n",
       "    }\n",
       "\n",
       "    .dataframe thead th {\n",
       "        text-align: right;\n",
       "    }\n",
       "</style>\n",
       "<table border=\"1\" class=\"dataframe\">\n",
       "  <thead>\n",
       "    <tr style=\"text-align: right;\">\n",
       "      <th></th>\n",
       "      <th>PRNAME</th>\n",
       "      <th>CDTYPE</th>\n",
       "      <th>CSDTYPE</th>\n",
       "      <th>SACTYPE</th>\n",
       "      <th>CMATYPE</th>\n",
       "      <th>PCTYPE</th>\n",
       "      <th>PCCLASS</th>\n",
       "      <th>tests</th>\n",
       "      <th>devices</th>\n",
       "      <th>das_area</th>\n",
       "      <th>tile_area</th>\n",
       "      <th>tile_frac</th>\n",
       "      <th>das_frac</th>\n",
       "      <th>DAPOP</th>\n",
       "      <th>POP_DENSITY</th>\n",
       "      <th>avg_d_kbps</th>\n",
       "      <th>avg_u_kbps</th>\n",
       "    </tr>\n",
       "    <tr>\n",
       "      <th>quadkey</th>\n",
       "      <th></th>\n",
       "      <th></th>\n",
       "      <th></th>\n",
       "      <th></th>\n",
       "      <th></th>\n",
       "      <th></th>\n",
       "      <th></th>\n",
       "      <th></th>\n",
       "      <th></th>\n",
       "      <th></th>\n",
       "      <th></th>\n",
       "      <th></th>\n",
       "      <th></th>\n",
       "      <th></th>\n",
       "      <th></th>\n",
       "      <th></th>\n",
       "      <th></th>\n",
       "    </tr>\n",
       "  </thead>\n",
       "  <tbody>\n",
       "    <tr>\n",
       "      <th>302231302213222</th>\n",
       "      <td>Ontario</td>\n",
       "      <td>RM</td>\n",
       "      <td>T</td>\n",
       "      <td>1</td>\n",
       "      <td>B</td>\n",
       "      <td>2</td>\n",
       "      <td>2</td>\n",
       "      <td>12</td>\n",
       "      <td>8</td>\n",
       "      <td>4.489387e+06</td>\n",
       "      <td>205331.876525</td>\n",
       "      <td>0.917314</td>\n",
       "      <td>0.041955</td>\n",
       "      <td>1420</td>\n",
       "      <td>316.301553</td>\n",
       "      <td>201908.916667</td>\n",
       "      <td>23286.833333</td>\n",
       "    </tr>\n",
       "    <tr>\n",
       "      <th>302231302230013</th>\n",
       "      <td>Ontario</td>\n",
       "      <td>RM</td>\n",
       "      <td>T</td>\n",
       "      <td>1</td>\n",
       "      <td>B</td>\n",
       "      <td>2</td>\n",
       "      <td>2</td>\n",
       "      <td>32</td>\n",
       "      <td>7</td>\n",
       "      <td>5.391016e+06</td>\n",
       "      <td>205402.379648</td>\n",
       "      <td>0.894827</td>\n",
       "      <td>0.034094</td>\n",
       "      <td>1030</td>\n",
       "      <td>191.058601</td>\n",
       "      <td>393118.031250</td>\n",
       "      <td>169457.281250</td>\n",
       "    </tr>\n",
       "    <tr>\n",
       "      <th>302231302230022</th>\n",
       "      <td>Ontario</td>\n",
       "      <td>RM</td>\n",
       "      <td>T</td>\n",
       "      <td>1</td>\n",
       "      <td>B</td>\n",
       "      <td>2</td>\n",
       "      <td>2</td>\n",
       "      <td>4</td>\n",
       "      <td>2</td>\n",
       "      <td>1.030375e+07</td>\n",
       "      <td>205472.906899</td>\n",
       "      <td>0.611219</td>\n",
       "      <td>0.012189</td>\n",
       "      <td>505</td>\n",
       "      <td>49.011263</td>\n",
       "      <td>19284.750000</td>\n",
       "      <td>4310.750000</td>\n",
       "    </tr>\n",
       "    <tr>\n",
       "      <th>302231302230023</th>\n",
       "      <td>Ontario</td>\n",
       "      <td>RM</td>\n",
       "      <td>T</td>\n",
       "      <td>1</td>\n",
       "      <td>B</td>\n",
       "      <td>2</td>\n",
       "      <td>2</td>\n",
       "      <td>128</td>\n",
       "      <td>13</td>\n",
       "      <td>1.765704e+06</td>\n",
       "      <td>205472.906900</td>\n",
       "      <td>0.871430</td>\n",
       "      <td>0.101407</td>\n",
       "      <td>795</td>\n",
       "      <td>450.245236</td>\n",
       "      <td>10499.585938</td>\n",
       "      <td>1387.898438</td>\n",
       "    </tr>\n",
       "    <tr>\n",
       "      <th>302231302230030</th>\n",
       "      <td>Ontario</td>\n",
       "      <td>RM</td>\n",
       "      <td>T</td>\n",
       "      <td>1</td>\n",
       "      <td>B</td>\n",
       "      <td>2</td>\n",
       "      <td>2</td>\n",
       "      <td>1</td>\n",
       "      <td>1</td>\n",
       "      <td>5.391016e+06</td>\n",
       "      <td>205437.640257</td>\n",
       "      <td>0.939933</td>\n",
       "      <td>0.035818</td>\n",
       "      <td>1030</td>\n",
       "      <td>191.058601</td>\n",
       "      <td>535.000000</td>\n",
       "      <td>889.000000</td>\n",
       "    </tr>\n",
       "    <tr>\n",
       "      <th>...</th>\n",
       "      <td>...</td>\n",
       "      <td>...</td>\n",
       "      <td>...</td>\n",
       "      <td>...</td>\n",
       "      <td>...</td>\n",
       "      <td>...</td>\n",
       "      <td>...</td>\n",
       "      <td>...</td>\n",
       "      <td>...</td>\n",
       "      <td>...</td>\n",
       "      <td>...</td>\n",
       "      <td>...</td>\n",
       "      <td>...</td>\n",
       "      <td>...</td>\n",
       "      <td>...</td>\n",
       "      <td>...</td>\n",
       "      <td>...</td>\n",
       "    </tr>\n",
       "    <tr>\n",
       "      <th>303303002030011</th>\n",
       "      <td>Newfoundland and Labrador / Terre-Neuve-et-Lab...</td>\n",
       "      <td>CDR</td>\n",
       "      <td>T</td>\n",
       "      <td>5</td>\n",
       "      <td>NaN</td>\n",
       "      <td>NaN</td>\n",
       "      <td>NaN</td>\n",
       "      <td>1</td>\n",
       "      <td>1</td>\n",
       "      <td>1.777728e+07</td>\n",
       "      <td>179010.291685</td>\n",
       "      <td>0.579748</td>\n",
       "      <td>0.005838</td>\n",
       "      <td>350</td>\n",
       "      <td>19.688054</td>\n",
       "      <td>43155.000000</td>\n",
       "      <td>1901.000000</td>\n",
       "    </tr>\n",
       "    <tr>\n",
       "      <th>303303002032102</th>\n",
       "      <td>Newfoundland and Labrador / Terre-Neuve-et-Lab...</td>\n",
       "      <td>CDR</td>\n",
       "      <td>T</td>\n",
       "      <td>5</td>\n",
       "      <td>NaN</td>\n",
       "      <td>NaN</td>\n",
       "      <td>NaN</td>\n",
       "      <td>1</td>\n",
       "      <td>1</td>\n",
       "      <td>1.777728e+07</td>\n",
       "      <td>179287.191779</td>\n",
       "      <td>0.533632</td>\n",
       "      <td>0.005382</td>\n",
       "      <td>350</td>\n",
       "      <td>19.688054</td>\n",
       "      <td>1634.000000</td>\n",
       "      <td>690.000000</td>\n",
       "    </tr>\n",
       "    <tr>\n",
       "      <th>303303002122000</th>\n",
       "      <td>Newfoundland and Labrador / Terre-Neuve-et-Lab...</td>\n",
       "      <td>CDR</td>\n",
       "      <td>T</td>\n",
       "      <td>7</td>\n",
       "      <td>NaN</td>\n",
       "      <td>NaN</td>\n",
       "      <td>NaN</td>\n",
       "      <td>1</td>\n",
       "      <td>1</td>\n",
       "      <td>1.194131e+06</td>\n",
       "      <td>179256.404038</td>\n",
       "      <td>0.574792</td>\n",
       "      <td>0.086285</td>\n",
       "      <td>150</td>\n",
       "      <td>125.614323</td>\n",
       "      <td>37799.000000</td>\n",
       "      <td>12489.000000</td>\n",
       "    </tr>\n",
       "    <tr>\n",
       "      <th>303303002122001</th>\n",
       "      <td>Newfoundland and Labrador / Terre-Neuve-et-Lab...</td>\n",
       "      <td>CDR</td>\n",
       "      <td>T</td>\n",
       "      <td>7</td>\n",
       "      <td>NaN</td>\n",
       "      <td>NaN</td>\n",
       "      <td>NaN</td>\n",
       "      <td>11</td>\n",
       "      <td>3</td>\n",
       "      <td>1.194131e+06</td>\n",
       "      <td>179256.404038</td>\n",
       "      <td>1.000000</td>\n",
       "      <td>0.150114</td>\n",
       "      <td>150</td>\n",
       "      <td>125.614323</td>\n",
       "      <td>40291.272727</td>\n",
       "      <td>9116.000000</td>\n",
       "    </tr>\n",
       "    <tr>\n",
       "      <th>303303002122003</th>\n",
       "      <td>Newfoundland and Labrador / Terre-Neuve-et-Lab...</td>\n",
       "      <td>CDR</td>\n",
       "      <td>T</td>\n",
       "      <td>7</td>\n",
       "      <td>NaN</td>\n",
       "      <td>NaN</td>\n",
       "      <td>NaN</td>\n",
       "      <td>1</td>\n",
       "      <td>1</td>\n",
       "      <td>1.194131e+06</td>\n",
       "      <td>179287.191779</td>\n",
       "      <td>0.912957</td>\n",
       "      <td>0.137072</td>\n",
       "      <td>150</td>\n",
       "      <td>125.614323</td>\n",
       "      <td>37499.000000</td>\n",
       "      <td>436.000000</td>\n",
       "    </tr>\n",
       "  </tbody>\n",
       "</table>\n",
       "<p>338872 rows × 17 columns</p>\n",
       "</div>"
      ],
      "text/plain": [
       "                                                            PRNAME CDTYPE   \n",
       "quadkey                                                                     \n",
       "302231302213222                                            Ontario     RM  \\\n",
       "302231302230013                                            Ontario     RM   \n",
       "302231302230022                                            Ontario     RM   \n",
       "302231302230023                                            Ontario     RM   \n",
       "302231302230030                                            Ontario     RM   \n",
       "...                                                            ...    ...   \n",
       "303303002030011  Newfoundland and Labrador / Terre-Neuve-et-Lab...    CDR   \n",
       "303303002032102  Newfoundland and Labrador / Terre-Neuve-et-Lab...    CDR   \n",
       "303303002122000  Newfoundland and Labrador / Terre-Neuve-et-Lab...    CDR   \n",
       "303303002122001  Newfoundland and Labrador / Terre-Neuve-et-Lab...    CDR   \n",
       "303303002122003  Newfoundland and Labrador / Terre-Neuve-et-Lab...    CDR   \n",
       "\n",
       "                CSDTYPE SACTYPE CMATYPE PCTYPE PCCLASS  tests  devices   \n",
       "quadkey                                                                  \n",
       "302231302213222       T       1       B      2       2     12        8  \\\n",
       "302231302230013       T       1       B      2       2     32        7   \n",
       "302231302230022       T       1       B      2       2      4        2   \n",
       "302231302230023       T       1       B      2       2    128       13   \n",
       "302231302230030       T       1       B      2       2      1        1   \n",
       "...                 ...     ...     ...    ...     ...    ...      ...   \n",
       "303303002030011       T       5     NaN    NaN     NaN      1        1   \n",
       "303303002032102       T       5     NaN    NaN     NaN      1        1   \n",
       "303303002122000       T       7     NaN    NaN     NaN      1        1   \n",
       "303303002122001       T       7     NaN    NaN     NaN     11        3   \n",
       "303303002122003       T       7     NaN    NaN     NaN      1        1   \n",
       "\n",
       "                     das_area      tile_area  tile_frac  das_frac  DAPOP   \n",
       "quadkey                                                                    \n",
       "302231302213222  4.489387e+06  205331.876525   0.917314  0.041955   1420  \\\n",
       "302231302230013  5.391016e+06  205402.379648   0.894827  0.034094   1030   \n",
       "302231302230022  1.030375e+07  205472.906899   0.611219  0.012189    505   \n",
       "302231302230023  1.765704e+06  205472.906900   0.871430  0.101407    795   \n",
       "302231302230030  5.391016e+06  205437.640257   0.939933  0.035818   1030   \n",
       "...                       ...            ...        ...       ...    ...   \n",
       "303303002030011  1.777728e+07  179010.291685   0.579748  0.005838    350   \n",
       "303303002032102  1.777728e+07  179287.191779   0.533632  0.005382    350   \n",
       "303303002122000  1.194131e+06  179256.404038   0.574792  0.086285    150   \n",
       "303303002122001  1.194131e+06  179256.404038   1.000000  0.150114    150   \n",
       "303303002122003  1.194131e+06  179287.191779   0.912957  0.137072    150   \n",
       "\n",
       "                 POP_DENSITY     avg_d_kbps     avg_u_kbps  \n",
       "quadkey                                                     \n",
       "302231302213222   316.301553  201908.916667   23286.833333  \n",
       "302231302230013   191.058601  393118.031250  169457.281250  \n",
       "302231302230022    49.011263   19284.750000    4310.750000  \n",
       "302231302230023   450.245236   10499.585938    1387.898438  \n",
       "302231302230030   191.058601     535.000000     889.000000  \n",
       "...                      ...            ...            ...  \n",
       "303303002030011    19.688054   43155.000000    1901.000000  \n",
       "303303002032102    19.688054    1634.000000     690.000000  \n",
       "303303002122000   125.614323   37799.000000   12489.000000  \n",
       "303303002122001   125.614323   40291.272727    9116.000000  \n",
       "303303002122003   125.614323   37499.000000     436.000000  \n",
       "\n",
       "[338872 rows x 17 columns]"
      ]
     },
     "execution_count": 176,
     "metadata": {},
     "output_type": "execute_result"
    }
   ],
   "source": [
    "col_subset = [pkey] + categorical_labels + numerical_vars + target_vars\n",
    "features_table.loc[:,col_subset].set_index('quadkey')"
   ]
  },
  {
   "cell_type": "code",
   "execution_count": 177,
   "id": "8cafdffc-f2ee-43b5-9b9c-a670ad6f5f38",
   "metadata": {
    "tags": []
   },
   "outputs": [
    {
     "name": "stdout",
     "output_type": "stream",
     "text": [
      "<class 'geopandas.geodataframe.GeoDataFrame'>\n",
      "Index: 338872 entries, 32915 to 335093\n",
      "Data columns (total 39 columns):\n",
      " #   Column       Non-Null Count   Dtype   \n",
      "---  ------       --------------   -----   \n",
      " 0   quadkey      338872 non-null  int64   \n",
      " 1   geometry     338872 non-null  geometry\n",
      " 2   avg_d_kbps   338872 non-null  float64 \n",
      " 3   avg_u_kbps   338872 non-null  float64 \n",
      " 4   tests        338872 non-null  int64   \n",
      " 5   devices      338872 non-null  int64   \n",
      " 6   DAUID        338872 non-null  int64   \n",
      " 7   PRUID        338872 non-null  object  \n",
      " 8   PRNAME       338872 non-null  object  \n",
      " 9   CDUID        338872 non-null  object  \n",
      " 10  CDNAME       338872 non-null  object  \n",
      " 11  CDTYPE       338872 non-null  object  \n",
      " 12  CCSUID       338872 non-null  object  \n",
      " 13  CCSNAME      338872 non-null  object  \n",
      " 14  CSDUID       338872 non-null  object  \n",
      " 15  CSDNAME      338872 non-null  object  \n",
      " 16  CSDTYPE      338872 non-null  object  \n",
      " 17  ERUID        338872 non-null  object  \n",
      " 18  ERNAME       338872 non-null  object  \n",
      " 19  SACCODE      338872 non-null  object  \n",
      " 20  SACTYPE      338872 non-null  object  \n",
      " 21  CMAUID       166387 non-null  object  \n",
      " 22  CMAPUID      166387 non-null  object  \n",
      " 23  CMANAME      166387 non-null  object  \n",
      " 24  CMATYPE      166387 non-null  object  \n",
      " 25  CTUID        130203 non-null  object  \n",
      " 26  CTNAME       130203 non-null  object  \n",
      " 27  ADAUID       338872 non-null  object  \n",
      " 28  das_area     338872 non-null  float64 \n",
      " 29  tile_area    338872 non-null  float64 \n",
      " 30  tile_frac    338872 non-null  float64 \n",
      " 31  das_frac     338872 non-null  float64 \n",
      " 32  DAPOP        338872 non-null  int64   \n",
      " 33  POP_DENSITY  338872 non-null  float64 \n",
      " 34  PCUID        102045 non-null  object  \n",
      " 35  PCNAME       102045 non-null  object  \n",
      " 36  PCTYPE       102045 non-null  object  \n",
      " 37  PCPUID       102045 non-null  object  \n",
      " 38  PCCLASS      102045 non-null  object  \n",
      "dtypes: float64(7), geometry(1), int64(5), object(26)\n",
      "memory usage: 103.4+ MB\n"
     ]
    }
   ],
   "source": [
    "features_table.info()#features_table.to_csv(\"Features.csv\")"
   ]
  },
  {
   "cell_type": "code",
   "execution_count": 178,
   "id": "f6ffacfe-0a63-46bf-98b3-7937dcc8a047",
   "metadata": {
    "tags": []
   },
   "outputs": [
    {
     "data": {
      "text/html": [
       "<div>\n",
       "<style scoped>\n",
       "    .dataframe tbody tr th:only-of-type {\n",
       "        vertical-align: middle;\n",
       "    }\n",
       "\n",
       "    .dataframe tbody tr th {\n",
       "        vertical-align: top;\n",
       "    }\n",
       "\n",
       "    .dataframe thead th {\n",
       "        text-align: right;\n",
       "    }\n",
       "</style>\n",
       "<table border=\"1\" class=\"dataframe\">\n",
       "  <thead>\n",
       "    <tr style=\"text-align: right;\">\n",
       "      <th></th>\n",
       "      <th>quadkey</th>\n",
       "      <th>avg_d_kbps</th>\n",
       "      <th>avg_u_kbps</th>\n",
       "      <th>tests</th>\n",
       "      <th>devices</th>\n",
       "      <th>DAUID</th>\n",
       "      <th>das_area</th>\n",
       "      <th>tile_area</th>\n",
       "      <th>tile_frac</th>\n",
       "      <th>das_frac</th>\n",
       "      <th>DAPOP</th>\n",
       "      <th>POP_DENSITY</th>\n",
       "      <th>avg_d_mbps</th>\n",
       "      <th>avg_u_mbps</th>\n",
       "    </tr>\n",
       "  </thead>\n",
       "  <tbody>\n",
       "    <tr>\n",
       "      <th>count</th>\n",
       "      <td>3.388720e+05</td>\n",
       "      <td>338872.000000</td>\n",
       "      <td>338872.000000</td>\n",
       "      <td>338872.000000</td>\n",
       "      <td>338872.000000</td>\n",
       "      <td>3.388720e+05</td>\n",
       "      <td>3.388720e+05</td>\n",
       "      <td>338872.000000</td>\n",
       "      <td>3.388720e+05</td>\n",
       "      <td>3.388720e+05</td>\n",
       "      <td>338872.000000</td>\n",
       "      <td>338872.000000</td>\n",
       "      <td>338872.000000</td>\n",
       "      <td>338872.000000</td>\n",
       "    </tr>\n",
       "    <tr>\n",
       "      <th>mean</th>\n",
       "      <td>2.699262e+14</td>\n",
       "      <td>103874.745491</td>\n",
       "      <td>40856.405380</td>\n",
       "      <td>32.430874</td>\n",
       "      <td>9.786102</td>\n",
       "      <td>3.589412e+07</td>\n",
       "      <td>7.740654e+08</td>\n",
       "      <td>173463.695647</td>\n",
       "      <td>8.470142e-01</td>\n",
       "      <td>6.315359e-02</td>\n",
       "      <td>760.795905</td>\n",
       "      <td>438.453000</td>\n",
       "      <td>103.376198</td>\n",
       "      <td>40.345009</td>\n",
       "    </tr>\n",
       "    <tr>\n",
       "      <th>std</th>\n",
       "      <td>4.337019e+13</td>\n",
       "      <td>107993.249061</td>\n",
       "      <td>65208.417261</td>\n",
       "      <td>86.619264</td>\n",
       "      <td>24.184333</td>\n",
       "      <td>1.373637e+07</td>\n",
       "      <td>1.211246e+10</td>\n",
       "      <td>26801.510211</td>\n",
       "      <td>2.112869e-01</td>\n",
       "      <td>1.467736e-01</td>\n",
       "      <td>986.384968</td>\n",
       "      <td>1219.806608</td>\n",
       "      <td>107.993836</td>\n",
       "      <td>65.216073</td>\n",
       "    </tr>\n",
       "    <tr>\n",
       "      <th>min</th>\n",
       "      <td>2.333113e+13</td>\n",
       "      <td>1.000000</td>\n",
       "      <td>1.000000</td>\n",
       "      <td>1.000000</td>\n",
       "      <td>1.000000</td>\n",
       "      <td>1.001016e+07</td>\n",
       "      <td>1.261864e+04</td>\n",
       "      <td>25542.716805</td>\n",
       "      <td>1.844074e-07</td>\n",
       "      <td>1.424860e-10</td>\n",
       "      <td>0.000000</td>\n",
       "      <td>0.000000</td>\n",
       "      <td>0.000000</td>\n",
       "      <td>0.000000</td>\n",
       "    </tr>\n",
       "    <tr>\n",
       "      <th>25%</th>\n",
       "      <td>2.130033e+14</td>\n",
       "      <td>19770.000000</td>\n",
       "      <td>3725.246132</td>\n",
       "      <td>1.000000</td>\n",
       "      <td>1.000000</td>\n",
       "      <td>2.467030e+07</td>\n",
       "      <td>4.034467e+06</td>\n",
       "      <td>154265.690090</td>\n",
       "      <td>7.001236e-01</td>\n",
       "      <td>1.624296e-03</td>\n",
       "      <td>465.000000</td>\n",
       "      <td>5.733951</td>\n",
       "      <td>19.000000</td>\n",
       "      <td>3.000000</td>\n",
       "    </tr>\n",
       "    <tr>\n",
       "      <th>50%</th>\n",
       "      <td>3.022313e+14</td>\n",
       "      <td>62284.333333</td>\n",
       "      <td>12757.062500</td>\n",
       "      <td>5.000000</td>\n",
       "      <td>2.000000</td>\n",
       "      <td>3.529024e+07</td>\n",
       "      <td>2.582858e+07</td>\n",
       "      <td>182110.523612</td>\n",
       "      <td>9.994030e-01</td>\n",
       "      <td>6.150156e-03</td>\n",
       "      <td>565.000000</td>\n",
       "      <td>22.723461</td>\n",
       "      <td>62.000000</td>\n",
       "      <td>12.000000</td>\n",
       "    </tr>\n",
       "    <tr>\n",
       "      <th>75%</th>\n",
       "      <td>3.023120e+14</td>\n",
       "      <td>168659.271429</td>\n",
       "      <td>52885.430000</td>\n",
       "      <td>23.000000</td>\n",
       "      <td>7.000000</td>\n",
       "      <td>4.801018e+07</td>\n",
       "      <td>9.289419e+07</td>\n",
       "      <td>193457.361777</td>\n",
       "      <td>1.000000e+00</td>\n",
       "      <td>3.376454e-02</td>\n",
       "      <td>745.000000</td>\n",
       "      <td>189.146266</td>\n",
       "      <td>168.000000</td>\n",
       "      <td>52.000000</td>\n",
       "    </tr>\n",
       "    <tr>\n",
       "      <th>max</th>\n",
       "      <td>3.033030e+14</td>\n",
       "      <td>933773.000000</td>\n",
       "      <td>914277.000000</td>\n",
       "      <td>3958.000000</td>\n",
       "      <td>1576.000000</td>\n",
       "      <td>6.208002e+07</td>\n",
       "      <td>1.015008e+12</td>\n",
       "      <td>222655.924666</td>\n",
       "      <td>1.000000e+00</td>\n",
       "      <td>1.000000e+00</td>\n",
       "      <td>22075.000000</td>\n",
       "      <td>96751.104100</td>\n",
       "      <td>933.000000</td>\n",
       "      <td>914.000000</td>\n",
       "    </tr>\n",
       "  </tbody>\n",
       "</table>\n",
       "</div>"
      ],
      "text/plain": [
       "            quadkey     avg_d_kbps     avg_u_kbps          tests   \n",
       "count  3.388720e+05  338872.000000  338872.000000  338872.000000  \\\n",
       "mean   2.699262e+14  103874.745491   40856.405380      32.430874   \n",
       "std    4.337019e+13  107993.249061   65208.417261      86.619264   \n",
       "min    2.333113e+13       1.000000       1.000000       1.000000   \n",
       "25%    2.130033e+14   19770.000000    3725.246132       1.000000   \n",
       "50%    3.022313e+14   62284.333333   12757.062500       5.000000   \n",
       "75%    3.023120e+14  168659.271429   52885.430000      23.000000   \n",
       "max    3.033030e+14  933773.000000  914277.000000    3958.000000   \n",
       "\n",
       "             devices         DAUID      das_area      tile_area     tile_frac   \n",
       "count  338872.000000  3.388720e+05  3.388720e+05  338872.000000  3.388720e+05  \\\n",
       "mean        9.786102  3.589412e+07  7.740654e+08  173463.695647  8.470142e-01   \n",
       "std        24.184333  1.373637e+07  1.211246e+10   26801.510211  2.112869e-01   \n",
       "min         1.000000  1.001016e+07  1.261864e+04   25542.716805  1.844074e-07   \n",
       "25%         1.000000  2.467030e+07  4.034467e+06  154265.690090  7.001236e-01   \n",
       "50%         2.000000  3.529024e+07  2.582858e+07  182110.523612  9.994030e-01   \n",
       "75%         7.000000  4.801018e+07  9.289419e+07  193457.361777  1.000000e+00   \n",
       "max      1576.000000  6.208002e+07  1.015008e+12  222655.924666  1.000000e+00   \n",
       "\n",
       "           das_frac          DAPOP    POP_DENSITY     avg_d_mbps   \n",
       "count  3.388720e+05  338872.000000  338872.000000  338872.000000  \\\n",
       "mean   6.315359e-02     760.795905     438.453000     103.376198   \n",
       "std    1.467736e-01     986.384968    1219.806608     107.993836   \n",
       "min    1.424860e-10       0.000000       0.000000       0.000000   \n",
       "25%    1.624296e-03     465.000000       5.733951      19.000000   \n",
       "50%    6.150156e-03     565.000000      22.723461      62.000000   \n",
       "75%    3.376454e-02     745.000000     189.146266     168.000000   \n",
       "max    1.000000e+00   22075.000000   96751.104100     933.000000   \n",
       "\n",
       "          avg_u_mbps  \n",
       "count  338872.000000  \n",
       "mean       40.345009  \n",
       "std        65.216073  \n",
       "min         0.000000  \n",
       "25%         3.000000  \n",
       "50%        12.000000  \n",
       "75%        52.000000  \n",
       "max       914.000000  "
      ]
     },
     "execution_count": 178,
     "metadata": {},
     "output_type": "execute_result"
    }
   ],
   "source": [
    "#As we want to wokr with the MBps speed adding a column with MBPS of up and down streams.\n",
    "features_table[\"avg_d_mbps\"]=features_table[\"avg_d_kbps\"]//1000.0\n",
    "features_table[\"avg_u_mbps\"]=features_table[\"avg_u_kbps\"]//1000.0\n",
    "features_table.describe()"
   ]
  },
  {
   "cell_type": "code",
   "execution_count": null,
   "id": "15e82510-6544-4e32-aefb-d993fb2fa3b4",
   "metadata": {
    "tags": []
   },
   "outputs": [],
   "source": [
    "#Finding unique values for each columns\n",
    "for i in range(0,38):\n",
    "    print(\"-------Finding unique values in column ----------- \"+ features_table.columns[i])\n",
    "    print(features_table[features_table.columns[i]].unique())"
   ]
  },
  {
   "cell_type": "code",
   "execution_count": null,
   "id": "23458920-b237-489a-9618-3ecd2a43dc82",
   "metadata": {
    "tags": []
   },
   "outputs": [],
   "source": [
    "#Mean and Standard dev for each provience along with total size of location in each provience0) \n",
    "Feature_all_downspeed = features_table.groupby(\"PRNAME\")[\"avg_d_mbps\"].agg(['size','mean','std']).reset_index()\n",
    "Feature_all_downspeed.columns = [\"Proviences\",\"Size_Total\",\"Mean_Download_Speed\",\"std_Download_Speed\"]\n",
    "Feature_all_downspeed.head(13)"
   ]
  },
  {
   "cell_type": "code",
   "execution_count": 207,
   "id": "55c75ce3-cb31-44c7-9baa-b3dbf3ad9942",
   "metadata": {
    "tags": []
   },
   "outputs": [
    {
     "data": {
      "text/html": [
       "<div>\n",
       "<style scoped>\n",
       "    .dataframe tbody tr th:only-of-type {\n",
       "        vertical-align: middle;\n",
       "    }\n",
       "\n",
       "    .dataframe tbody tr th {\n",
       "        vertical-align: top;\n",
       "    }\n",
       "\n",
       "    .dataframe thead th {\n",
       "        text-align: right;\n",
       "    }\n",
       "</style>\n",
       "<table border=\"1\" class=\"dataframe\">\n",
       "  <thead>\n",
       "    <tr style=\"text-align: right;\">\n",
       "      <th></th>\n",
       "      <th>Proviences</th>\n",
       "      <th>Size_Total</th>\n",
       "      <th>Mean_Download_Speed</th>\n",
       "      <th>std_Download_Speed</th>\n",
       "      <th>Mean_Upload_Speed</th>\n",
       "      <th>STD_Upload_Speed</th>\n",
       "    </tr>\n",
       "  </thead>\n",
       "  <tbody>\n",
       "    <tr>\n",
       "      <th>0</th>\n",
       "      <td>Alberta</td>\n",
       "      <td>46933</td>\n",
       "      <td>88.96022</td>\n",
       "      <td>99.179564</td>\n",
       "      <td>33.174589</td>\n",
       "      <td>51.976972</td>\n",
       "    </tr>\n",
       "    <tr>\n",
       "      <th>1</th>\n",
       "      <td>British Columbia / Colombie-Britannique</td>\n",
       "      <td>37060</td>\n",
       "      <td>150.566838</td>\n",
       "      <td>124.436208</td>\n",
       "      <td>64.355235</td>\n",
       "      <td>72.662968</td>\n",
       "    </tr>\n",
       "    <tr>\n",
       "      <th>2</th>\n",
       "      <td>Manitoba</td>\n",
       "      <td>20194</td>\n",
       "      <td>81.436318</td>\n",
       "      <td>86.908821</td>\n",
       "      <td>31.959493</td>\n",
       "      <td>59.413703</td>\n",
       "    </tr>\n",
       "    <tr>\n",
       "      <th>3</th>\n",
       "      <td>New Brunswick / Nouveau-Brunswick</td>\n",
       "      <td>13229</td>\n",
       "      <td>141.915715</td>\n",
       "      <td>138.299939</td>\n",
       "      <td>39.408723</td>\n",
       "      <td>58.84547</td>\n",
       "    </tr>\n",
       "    <tr>\n",
       "      <th>4</th>\n",
       "      <td>Newfoundland and Labrador / Terre-Neuve-et-Lab...</td>\n",
       "      <td>6747</td>\n",
       "      <td>141.556544</td>\n",
       "      <td>120.608244</td>\n",
       "      <td>43.766859</td>\n",
       "      <td>63.201958</td>\n",
       "    </tr>\n",
       "    <tr>\n",
       "      <th>5</th>\n",
       "      <td>Northwest Territories / Territoires du Nord-Ouest</td>\n",
       "      <td>381</td>\n",
       "      <td>67.425197</td>\n",
       "      <td>52.31411</td>\n",
       "      <td>19.385827</td>\n",
       "      <td>32.127963</td>\n",
       "    </tr>\n",
       "    <tr>\n",
       "      <th>6</th>\n",
       "      <td>Nova Scotia / Nouvelle-Écosse</td>\n",
       "      <td>15962</td>\n",
       "      <td>129.114522</td>\n",
       "      <td>115.591789</td>\n",
       "      <td>46.401704</td>\n",
       "      <td>65.876107</td>\n",
       "    </tr>\n",
       "    <tr>\n",
       "      <th>7</th>\n",
       "      <td>Nunavut</td>\n",
       "      <td>87</td>\n",
       "      <td>15.252874</td>\n",
       "      <td>29.994658</td>\n",
       "      <td>3.54023</td>\n",
       "      <td>9.317157</td>\n",
       "    </tr>\n",
       "    <tr>\n",
       "      <th>8</th>\n",
       "      <td>Ontario</td>\n",
       "      <td>108300</td>\n",
       "      <td>89.650194</td>\n",
       "      <td>101.872474</td>\n",
       "      <td>29.222068</td>\n",
       "      <td>56.631427</td>\n",
       "    </tr>\n",
       "    <tr>\n",
       "      <th>9</th>\n",
       "      <td>Prince Edward Island / Île-du-Prince-Édouard</td>\n",
       "      <td>4358</td>\n",
       "      <td>96.897659</td>\n",
       "      <td>101.607281</td>\n",
       "      <td>42.96994</td>\n",
       "      <td>78.797689</td>\n",
       "    </tr>\n",
       "    <tr>\n",
       "      <th>10</th>\n",
       "      <td>Quebec / Québec</td>\n",
       "      <td>70612</td>\n",
       "      <td>107.645613</td>\n",
       "      <td>103.977077</td>\n",
       "      <td>54.966875</td>\n",
       "      <td>79.804898</td>\n",
       "    </tr>\n",
       "    <tr>\n",
       "      <th>11</th>\n",
       "      <td>Saskatchewan</td>\n",
       "      <td>14539</td>\n",
       "      <td>65.838091</td>\n",
       "      <td>73.259276</td>\n",
       "      <td>19.392118</td>\n",
       "      <td>36.455886</td>\n",
       "    </tr>\n",
       "    <tr>\n",
       "      <th>12</th>\n",
       "      <td>Yukon</td>\n",
       "      <td>470</td>\n",
       "      <td>45.706383</td>\n",
       "      <td>49.146782</td>\n",
       "      <td>8.82766</td>\n",
       "      <td>18.491457</td>\n",
       "    </tr>\n",
       "  </tbody>\n",
       "</table>\n",
       "</div>"
      ],
      "text/plain": [
       "                                           Proviences Size_Total   \n",
       "0                                             Alberta      46933  \\\n",
       "1             British Columbia / Colombie-Britannique      37060   \n",
       "2                                            Manitoba      20194   \n",
       "3                   New Brunswick / Nouveau-Brunswick      13229   \n",
       "4   Newfoundland and Labrador / Terre-Neuve-et-Lab...       6747   \n",
       "5   Northwest Territories / Territoires du Nord-Ouest        381   \n",
       "6                       Nova Scotia / Nouvelle-Écosse      15962   \n",
       "7                                             Nunavut         87   \n",
       "8                                             Ontario     108300   \n",
       "9        Prince Edward Island / Île-du-Prince-Édouard       4358   \n",
       "10                                    Quebec / Québec      70612   \n",
       "11                                       Saskatchewan      14539   \n",
       "12                                              Yukon        470   \n",
       "\n",
       "   Mean_Download_Speed std_Download_Speed Mean_Upload_Speed STD_Upload_Speed  \n",
       "0             88.96022          99.179564         33.174589        51.976972  \n",
       "1           150.566838         124.436208         64.355235        72.662968  \n",
       "2            81.436318          86.908821         31.959493        59.413703  \n",
       "3           141.915715         138.299939         39.408723         58.84547  \n",
       "4           141.556544         120.608244         43.766859        63.201958  \n",
       "5            67.425197           52.31411         19.385827        32.127963  \n",
       "6           129.114522         115.591789         46.401704        65.876107  \n",
       "7            15.252874          29.994658           3.54023         9.317157  \n",
       "8            89.650194         101.872474         29.222068        56.631427  \n",
       "9            96.897659         101.607281          42.96994        78.797689  \n",
       "10          107.645613         103.977077         54.966875        79.804898  \n",
       "11           65.838091          73.259276         19.392118        36.455886  \n",
       "12           45.706383          49.146782           8.82766        18.491457  "
      ]
     },
     "execution_count": 207,
     "metadata": {},
     "output_type": "execute_result"
    }
   ],
   "source": [
    "Feature_all_upspeed = features_table.groupby(\"PRNAME\")[\"avg_u_mbps\"].agg(['size','mean','std']).reset_index()\n",
    "Feature_all_upspeed.columns = [\"Proviences\",\"Size_Total\",\"Mean_Upload_Speed\",\"STD_Upload_Speed\"]\n",
    "Feature_all_upspeed.head(13)\n",
    "\n",
    "#TODO: Size total will be used to find the gap between total location having internet vs Total location not meeting the speed criteria the GAP.\n",
    "\n",
    "frames=[Feature_all_downspeed,Feature_all_upspeed]\n",
    "result = pd.concat(frames,axis=1)\n",
    "result = result.T.drop_duplicates().T\n",
    "result.head(13)"
   ]
  },
  {
   "cell_type": "code",
   "execution_count": null,
   "id": "7f95db3f-ba1a-480b-b00d-88d938a648e0",
   "metadata": {
    "tags": []
   },
   "outputs": [],
   "source": [
    "#Similarly repeating process for internet criteria\n",
    "#Finding how many locations does not meet the criteria of min up/download speed by provience\n",
    "Query_up_down_speed = features_table.query('avg_d_mbps < 50 | avg_u_mbps < 10')\n",
    "\n",
    "#For Download speeed\n",
    "Query_downspeed = Query_up_down_speed.groupby(\"PRNAME\")[\"avg_d_mbps\"].agg(['size','mean','std',]).reset_index()\n",
    "Query_downspeed.columns = [\"Proviences\",\"Crt_Size_Total\",\"Crt_Mean_Download_Speed\",\"Crt_std_Download_Speed\"]\n",
    "Query_downspeed.head(30)"
   ]
  },
  {
   "cell_type": "code",
   "execution_count": null,
   "id": "ca7f552a-a1ea-4f4c-bd10-48ba43f13390",
   "metadata": {
    "tags": []
   },
   "outputs": [],
   "source": [
    "#For upload speed\n",
    "Query_upspeed = Query_up_down_speed.groupby(\"PRNAME\")[\"avg_u_mbps\"].agg(['size','mean','std']).reset_index()\n",
    "Query_upspeed.columns = [\"Proviences\",\"Crt_Size_Total\",\"Crt_Mean_Up_Speed\",\"Crt_std_Up_Speed\"]\n",
    "Query_upspeed.head(30)"
   ]
  },
  {
   "cell_type": "code",
   "execution_count": 206,
   "id": "1b1af5a8-4c7c-4bf7-9bc4-926def163726",
   "metadata": {
    "tags": []
   },
   "outputs": [
    {
     "data": {
      "text/html": [
       "<div>\n",
       "<style scoped>\n",
       "    .dataframe tbody tr th:only-of-type {\n",
       "        vertical-align: middle;\n",
       "    }\n",
       "\n",
       "    .dataframe tbody tr th {\n",
       "        vertical-align: top;\n",
       "    }\n",
       "\n",
       "    .dataframe thead th {\n",
       "        text-align: right;\n",
       "    }\n",
       "</style>\n",
       "<table border=\"1\" class=\"dataframe\">\n",
       "  <thead>\n",
       "    <tr style=\"text-align: right;\">\n",
       "      <th></th>\n",
       "      <th>Proviences</th>\n",
       "      <th>Crt_Size_Total</th>\n",
       "      <th>Crt_Mean_Download_Speed</th>\n",
       "      <th>Crt_std_Download_Speed</th>\n",
       "      <th>Crt_Mean_Up_Speed</th>\n",
       "      <th>Crt_std_Up_Speed</th>\n",
       "    </tr>\n",
       "  </thead>\n",
       "  <tbody>\n",
       "    <tr>\n",
       "      <th>0</th>\n",
       "      <td>Alberta</td>\n",
       "      <td>28645</td>\n",
       "      <td>27.33587</td>\n",
       "      <td>29.772997</td>\n",
       "      <td>6.957689</td>\n",
       "      <td>8.556512</td>\n",
       "    </tr>\n",
       "    <tr>\n",
       "      <th>1</th>\n",
       "      <td>British Columbia / Colombie-Britannique</td>\n",
       "      <td>11520</td>\n",
       "      <td>30.925174</td>\n",
       "      <td>34.779705</td>\n",
       "      <td>9.908247</td>\n",
       "      <td>12.759966</td>\n",
       "    </tr>\n",
       "    <tr>\n",
       "      <th>2</th>\n",
       "      <td>Manitoba</td>\n",
       "      <td>12260</td>\n",
       "      <td>30.634502</td>\n",
       "      <td>33.202787</td>\n",
       "      <td>6.107259</td>\n",
       "      <td>11.330834</td>\n",
       "    </tr>\n",
       "    <tr>\n",
       "      <th>3</th>\n",
       "      <td>New Brunswick / Nouveau-Brunswick</td>\n",
       "      <td>5370</td>\n",
       "      <td>28.741527</td>\n",
       "      <td>38.468404</td>\n",
       "      <td>5.584171</td>\n",
       "      <td>11.586166</td>\n",
       "    </tr>\n",
       "    <tr>\n",
       "      <th>4</th>\n",
       "      <td>Newfoundland and Labrador / Terre-Neuve-et-Lab...</td>\n",
       "      <td>2912</td>\n",
       "      <td>56.487294</td>\n",
       "      <td>81.856997</td>\n",
       "      <td>5.619849</td>\n",
       "      <td>8.362949</td>\n",
       "    </tr>\n",
       "    <tr>\n",
       "      <th>5</th>\n",
       "      <td>Northwest Territories / Territoires du Nord-Ouest</td>\n",
       "      <td>188</td>\n",
       "      <td>29.989362</td>\n",
       "      <td>28.431546</td>\n",
       "      <td>7.648936</td>\n",
       "      <td>9.970767</td>\n",
       "    </tr>\n",
       "    <tr>\n",
       "      <th>6</th>\n",
       "      <td>Nova Scotia / Nouvelle-Écosse</td>\n",
       "      <td>6678</td>\n",
       "      <td>43.063193</td>\n",
       "      <td>63.232726</td>\n",
       "      <td>6.681342</td>\n",
       "      <td>10.638982</td>\n",
       "    </tr>\n",
       "    <tr>\n",
       "      <th>7</th>\n",
       "      <td>Nunavut</td>\n",
       "      <td>83</td>\n",
       "      <td>10.192771</td>\n",
       "      <td>8.200919</td>\n",
       "      <td>2.819277</td>\n",
       "      <td>8.744538</td>\n",
       "    </tr>\n",
       "    <tr>\n",
       "      <th>8</th>\n",
       "      <td>Ontario</td>\n",
       "      <td>64688</td>\n",
       "      <td>25.32009</td>\n",
       "      <td>31.405652</td>\n",
       "      <td>4.632668</td>\n",
       "      <td>7.76883</td>\n",
       "    </tr>\n",
       "    <tr>\n",
       "      <th>9</th>\n",
       "      <td>Prince Edward Island / Île-du-Prince-Édouard</td>\n",
       "      <td>2438</td>\n",
       "      <td>34.650943</td>\n",
       "      <td>50.58211</td>\n",
       "      <td>5.567268</td>\n",
       "      <td>9.595865</td>\n",
       "    </tr>\n",
       "    <tr>\n",
       "      <th>10</th>\n",
       "      <td>Quebec / Québec</td>\n",
       "      <td>28832</td>\n",
       "      <td>25.319575</td>\n",
       "      <td>23.58826</td>\n",
       "      <td>8.035239</td>\n",
       "      <td>11.22948</td>\n",
       "    </tr>\n",
       "    <tr>\n",
       "      <th>11</th>\n",
       "      <td>Saskatchewan</td>\n",
       "      <td>9600</td>\n",
       "      <td>27.183542</td>\n",
       "      <td>29.187405</td>\n",
       "      <td>4.675313</td>\n",
       "      <td>6.974041</td>\n",
       "    </tr>\n",
       "    <tr>\n",
       "      <th>12</th>\n",
       "      <td>Yukon</td>\n",
       "      <td>332</td>\n",
       "      <td>21.804217</td>\n",
       "      <td>24.056471</td>\n",
       "      <td>4.855422</td>\n",
       "      <td>9.106463</td>\n",
       "    </tr>\n",
       "  </tbody>\n",
       "</table>\n",
       "</div>"
      ],
      "text/plain": [
       "                                           Proviences Crt_Size_Total   \n",
       "0                                             Alberta          28645  \\\n",
       "1             British Columbia / Colombie-Britannique          11520   \n",
       "2                                            Manitoba          12260   \n",
       "3                   New Brunswick / Nouveau-Brunswick           5370   \n",
       "4   Newfoundland and Labrador / Terre-Neuve-et-Lab...           2912   \n",
       "5   Northwest Territories / Territoires du Nord-Ouest            188   \n",
       "6                       Nova Scotia / Nouvelle-Écosse           6678   \n",
       "7                                             Nunavut             83   \n",
       "8                                             Ontario          64688   \n",
       "9        Prince Edward Island / Île-du-Prince-Édouard           2438   \n",
       "10                                    Quebec / Québec          28832   \n",
       "11                                       Saskatchewan           9600   \n",
       "12                                              Yukon            332   \n",
       "\n",
       "   Crt_Mean_Download_Speed Crt_std_Download_Speed Crt_Mean_Up_Speed   \n",
       "0                 27.33587              29.772997          6.957689  \\\n",
       "1                30.925174              34.779705          9.908247   \n",
       "2                30.634502              33.202787          6.107259   \n",
       "3                28.741527              38.468404          5.584171   \n",
       "4                56.487294              81.856997          5.619849   \n",
       "5                29.989362              28.431546          7.648936   \n",
       "6                43.063193              63.232726          6.681342   \n",
       "7                10.192771               8.200919          2.819277   \n",
       "8                 25.32009              31.405652          4.632668   \n",
       "9                34.650943               50.58211          5.567268   \n",
       "10               25.319575               23.58826          8.035239   \n",
       "11               27.183542              29.187405          4.675313   \n",
       "12               21.804217              24.056471          4.855422   \n",
       "\n",
       "   Crt_std_Up_Speed  \n",
       "0          8.556512  \n",
       "1         12.759966  \n",
       "2         11.330834  \n",
       "3         11.586166  \n",
       "4          8.362949  \n",
       "5          9.970767  \n",
       "6         10.638982  \n",
       "7          8.744538  \n",
       "8           7.76883  \n",
       "9          9.595865  \n",
       "10         11.22948  \n",
       "11         6.974041  \n",
       "12         9.106463  "
      ]
     },
     "execution_count": 206,
     "metadata": {},
     "output_type": "execute_result"
    }
   ],
   "source": [
    "frames_crt=[Query_downspeed,Query_upspeed]\n",
    "result_crt = pd.concat(frames_crt,axis=1)\n",
    "result_crt = result_crt.T.drop_duplicates().T\n",
    "result_crt.head(13)"
   ]
  },
  {
   "cell_type": "code",
   "execution_count": 208,
   "id": "c44235fe-9ca7-4d6f-935c-fb1aa07cf831",
   "metadata": {
    "tags": []
   },
   "outputs": [
    {
     "data": {
      "text/html": [
       "<div>\n",
       "<style scoped>\n",
       "    .dataframe tbody tr th:only-of-type {\n",
       "        vertical-align: middle;\n",
       "    }\n",
       "\n",
       "    .dataframe tbody tr th {\n",
       "        vertical-align: top;\n",
       "    }\n",
       "\n",
       "    .dataframe thead th {\n",
       "        text-align: right;\n",
       "    }\n",
       "</style>\n",
       "<table border=\"1\" class=\"dataframe\">\n",
       "  <thead>\n",
       "    <tr style=\"text-align: right;\">\n",
       "      <th></th>\n",
       "      <th>Proviences</th>\n",
       "      <th>Size_Total</th>\n",
       "      <th>Mean_Download_Speed</th>\n",
       "      <th>std_Download_Speed</th>\n",
       "      <th>Mean_Upload_Speed</th>\n",
       "      <th>STD_Upload_Speed</th>\n",
       "      <th>Crt_Size_Total</th>\n",
       "      <th>Crt_Mean_Download_Speed</th>\n",
       "      <th>Crt_std_Download_Speed</th>\n",
       "      <th>Crt_Mean_Up_Speed</th>\n",
       "      <th>Crt_std_Up_Speed</th>\n",
       "    </tr>\n",
       "  </thead>\n",
       "  <tbody>\n",
       "    <tr>\n",
       "      <th>0</th>\n",
       "      <td>Alberta</td>\n",
       "      <td>46933</td>\n",
       "      <td>88.96022</td>\n",
       "      <td>99.179564</td>\n",
       "      <td>33.174589</td>\n",
       "      <td>51.976972</td>\n",
       "      <td>28645</td>\n",
       "      <td>27.33587</td>\n",
       "      <td>29.772997</td>\n",
       "      <td>6.957689</td>\n",
       "      <td>8.556512</td>\n",
       "    </tr>\n",
       "    <tr>\n",
       "      <th>1</th>\n",
       "      <td>British Columbia / Colombie-Britannique</td>\n",
       "      <td>37060</td>\n",
       "      <td>150.566838</td>\n",
       "      <td>124.436208</td>\n",
       "      <td>64.355235</td>\n",
       "      <td>72.662968</td>\n",
       "      <td>11520</td>\n",
       "      <td>30.925174</td>\n",
       "      <td>34.779705</td>\n",
       "      <td>9.908247</td>\n",
       "      <td>12.759966</td>\n",
       "    </tr>\n",
       "    <tr>\n",
       "      <th>2</th>\n",
       "      <td>Manitoba</td>\n",
       "      <td>20194</td>\n",
       "      <td>81.436318</td>\n",
       "      <td>86.908821</td>\n",
       "      <td>31.959493</td>\n",
       "      <td>59.413703</td>\n",
       "      <td>12260</td>\n",
       "      <td>30.634502</td>\n",
       "      <td>33.202787</td>\n",
       "      <td>6.107259</td>\n",
       "      <td>11.330834</td>\n",
       "    </tr>\n",
       "    <tr>\n",
       "      <th>3</th>\n",
       "      <td>New Brunswick / Nouveau-Brunswick</td>\n",
       "      <td>13229</td>\n",
       "      <td>141.915715</td>\n",
       "      <td>138.299939</td>\n",
       "      <td>39.408723</td>\n",
       "      <td>58.84547</td>\n",
       "      <td>5370</td>\n",
       "      <td>28.741527</td>\n",
       "      <td>38.468404</td>\n",
       "      <td>5.584171</td>\n",
       "      <td>11.586166</td>\n",
       "    </tr>\n",
       "    <tr>\n",
       "      <th>4</th>\n",
       "      <td>Newfoundland and Labrador / Terre-Neuve-et-Lab...</td>\n",
       "      <td>6747</td>\n",
       "      <td>141.556544</td>\n",
       "      <td>120.608244</td>\n",
       "      <td>43.766859</td>\n",
       "      <td>63.201958</td>\n",
       "      <td>2912</td>\n",
       "      <td>56.487294</td>\n",
       "      <td>81.856997</td>\n",
       "      <td>5.619849</td>\n",
       "      <td>8.362949</td>\n",
       "    </tr>\n",
       "    <tr>\n",
       "      <th>5</th>\n",
       "      <td>Northwest Territories / Territoires du Nord-Ouest</td>\n",
       "      <td>381</td>\n",
       "      <td>67.425197</td>\n",
       "      <td>52.31411</td>\n",
       "      <td>19.385827</td>\n",
       "      <td>32.127963</td>\n",
       "      <td>188</td>\n",
       "      <td>29.989362</td>\n",
       "      <td>28.431546</td>\n",
       "      <td>7.648936</td>\n",
       "      <td>9.970767</td>\n",
       "    </tr>\n",
       "    <tr>\n",
       "      <th>6</th>\n",
       "      <td>Nova Scotia / Nouvelle-Écosse</td>\n",
       "      <td>15962</td>\n",
       "      <td>129.114522</td>\n",
       "      <td>115.591789</td>\n",
       "      <td>46.401704</td>\n",
       "      <td>65.876107</td>\n",
       "      <td>6678</td>\n",
       "      <td>43.063193</td>\n",
       "      <td>63.232726</td>\n",
       "      <td>6.681342</td>\n",
       "      <td>10.638982</td>\n",
       "    </tr>\n",
       "    <tr>\n",
       "      <th>7</th>\n",
       "      <td>Nunavut</td>\n",
       "      <td>87</td>\n",
       "      <td>15.252874</td>\n",
       "      <td>29.994658</td>\n",
       "      <td>3.54023</td>\n",
       "      <td>9.317157</td>\n",
       "      <td>83</td>\n",
       "      <td>10.192771</td>\n",
       "      <td>8.200919</td>\n",
       "      <td>2.819277</td>\n",
       "      <td>8.744538</td>\n",
       "    </tr>\n",
       "    <tr>\n",
       "      <th>8</th>\n",
       "      <td>Ontario</td>\n",
       "      <td>108300</td>\n",
       "      <td>89.650194</td>\n",
       "      <td>101.872474</td>\n",
       "      <td>29.222068</td>\n",
       "      <td>56.631427</td>\n",
       "      <td>64688</td>\n",
       "      <td>25.32009</td>\n",
       "      <td>31.405652</td>\n",
       "      <td>4.632668</td>\n",
       "      <td>7.76883</td>\n",
       "    </tr>\n",
       "    <tr>\n",
       "      <th>9</th>\n",
       "      <td>Prince Edward Island / Île-du-Prince-Édouard</td>\n",
       "      <td>4358</td>\n",
       "      <td>96.897659</td>\n",
       "      <td>101.607281</td>\n",
       "      <td>42.96994</td>\n",
       "      <td>78.797689</td>\n",
       "      <td>2438</td>\n",
       "      <td>34.650943</td>\n",
       "      <td>50.58211</td>\n",
       "      <td>5.567268</td>\n",
       "      <td>9.595865</td>\n",
       "    </tr>\n",
       "    <tr>\n",
       "      <th>10</th>\n",
       "      <td>Quebec / Québec</td>\n",
       "      <td>70612</td>\n",
       "      <td>107.645613</td>\n",
       "      <td>103.977077</td>\n",
       "      <td>54.966875</td>\n",
       "      <td>79.804898</td>\n",
       "      <td>28832</td>\n",
       "      <td>25.319575</td>\n",
       "      <td>23.58826</td>\n",
       "      <td>8.035239</td>\n",
       "      <td>11.22948</td>\n",
       "    </tr>\n",
       "    <tr>\n",
       "      <th>11</th>\n",
       "      <td>Saskatchewan</td>\n",
       "      <td>14539</td>\n",
       "      <td>65.838091</td>\n",
       "      <td>73.259276</td>\n",
       "      <td>19.392118</td>\n",
       "      <td>36.455886</td>\n",
       "      <td>9600</td>\n",
       "      <td>27.183542</td>\n",
       "      <td>29.187405</td>\n",
       "      <td>4.675313</td>\n",
       "      <td>6.974041</td>\n",
       "    </tr>\n",
       "    <tr>\n",
       "      <th>12</th>\n",
       "      <td>Yukon</td>\n",
       "      <td>470</td>\n",
       "      <td>45.706383</td>\n",
       "      <td>49.146782</td>\n",
       "      <td>8.82766</td>\n",
       "      <td>18.491457</td>\n",
       "      <td>332</td>\n",
       "      <td>21.804217</td>\n",
       "      <td>24.056471</td>\n",
       "      <td>4.855422</td>\n",
       "      <td>9.106463</td>\n",
       "    </tr>\n",
       "  </tbody>\n",
       "</table>\n",
       "</div>"
      ],
      "text/plain": [
       "                                           Proviences Size_Total   \n",
       "0                                             Alberta      46933  \\\n",
       "1             British Columbia / Colombie-Britannique      37060   \n",
       "2                                            Manitoba      20194   \n",
       "3                   New Brunswick / Nouveau-Brunswick      13229   \n",
       "4   Newfoundland and Labrador / Terre-Neuve-et-Lab...       6747   \n",
       "5   Northwest Territories / Territoires du Nord-Ouest        381   \n",
       "6                       Nova Scotia / Nouvelle-Écosse      15962   \n",
       "7                                             Nunavut         87   \n",
       "8                                             Ontario     108300   \n",
       "9        Prince Edward Island / Île-du-Prince-Édouard       4358   \n",
       "10                                    Quebec / Québec      70612   \n",
       "11                                       Saskatchewan      14539   \n",
       "12                                              Yukon        470   \n",
       "\n",
       "   Mean_Download_Speed std_Download_Speed Mean_Upload_Speed STD_Upload_Speed   \n",
       "0             88.96022          99.179564         33.174589        51.976972  \\\n",
       "1           150.566838         124.436208         64.355235        72.662968   \n",
       "2            81.436318          86.908821         31.959493        59.413703   \n",
       "3           141.915715         138.299939         39.408723         58.84547   \n",
       "4           141.556544         120.608244         43.766859        63.201958   \n",
       "5            67.425197           52.31411         19.385827        32.127963   \n",
       "6           129.114522         115.591789         46.401704        65.876107   \n",
       "7            15.252874          29.994658           3.54023         9.317157   \n",
       "8            89.650194         101.872474         29.222068        56.631427   \n",
       "9            96.897659         101.607281          42.96994        78.797689   \n",
       "10          107.645613         103.977077         54.966875        79.804898   \n",
       "11           65.838091          73.259276         19.392118        36.455886   \n",
       "12           45.706383          49.146782           8.82766        18.491457   \n",
       "\n",
       "   Crt_Size_Total Crt_Mean_Download_Speed Crt_std_Download_Speed   \n",
       "0           28645                27.33587              29.772997  \\\n",
       "1           11520               30.925174              34.779705   \n",
       "2           12260               30.634502              33.202787   \n",
       "3            5370               28.741527              38.468404   \n",
       "4            2912               56.487294              81.856997   \n",
       "5             188               29.989362              28.431546   \n",
       "6            6678               43.063193              63.232726   \n",
       "7              83               10.192771               8.200919   \n",
       "8           64688                25.32009              31.405652   \n",
       "9            2438               34.650943               50.58211   \n",
       "10          28832               25.319575               23.58826   \n",
       "11           9600               27.183542              29.187405   \n",
       "12            332               21.804217              24.056471   \n",
       "\n",
       "   Crt_Mean_Up_Speed Crt_std_Up_Speed  \n",
       "0           6.957689         8.556512  \n",
       "1           9.908247        12.759966  \n",
       "2           6.107259        11.330834  \n",
       "3           5.584171        11.586166  \n",
       "4           5.619849         8.362949  \n",
       "5           7.648936         9.970767  \n",
       "6           6.681342        10.638982  \n",
       "7           2.819277         8.744538  \n",
       "8           4.632668          7.76883  \n",
       "9           5.567268         9.595865  \n",
       "10          8.035239         11.22948  \n",
       "11          4.675313         6.974041  \n",
       "12          4.855422         9.106463  "
      ]
     },
     "execution_count": 208,
     "metadata": {},
     "output_type": "execute_result"
    }
   ],
   "source": [
    "#Merging boeth the result tables having all the mean,std,size details for actual and expected criteria\n",
    "frames_final=[result,result_crt]\n",
    "result_find_gap = pd.concat(frames_final,axis=1)\n",
    "result_find_gap = result_find_gap.T.drop_duplicates().T\n",
    "result_find_gap.head(13)"
   ]
  },
  {
   "cell_type": "code",
   "execution_count": 237,
   "id": "709898a3-a4f1-4f55-b4e8-ba60edc72092",
   "metadata": {
    "tags": []
   },
   "outputs": [
    {
     "data": {
      "application/vnd.plotly.v1+json": {
       "config": {
        "plotlyServerURL": "https://plot.ly"
       },
       "data": [
        {
         "alignmentgroup": "True",
         "hovertemplate": "Proviences=%{x}<br>Percentage_gap=%{y}<extra></extra>",
         "legendgroup": "",
         "marker": {
          "color": "#636efa",
          "pattern": {
           "shape": ""
          }
         },
         "name": "",
         "offsetgroup": "",
         "orientation": "v",
         "showlegend": false,
         "textposition": "auto",
         "type": "bar",
         "x": [
          "Nunavut",
          "Yukon",
          "Saskatchewan",
          "Alberta",
          "Manitoba",
          "Ontario",
          "Prince Edward Island / Île-du-Prince-Édouard",
          "Northwest Territories / Territoires du Nord-Ouest",
          "Newfoundland and Labrador / Terre-Neuve-et-Labrador",
          "Nova Scotia / Nouvelle-Écosse",
          "Quebec / Québec",
          "New Brunswick / Nouveau-Brunswick",
          "British Columbia / Colombie-Britannique"
         ],
         "xaxis": "x",
         "y": [
          95.40229885057471,
          70.63829787234043,
          66.02930050209781,
          61.03381416061193,
          60.71110230761613,
          59.730378578024016,
          55.94309316200092,
          49.343832020997375,
          43.15992292870906,
          41.83686254855281,
          40.83158669914462,
          40.59263738755764,
          31.084727468969238
         ],
         "yaxis": "y"
        }
       ],
       "layout": {
        "autosize": true,
        "barmode": "relative",
        "legend": {
         "tracegroupgap": 0
        },
        "margin": {
         "t": 60
        },
        "template": {
         "data": {
          "bar": [
           {
            "error_x": {
             "color": "#2a3f5f"
            },
            "error_y": {
             "color": "#2a3f5f"
            },
            "marker": {
             "line": {
              "color": "#E5ECF6",
              "width": 0.5
             },
             "pattern": {
              "fillmode": "overlay",
              "size": 10,
              "solidity": 0.2
             }
            },
            "type": "bar"
           }
          ],
          "barpolar": [
           {
            "marker": {
             "line": {
              "color": "#E5ECF6",
              "width": 0.5
             },
             "pattern": {
              "fillmode": "overlay",
              "size": 10,
              "solidity": 0.2
             }
            },
            "type": "barpolar"
           }
          ],
          "carpet": [
           {
            "aaxis": {
             "endlinecolor": "#2a3f5f",
             "gridcolor": "white",
             "linecolor": "white",
             "minorgridcolor": "white",
             "startlinecolor": "#2a3f5f"
            },
            "baxis": {
             "endlinecolor": "#2a3f5f",
             "gridcolor": "white",
             "linecolor": "white",
             "minorgridcolor": "white",
             "startlinecolor": "#2a3f5f"
            },
            "type": "carpet"
           }
          ],
          "choropleth": [
           {
            "colorbar": {
             "outlinewidth": 0,
             "ticks": ""
            },
            "type": "choropleth"
           }
          ],
          "contour": [
           {
            "colorbar": {
             "outlinewidth": 0,
             "ticks": ""
            },
            "colorscale": [
             [
              0,
              "#0d0887"
             ],
             [
              0.1111111111111111,
              "#46039f"
             ],
             [
              0.2222222222222222,
              "#7201a8"
             ],
             [
              0.3333333333333333,
              "#9c179e"
             ],
             [
              0.4444444444444444,
              "#bd3786"
             ],
             [
              0.5555555555555556,
              "#d8576b"
             ],
             [
              0.6666666666666666,
              "#ed7953"
             ],
             [
              0.7777777777777778,
              "#fb9f3a"
             ],
             [
              0.8888888888888888,
              "#fdca26"
             ],
             [
              1,
              "#f0f921"
             ]
            ],
            "type": "contour"
           }
          ],
          "contourcarpet": [
           {
            "colorbar": {
             "outlinewidth": 0,
             "ticks": ""
            },
            "type": "contourcarpet"
           }
          ],
          "heatmap": [
           {
            "colorbar": {
             "outlinewidth": 0,
             "ticks": ""
            },
            "colorscale": [
             [
              0,
              "#0d0887"
             ],
             [
              0.1111111111111111,
              "#46039f"
             ],
             [
              0.2222222222222222,
              "#7201a8"
             ],
             [
              0.3333333333333333,
              "#9c179e"
             ],
             [
              0.4444444444444444,
              "#bd3786"
             ],
             [
              0.5555555555555556,
              "#d8576b"
             ],
             [
              0.6666666666666666,
              "#ed7953"
             ],
             [
              0.7777777777777778,
              "#fb9f3a"
             ],
             [
              0.8888888888888888,
              "#fdca26"
             ],
             [
              1,
              "#f0f921"
             ]
            ],
            "type": "heatmap"
           }
          ],
          "heatmapgl": [
           {
            "colorbar": {
             "outlinewidth": 0,
             "ticks": ""
            },
            "colorscale": [
             [
              0,
              "#0d0887"
             ],
             [
              0.1111111111111111,
              "#46039f"
             ],
             [
              0.2222222222222222,
              "#7201a8"
             ],
             [
              0.3333333333333333,
              "#9c179e"
             ],
             [
              0.4444444444444444,
              "#bd3786"
             ],
             [
              0.5555555555555556,
              "#d8576b"
             ],
             [
              0.6666666666666666,
              "#ed7953"
             ],
             [
              0.7777777777777778,
              "#fb9f3a"
             ],
             [
              0.8888888888888888,
              "#fdca26"
             ],
             [
              1,
              "#f0f921"
             ]
            ],
            "type": "heatmapgl"
           }
          ],
          "histogram": [
           {
            "marker": {
             "pattern": {
              "fillmode": "overlay",
              "size": 10,
              "solidity": 0.2
             }
            },
            "type": "histogram"
           }
          ],
          "histogram2d": [
           {
            "colorbar": {
             "outlinewidth": 0,
             "ticks": ""
            },
            "colorscale": [
             [
              0,
              "#0d0887"
             ],
             [
              0.1111111111111111,
              "#46039f"
             ],
             [
              0.2222222222222222,
              "#7201a8"
             ],
             [
              0.3333333333333333,
              "#9c179e"
             ],
             [
              0.4444444444444444,
              "#bd3786"
             ],
             [
              0.5555555555555556,
              "#d8576b"
             ],
             [
              0.6666666666666666,
              "#ed7953"
             ],
             [
              0.7777777777777778,
              "#fb9f3a"
             ],
             [
              0.8888888888888888,
              "#fdca26"
             ],
             [
              1,
              "#f0f921"
             ]
            ],
            "type": "histogram2d"
           }
          ],
          "histogram2dcontour": [
           {
            "colorbar": {
             "outlinewidth": 0,
             "ticks": ""
            },
            "colorscale": [
             [
              0,
              "#0d0887"
             ],
             [
              0.1111111111111111,
              "#46039f"
             ],
             [
              0.2222222222222222,
              "#7201a8"
             ],
             [
              0.3333333333333333,
              "#9c179e"
             ],
             [
              0.4444444444444444,
              "#bd3786"
             ],
             [
              0.5555555555555556,
              "#d8576b"
             ],
             [
              0.6666666666666666,
              "#ed7953"
             ],
             [
              0.7777777777777778,
              "#fb9f3a"
             ],
             [
              0.8888888888888888,
              "#fdca26"
             ],
             [
              1,
              "#f0f921"
             ]
            ],
            "type": "histogram2dcontour"
           }
          ],
          "mesh3d": [
           {
            "colorbar": {
             "outlinewidth": 0,
             "ticks": ""
            },
            "type": "mesh3d"
           }
          ],
          "parcoords": [
           {
            "line": {
             "colorbar": {
              "outlinewidth": 0,
              "ticks": ""
             }
            },
            "type": "parcoords"
           }
          ],
          "pie": [
           {
            "automargin": true,
            "type": "pie"
           }
          ],
          "scatter": [
           {
            "fillpattern": {
             "fillmode": "overlay",
             "size": 10,
             "solidity": 0.2
            },
            "type": "scatter"
           }
          ],
          "scatter3d": [
           {
            "line": {
             "colorbar": {
              "outlinewidth": 0,
              "ticks": ""
             }
            },
            "marker": {
             "colorbar": {
              "outlinewidth": 0,
              "ticks": ""
             }
            },
            "type": "scatter3d"
           }
          ],
          "scattercarpet": [
           {
            "marker": {
             "colorbar": {
              "outlinewidth": 0,
              "ticks": ""
             }
            },
            "type": "scattercarpet"
           }
          ],
          "scattergeo": [
           {
            "marker": {
             "colorbar": {
              "outlinewidth": 0,
              "ticks": ""
             }
            },
            "type": "scattergeo"
           }
          ],
          "scattergl": [
           {
            "marker": {
             "colorbar": {
              "outlinewidth": 0,
              "ticks": ""
             }
            },
            "type": "scattergl"
           }
          ],
          "scattermapbox": [
           {
            "marker": {
             "colorbar": {
              "outlinewidth": 0,
              "ticks": ""
             }
            },
            "type": "scattermapbox"
           }
          ],
          "scatterpolar": [
           {
            "marker": {
             "colorbar": {
              "outlinewidth": 0,
              "ticks": ""
             }
            },
            "type": "scatterpolar"
           }
          ],
          "scatterpolargl": [
           {
            "marker": {
             "colorbar": {
              "outlinewidth": 0,
              "ticks": ""
             }
            },
            "type": "scatterpolargl"
           }
          ],
          "scatterternary": [
           {
            "marker": {
             "colorbar": {
              "outlinewidth": 0,
              "ticks": ""
             }
            },
            "type": "scatterternary"
           }
          ],
          "surface": [
           {
            "colorbar": {
             "outlinewidth": 0,
             "ticks": ""
            },
            "colorscale": [
             [
              0,
              "#0d0887"
             ],
             [
              0.1111111111111111,
              "#46039f"
             ],
             [
              0.2222222222222222,
              "#7201a8"
             ],
             [
              0.3333333333333333,
              "#9c179e"
             ],
             [
              0.4444444444444444,
              "#bd3786"
             ],
             [
              0.5555555555555556,
              "#d8576b"
             ],
             [
              0.6666666666666666,
              "#ed7953"
             ],
             [
              0.7777777777777778,
              "#fb9f3a"
             ],
             [
              0.8888888888888888,
              "#fdca26"
             ],
             [
              1,
              "#f0f921"
             ]
            ],
            "type": "surface"
           }
          ],
          "table": [
           {
            "cells": {
             "fill": {
              "color": "#EBF0F8"
             },
             "line": {
              "color": "white"
             }
            },
            "header": {
             "fill": {
              "color": "#C8D4E3"
             },
             "line": {
              "color": "white"
             }
            },
            "type": "table"
           }
          ]
         },
         "layout": {
          "annotationdefaults": {
           "arrowcolor": "#2a3f5f",
           "arrowhead": 0,
           "arrowwidth": 1
          },
          "autotypenumbers": "strict",
          "coloraxis": {
           "colorbar": {
            "outlinewidth": 0,
            "ticks": ""
           }
          },
          "colorscale": {
           "diverging": [
            [
             0,
             "#8e0152"
            ],
            [
             0.1,
             "#c51b7d"
            ],
            [
             0.2,
             "#de77ae"
            ],
            [
             0.3,
             "#f1b6da"
            ],
            [
             0.4,
             "#fde0ef"
            ],
            [
             0.5,
             "#f7f7f7"
            ],
            [
             0.6,
             "#e6f5d0"
            ],
            [
             0.7,
             "#b8e186"
            ],
            [
             0.8,
             "#7fbc41"
            ],
            [
             0.9,
             "#4d9221"
            ],
            [
             1,
             "#276419"
            ]
           ],
           "sequential": [
            [
             0,
             "#0d0887"
            ],
            [
             0.1111111111111111,
             "#46039f"
            ],
            [
             0.2222222222222222,
             "#7201a8"
            ],
            [
             0.3333333333333333,
             "#9c179e"
            ],
            [
             0.4444444444444444,
             "#bd3786"
            ],
            [
             0.5555555555555556,
             "#d8576b"
            ],
            [
             0.6666666666666666,
             "#ed7953"
            ],
            [
             0.7777777777777778,
             "#fb9f3a"
            ],
            [
             0.8888888888888888,
             "#fdca26"
            ],
            [
             1,
             "#f0f921"
            ]
           ],
           "sequentialminus": [
            [
             0,
             "#0d0887"
            ],
            [
             0.1111111111111111,
             "#46039f"
            ],
            [
             0.2222222222222222,
             "#7201a8"
            ],
            [
             0.3333333333333333,
             "#9c179e"
            ],
            [
             0.4444444444444444,
             "#bd3786"
            ],
            [
             0.5555555555555556,
             "#d8576b"
            ],
            [
             0.6666666666666666,
             "#ed7953"
            ],
            [
             0.7777777777777778,
             "#fb9f3a"
            ],
            [
             0.8888888888888888,
             "#fdca26"
            ],
            [
             1,
             "#f0f921"
            ]
           ]
          },
          "colorway": [
           "#636efa",
           "#EF553B",
           "#00cc96",
           "#ab63fa",
           "#FFA15A",
           "#19d3f3",
           "#FF6692",
           "#B6E880",
           "#FF97FF",
           "#FECB52"
          ],
          "font": {
           "color": "#2a3f5f"
          },
          "geo": {
           "bgcolor": "white",
           "lakecolor": "white",
           "landcolor": "#E5ECF6",
           "showlakes": true,
           "showland": true,
           "subunitcolor": "white"
          },
          "hoverlabel": {
           "align": "left"
          },
          "hovermode": "closest",
          "mapbox": {
           "style": "light"
          },
          "paper_bgcolor": "white",
          "plot_bgcolor": "#E5ECF6",
          "polar": {
           "angularaxis": {
            "gridcolor": "white",
            "linecolor": "white",
            "ticks": ""
           },
           "bgcolor": "#E5ECF6",
           "radialaxis": {
            "gridcolor": "white",
            "linecolor": "white",
            "ticks": ""
           }
          },
          "scene": {
           "xaxis": {
            "backgroundcolor": "#E5ECF6",
            "gridcolor": "white",
            "gridwidth": 2,
            "linecolor": "white",
            "showbackground": true,
            "ticks": "",
            "zerolinecolor": "white"
           },
           "yaxis": {
            "backgroundcolor": "#E5ECF6",
            "gridcolor": "white",
            "gridwidth": 2,
            "linecolor": "white",
            "showbackground": true,
            "ticks": "",
            "zerolinecolor": "white"
           },
           "zaxis": {
            "backgroundcolor": "#E5ECF6",
            "gridcolor": "white",
            "gridwidth": 2,
            "linecolor": "white",
            "showbackground": true,
            "ticks": "",
            "zerolinecolor": "white"
           }
          },
          "shapedefaults": {
           "line": {
            "color": "#2a3f5f"
           }
          },
          "ternary": {
           "aaxis": {
            "gridcolor": "white",
            "linecolor": "white",
            "ticks": ""
           },
           "baxis": {
            "gridcolor": "white",
            "linecolor": "white",
            "ticks": ""
           },
           "bgcolor": "#E5ECF6",
           "caxis": {
            "gridcolor": "white",
            "linecolor": "white",
            "ticks": ""
           }
          },
          "title": {
           "x": 0.05
          },
          "xaxis": {
           "automargin": true,
           "gridcolor": "white",
           "linecolor": "white",
           "ticks": "",
           "title": {
            "standoff": 15
           },
           "zerolinecolor": "white",
           "zerolinewidth": 2
          },
          "yaxis": {
           "automargin": true,
           "gridcolor": "white",
           "linecolor": "white",
           "ticks": "",
           "title": {
            "standoff": 15
           },
           "zerolinecolor": "white",
           "zerolinewidth": 2
          }
         }
        },
        "xaxis": {
         "anchor": "y",
         "autorange": true,
         "domain": [
          0,
          1
         ],
         "range": [
          -0.5,
          12.5
         ],
         "title": {
          "text": "Proviences"
         },
         "type": "category"
        },
        "yaxis": {
         "anchor": "x",
         "autorange": true,
         "domain": [
          0,
          1
         ],
         "range": [
          0,
          100.42347247428917
         ],
         "title": {
          "text": "Percentage_gap"
         },
         "type": "linear"
        }
       }
      },
      "image/png": "[encoded data removed]",
      "text/html": [
       "<div>                            <div id=\"a376faae-757d-460e-959f-08601792e225\" class=\"plotly-graph-div\" style=\"height:525px; width:100%;\"></div>            <script type=\"text/javascript\">                require([\"plotly\"], function(Plotly) {                    window.PLOTLYENV=window.PLOTLYENV || {};                                    if (document.getElementById(\"a376faae-757d-460e-959f-08601792e225\")) {                    Plotly.newPlot(                        \"a376faae-757d-460e-959f-08601792e225\",                        [{\"alignmentgroup\":\"True\",\"hovertemplate\":\"Proviences=%{x}<br>Percentage_gap=%{y}<extra></extra>\",\"legendgroup\":\"\",\"marker\":{\"color\":\"#636efa\",\"pattern\":{\"shape\":\"\"}},\"name\":\"\",\"offsetgroup\":\"\",\"orientation\":\"v\",\"showlegend\":false,\"textposition\":\"auto\",\"x\":[\"Nunavut\",\"Yukon\",\"Saskatchewan\",\"Alberta\",\"Manitoba\",\"Ontario\",\"Prince Edward Island / \\u00cele-du-Prince-\\u00c9douard\",\"Northwest Territories / Territoires du Nord-Ouest\",\"Newfoundland and Labrador / Terre-Neuve-et-Labrador\",\"Nova Scotia / Nouvelle-\\u00c9cosse\",\"Quebec / Qu\\u00e9bec\",\"New Brunswick / Nouveau-Brunswick\",\"British Columbia / Colombie-Britannique\"],\"xaxis\":\"x\",\"y\":[95.40229885057471,70.63829787234043,66.02930050209781,61.03381416061193,60.71110230761613,59.730378578024016,55.94309316200092,49.343832020997375,43.15992292870906,41.83686254855281,40.83158669914462,40.59263738755764,31.084727468969238],\"yaxis\":\"y\",\"type\":\"bar\"}],                        {\"template\":{\"data\":{\"histogram2dcontour\":[{\"type\":\"histogram2dcontour\",\"colorbar\":{\"outlinewidth\":0,\"ticks\":\"\"},\"colorscale\":[[0.0,\"#0d0887\"],[0.1111111111111111,\"#46039f\"],[0.2222222222222222,\"#7201a8\"],[0.3333333333333333,\"#9c179e\"],[0.4444444444444444,\"#bd3786\"],[0.5555555555555556,\"#d8576b\"],[0.6666666666666666,\"#ed7953\"],[0.7777777777777778,\"#fb9f3a\"],[0.8888888888888888,\"#fdca26\"],[1.0,\"#f0f921\"]]}],\"choropleth\":[{\"type\":\"choropleth\",\"colorbar\":{\"outlinewidth\":0,\"ticks\":\"\"}}],\"histogram2d\":[{\"type\":\"histogram2d\",\"colorbar\":{\"outlinewidth\":0,\"ticks\":\"\"},\"colorscale\":[[0.0,\"#0d0887\"],[0.1111111111111111,\"#46039f\"],[0.2222222222222222,\"#7201a8\"],[0.3333333333333333,\"#9c179e\"],[0.4444444444444444,\"#bd3786\"],[0.5555555555555556,\"#d8576b\"],[0.6666666666666666,\"#ed7953\"],[0.7777777777777778,\"#fb9f3a\"],[0.8888888888888888,\"#fdca26\"],[1.0,\"#f0f921\"]]}],\"heatmap\":[{\"type\":\"heatmap\",\"colorbar\":{\"outlinewidth\":0,\"ticks\":\"\"},\"colorscale\":[[0.0,\"#0d0887\"],[0.1111111111111111,\"#46039f\"],[0.2222222222222222,\"#7201a8\"],[0.3333333333333333,\"#9c179e\"],[0.4444444444444444,\"#bd3786\"],[0.5555555555555556,\"#d8576b\"],[0.6666666666666666,\"#ed7953\"],[0.7777777777777778,\"#fb9f3a\"],[0.8888888888888888,\"#fdca26\"],[1.0,\"#f0f921\"]]}],\"heatmapgl\":[{\"type\":\"heatmapgl\",\"colorbar\":{\"outlinewidth\":0,\"ticks\":\"\"},\"colorscale\":[[0.0,\"#0d0887\"],[0.1111111111111111,\"#46039f\"],[0.2222222222222222,\"#7201a8\"],[0.3333333333333333,\"#9c179e\"],[0.4444444444444444,\"#bd3786\"],[0.5555555555555556,\"#d8576b\"],[0.6666666666666666,\"#ed7953\"],[0.7777777777777778,\"#fb9f3a\"],[0.8888888888888888,\"#fdca26\"],[1.0,\"#f0f921\"]]}],\"contourcarpet\":[{\"type\":\"contourcarpet\",\"colorbar\":{\"outlinewidth\":0,\"ticks\":\"\"}}],\"contour\":[{\"type\":\"contour\",\"colorbar\":{\"outlinewidth\":0,\"ticks\":\"\"},\"colorscale\":[[0.0,\"#0d0887\"],[0.1111111111111111,\"#46039f\"],[0.2222222222222222,\"#7201a8\"],[0.3333333333333333,\"#9c179e\"],[0.4444444444444444,\"#bd3786\"],[0.5555555555555556,\"#d8576b\"],[0.6666666666666666,\"#ed7953\"],[0.7777777777777778,\"#fb9f3a\"],[0.8888888888888888,\"#fdca26\"],[1.0,\"#f0f921\"]]}],\"surface\":[{\"type\":\"surface\",\"colorbar\":{\"outlinewidth\":0,\"ticks\":\"\"},\"colorscale\":[[0.0,\"#0d0887\"],[0.1111111111111111,\"#46039f\"],[0.2222222222222222,\"#7201a8\"],[0.3333333333333333,\"#9c179e\"],[0.4444444444444444,\"#bd3786\"],[0.5555555555555556,\"#d8576b\"],[0.6666666666666666,\"#ed7953\"],[0.7777777777777778,\"#fb9f3a\"],[0.8888888888888888,\"#fdca26\"],[1.0,\"#f0f921\"]]}],\"mesh3d\":[{\"type\":\"mesh3d\",\"colorbar\":{\"outlinewidth\":0,\"ticks\":\"\"}}],\"scatter\":[{\"fillpattern\":{\"fillmode\":\"overlay\",\"size\":10,\"solidity\":0.2},\"type\":\"scatter\"}],\"parcoords\":[{\"type\":\"parcoords\",\"line\":{\"colorbar\":{\"outlinewidth\":0,\"ticks\":\"\"}}}],\"scatterpolargl\":[{\"type\":\"scatterpolargl\",\"marker\":{\"colorbar\":{\"outlinewidth\":0,\"ticks\":\"\"}}}],\"bar\":[{\"error_x\":{\"color\":\"#2a3f5f\"},\"error_y\":{\"color\":\"#2a3f5f\"},\"marker\":{\"line\":{\"color\":\"#E5ECF6\",\"width\":0.5},\"pattern\":{\"fillmode\":\"overlay\",\"size\":10,\"solidity\":0.2}},\"type\":\"bar\"}],\"scattergeo\":[{\"type\":\"scattergeo\",\"marker\":{\"colorbar\":{\"outlinewidth\":0,\"ticks\":\"\"}}}],\"scatterpolar\":[{\"type\":\"scatterpolar\",\"marker\":{\"colorbar\":{\"outlinewidth\":0,\"ticks\":\"\"}}}],\"histogram\":[{\"marker\":{\"pattern\":{\"fillmode\":\"overlay\",\"size\":10,\"solidity\":0.2}},\"type\":\"histogram\"}],\"scattergl\":[{\"type\":\"scattergl\",\"marker\":{\"colorbar\":{\"outlinewidth\":0,\"ticks\":\"\"}}}],\"scatter3d\":[{\"type\":\"scatter3d\",\"line\":{\"colorbar\":{\"outlinewidth\":0,\"ticks\":\"\"}},\"marker\":{\"colorbar\":{\"outlinewidth\":0,\"ticks\":\"\"}}}],\"scattermapbox\":[{\"type\":\"scattermapbox\",\"marker\":{\"colorbar\":{\"outlinewidth\":0,\"ticks\":\"\"}}}],\"scatterternary\":[{\"type\":\"scatterternary\",\"marker\":{\"colorbar\":{\"outlinewidth\":0,\"ticks\":\"\"}}}],\"scattercarpet\":[{\"type\":\"scattercarpet\",\"marker\":{\"colorbar\":{\"outlinewidth\":0,\"ticks\":\"\"}}}],\"carpet\":[{\"aaxis\":{\"endlinecolor\":\"#2a3f5f\",\"gridcolor\":\"white\",\"linecolor\":\"white\",\"minorgridcolor\":\"white\",\"startlinecolor\":\"#2a3f5f\"},\"baxis\":{\"endlinecolor\":\"#2a3f5f\",\"gridcolor\":\"white\",\"linecolor\":\"white\",\"minorgridcolor\":\"white\",\"startlinecolor\":\"#2a3f5f\"},\"type\":\"carpet\"}],\"table\":[{\"cells\":{\"fill\":{\"color\":\"#EBF0F8\"},\"line\":{\"color\":\"white\"}},\"header\":{\"fill\":{\"color\":\"#C8D4E3\"},\"line\":{\"color\":\"white\"}},\"type\":\"table\"}],\"barpolar\":[{\"marker\":{\"line\":{\"color\":\"#E5ECF6\",\"width\":0.5},\"pattern\":{\"fillmode\":\"overlay\",\"size\":10,\"solidity\":0.2}},\"type\":\"barpolar\"}],\"pie\":[{\"automargin\":true,\"type\":\"pie\"}]},\"layout\":{\"autotypenumbers\":\"strict\",\"colorway\":[\"#636efa\",\"#EF553B\",\"#00cc96\",\"#ab63fa\",\"#FFA15A\",\"#19d3f3\",\"#FF6692\",\"#B6E880\",\"#FF97FF\",\"#FECB52\"],\"font\":{\"color\":\"#2a3f5f\"},\"hovermode\":\"closest\",\"hoverlabel\":{\"align\":\"left\"},\"paper_bgcolor\":\"white\",\"plot_bgcolor\":\"#E5ECF6\",\"polar\":{\"bgcolor\":\"#E5ECF6\",\"angularaxis\":{\"gridcolor\":\"white\",\"linecolor\":\"white\",\"ticks\":\"\"},\"radialaxis\":{\"gridcolor\":\"white\",\"linecolor\":\"white\",\"ticks\":\"\"}},\"ternary\":{\"bgcolor\":\"#E5ECF6\",\"aaxis\":{\"gridcolor\":\"white\",\"linecolor\":\"white\",\"ticks\":\"\"},\"baxis\":{\"gridcolor\":\"white\",\"linecolor\":\"white\",\"ticks\":\"\"},\"caxis\":{\"gridcolor\":\"white\",\"linecolor\":\"white\",\"ticks\":\"\"}},\"coloraxis\":{\"colorbar\":{\"outlinewidth\":0,\"ticks\":\"\"}},\"colorscale\":{\"sequential\":[[0.0,\"#0d0887\"],[0.1111111111111111,\"#46039f\"],[0.2222222222222222,\"#7201a8\"],[0.3333333333333333,\"#9c179e\"],[0.4444444444444444,\"#bd3786\"],[0.5555555555555556,\"#d8576b\"],[0.6666666666666666,\"#ed7953\"],[0.7777777777777778,\"#fb9f3a\"],[0.8888888888888888,\"#fdca26\"],[1.0,\"#f0f921\"]],\"sequentialminus\":[[0.0,\"#0d0887\"],[0.1111111111111111,\"#46039f\"],[0.2222222222222222,\"#7201a8\"],[0.3333333333333333,\"#9c179e\"],[0.4444444444444444,\"#bd3786\"],[0.5555555555555556,\"#d8576b\"],[0.6666666666666666,\"#ed7953\"],[0.7777777777777778,\"#fb9f3a\"],[0.8888888888888888,\"#fdca26\"],[1.0,\"#f0f921\"]],\"diverging\":[[0,\"#8e0152\"],[0.1,\"#c51b7d\"],[0.2,\"#de77ae\"],[0.3,\"#f1b6da\"],[0.4,\"#fde0ef\"],[0.5,\"#f7f7f7\"],[0.6,\"#e6f5d0\"],[0.7,\"#b8e186\"],[0.8,\"#7fbc41\"],[0.9,\"#4d9221\"],[1,\"#276419\"]]},\"xaxis\":{\"gridcolor\":\"white\",\"linecolor\":\"white\",\"ticks\":\"\",\"title\":{\"standoff\":15},\"zerolinecolor\":\"white\",\"automargin\":true,\"zerolinewidth\":2},\"yaxis\":{\"gridcolor\":\"white\",\"linecolor\":\"white\",\"ticks\":\"\",\"title\":{\"standoff\":15},\"zerolinecolor\":\"white\",\"automargin\":true,\"zerolinewidth\":2},\"scene\":{\"xaxis\":{\"backgroundcolor\":\"#E5ECF6\",\"gridcolor\":\"white\",\"linecolor\":\"white\",\"showbackground\":true,\"ticks\":\"\",\"zerolinecolor\":\"white\",\"gridwidth\":2},\"yaxis\":{\"backgroundcolor\":\"#E5ECF6\",\"gridcolor\":\"white\",\"linecolor\":\"white\",\"showbackground\":true,\"ticks\":\"\",\"zerolinecolor\":\"white\",\"gridwidth\":2},\"zaxis\":{\"backgroundcolor\":\"#E5ECF6\",\"gridcolor\":\"white\",\"linecolor\":\"white\",\"showbackground\":true,\"ticks\":\"\",\"zerolinecolor\":\"white\",\"gridwidth\":2}},\"shapedefaults\":{\"line\":{\"color\":\"#2a3f5f\"}},\"annotationdefaults\":{\"arrowcolor\":\"#2a3f5f\",\"arrowhead\":0,\"arrowwidth\":1},\"geo\":{\"bgcolor\":\"white\",\"landcolor\":\"#E5ECF6\",\"subunitcolor\":\"white\",\"showland\":true,\"showlakes\":true,\"lakecolor\":\"white\"},\"title\":{\"x\":0.05},\"mapbox\":{\"style\":\"light\"}}},\"xaxis\":{\"anchor\":\"y\",\"domain\":[0.0,1.0],\"title\":{\"text\":\"Proviences\"}},\"yaxis\":{\"anchor\":\"x\",\"domain\":[0.0,1.0],\"title\":{\"text\":\"Percentage_gap\"}},\"legend\":{\"tracegroupgap\":0},\"margin\":{\"t\":60},\"barmode\":\"relative\"},                        {\"responsive\": true}                    ).then(function(){\n",
       "                            \n",
       "var gd = document.getElementById('a376faae-757d-460e-959f-08601792e225');\n",
       "var x = new MutationObserver(function (mutations, observer) {{\n",
       "        var display = window.getComputedStyle(gd).display;\n",
       "        if (!display || display === 'none') {{\n",
       "            console.log([gd, 'removed!']);\n",
       "            Plotly.purge(gd);\n",
       "            observer.disconnect();\n",
       "        }}\n",
       "}});\n",
       "\n",
       "// Listen for the removal of the full notebook cells\n",
       "var notebookContainer = gd.closest('#notebook-container');\n",
       "if (notebookContainer) {{\n",
       "    x.observe(notebookContainer, {childList: true});\n",
       "}}\n",
       "\n",
       "// Listen for the clearing of the current output cell\n",
       "var outputEl = gd.closest('.output');\n",
       "if (outputEl) {{\n",
       "    x.observe(outputEl, {childList: true});\n",
       "}}\n",
       "\n",
       "                        })                };                });            </script>        </div>"
      ]
     },
     "metadata": {},
     "output_type": "display_data"
    }
   ],
   "source": [
    "#Adding percentage column to find the gap and better understanding\n",
    "result_find_gap[\"Percentage_gap\"] = (result_find_gap[\"Crt_Size_Total\"]/result_find_gap[\"Size_Total\"])*100\n",
    "result_find_gap.sort_values(by=\"Percentage_gap\", ascending=False,inplace=True)\n",
    "result_find_gap.head(13)\n",
    "\n",
    "import plotly.express as px\n",
    "fig = px.bar(result_find_gap, x='Proviences',y='Percentage_gap')\n",
    "fig.show()"
   ]
  }
 ],
 "metadata": {
  "kernelspec": {
   "display_name": "Python 3 (ipykernel)",
   "language": "python",
   "name": "python3"
  },
  "language_info": {
   "codemirror_mode": {
    "name": "ipython",
    "version": 3
   },
   "file_extension": ".py",
   "mimetype": "text/x-python",
   "name": "python",
   "nbconvert_exporter": "python",
   "pygments_lexer": "ipython3",
   "version": "3.10.10"
  },
  "vscode": {
   "interpreter": {
    "hash": "7baa5682b3ee41d95f3e6c53f6f101854543f295d881c00164f5d254f1692751"
   }
  }
 },
 "nbformat": 4,
 "nbformat_minor": 5
}
