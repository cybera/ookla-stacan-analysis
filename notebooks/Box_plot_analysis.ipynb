{
 "cells": [
  {
   "cell_type": "markdown",
   "id": "4923ec2c",
   "metadata": {},
   "source": [
    "# Summary\n",
    "\n",
    "This note book is going to create box plots for rural and non rural areas in each province for upload and download speeds, averaged throughout time.\n"
   ]
  },
  {
   "cell_type": "markdown",
   "id": "cb81e5d6-7156-4bb1-bb0e-46bcab9a050c",
   "metadata": {},
   "source": [
    "## Start Running From Here:"
   ]
  },
  {
   "cell_type": "code",
   "execution_count": 4,
   "id": "6e11b16f",
   "metadata": {
    "tags": []
   },
   "outputs": [],
   "source": [
    "import sys\n",
    "sys.path.append(\"..\")"
   ]
  },
  {
   "cell_type": "code",
   "execution_count": 5,
   "id": "e59298bc",
   "metadata": {
    "tags": []
   },
   "outputs": [],
   "source": [
    "import src.config"
   ]
  },
  {
   "cell_type": "code",
   "execution_count": 6,
   "id": "c0120861",
   "metadata": {
    "tags": []
   },
   "outputs": [],
   "source": [
    "from src.datasets.loading import statcan, ookla"
   ]
  },
  {
   "cell_type": "code",
   "execution_count": 50,
   "id": "44a651b9",
   "metadata": {
    "tags": []
   },
   "outputs": [],
   "source": [
    "import numpy as np \n",
    "import pandas as pd\n",
    "import geopandas as gp\n",
    "import os\n",
    "import plotly.graph_objects as go\n",
    "import plotly.express as px"
   ]
  },
  {
   "cell_type": "code",
   "execution_count": 9,
   "id": "28af861b",
   "metadata": {
    "tags": []
   },
   "outputs": [],
   "source": [
    "import matplotlib.pyplot as plt "
   ]
  },
  {
   "cell_type": "markdown",
   "id": "14697af4",
   "metadata": {},
   "source": [
    "## Load \n",
    "Load some of the available data. The census population data and StatCan boundaries are automatically loaded from \n",
    "the StatCan website. The overlays and tile geometries/speeds need to pre-computed and saved to the overlays directory and data directories. "
   ]
  },
  {
   "cell_type": "markdown",
   "id": "5dee2f19",
   "metadata": {},
   "source": [
    "### Load All Unique Tile Gemoetries"
   ]
  },
  {
   "cell_type": "code",
   "execution_count": 19,
   "id": "2f33da9d",
   "metadata": {
    "tags": []
   },
   "outputs": [],
   "source": [
    "# the following is a geopandas datafarme of shape (670292, 2) \n",
    "ookla_tiles = ookla.canada_tiles()"
   ]
  },
  {
   "cell_type": "markdown",
   "id": "f99eb5de",
   "metadata": {},
   "source": [
    "### Load Census Population Information"
   ]
  },
  {
   "cell_type": "code",
   "execution_count": 20,
   "id": "b6832deb",
   "metadata": {
    "tags": []
   },
   "outputs": [],
   "source": [
    "# a pandas dataframe containting 3 columns\n",
    "da_pops = statcan.dissemination_areas_populations()"
   ]
  },
  {
   "cell_type": "markdown",
   "id": "5f62db26",
   "metadata": {},
   "source": [
    "### Labelling Tiles\n",
    "Generate labels from geometric overlay of the Ookla tiles and Statistics Canada Dissemination Areas (DA). \n",
    "Label each tile with the information from the StatCan areas based on which DA the tile overlaps the most with."
   ]
  },
  {
   "cell_type": "code",
   "execution_count": 22,
   "id": "2d2a7bd2",
   "metadata": {
    "tags": []
   },
   "outputs": [],
   "source": [
    "o = gp.read_file(src.config.OVERLAYS_DIR / 'tile_das_overlay') #this can take a few minutes to load.\n",
    "tile_da_label = o.dropna(subset=['DAUID','quadkey']).sort_values(by=['quadkey','tile_frac'],ascending=False).drop_duplicates(subset='quadkey', keep='first')\n",
    "tile_da_label['quadkey'] = tile_da_label['quadkey'].astype(int)\n",
    "tile_da_label['DAUID'] = tile_da_label['DAUID'].astype(int)"
   ]
  },
  {
   "cell_type": "markdown",
   "id": "456a7eec-05a6-4db4-aae0-1a23ae4a8422",
   "metadata": {},
   "source": [
    "### Saving the CSVs so far"
   ]
  },
  {
   "cell_type": "code",
   "execution_count": 19,
   "id": "b146b5ba-0fcf-490e-83aa-569f36de61ca",
   "metadata": {
    "tags": []
   },
   "outputs": [],
   "source": [
    "def save_df(dataframe, df_type:str, base_path: str, file_name: str):\n",
    "    \n",
    "    full_path = os.path.join(base_path, file_name)\n",
    "    if df_type == \"pd\":\n",
    "        dataframe.to_csv(full_path, header=True)\n",
    "    elif df_type == \"gp\":\n",
    "        dataframe.to_file(full_path, driver='GPKG')\n",
    "    return"
   ]
  },
  {
   "cell_type": "markdown",
   "id": "689c82a7-8ae9-45da-b4bc-20edcc2f91da",
   "metadata": {},
   "source": [
    "### Loading in the csv files for faster runtime"
   ]
  },
  {
   "cell_type": "code",
   "execution_count": 2,
   "id": "fab16f29-e918-47ad-9222-1700a049d240",
   "metadata": {
    "tags": []
   },
   "outputs": [],
   "source": [
    "def load_csv_file(df_type:str, base_path: str, file_name:str):\n",
    "    \"\"\"\n",
    "    load in the dataframe whether pandas or geopandas\n",
    "    \"\"\"\n",
    "    \n",
    "    full_path = os.path.join(base_path, file_name)\n",
    "    if df_type == \"pd\":\n",
    "        result = pd.read_csv(full_path)\n",
    "    elif df_type == \"gp\":\n",
    "        result = gp.read_file(full_path)\n",
    "    return result\n",
    "    "
   ]
  },
  {
   "cell_type": "markdown",
   "id": "e0112f24",
   "metadata": {},
   "source": [
    "### Speed Test Data\n",
    "Load in the previous 4 quarters of data. Since we're currently in Q3 of 2022, the most recent quarter is Q2 \n",
    "so we can slice the files listed to grab those. Subsequently, we'll calculate weighted averages for individual tiles and use those as representative speeds for our model."
   ]
  },
  {
   "cell_type": "code",
   "execution_count": 11,
   "id": "7de6dfbb-fb82-49f4-8098-76d83b9fe87d",
   "metadata": {
    "tags": []
   },
   "outputs": [],
   "source": [
    "def get_speed_data_from_to(from_date:tuple, to_date:tuple):\n",
    "    \"\"\"\n",
    "    Getting speed data inclusive from some date to some other date.\n",
    "    \"\"\"\n",
    "    # get all data from starting time to ending time\n",
    "    data_subset = ookla.speed_data(ookla.available_files().loc[from_date:to_date].path)\n",
    "    # averaging speed test data over time over region\n",
    "    down = data_subset.groupby('quadkey').apply(lambda s:np.average(s.avg_d_kbps, weights=s.tests)).rename('avg_d_kbps')\n",
    "    up = data_subset.groupby('quadkey').apply(lambda s:np.average(s.avg_u_kbps, weights=s.tests)).rename('avg_u_kbps')\n",
    "    tests = data_subset.groupby('quadkey')['tests'].sum()\n",
    "    devices = data_subset.groupby('quadkey')['devices'].sum()\n",
    "    averaged_over_region = pd.concat([down, up, tests, devices],axis=1)\n",
    "    return averaged_over_region"
   ]
  },
  {
   "cell_type": "code",
   "execution_count": 12,
   "id": "246ca578",
   "metadata": {},
   "outputs": [],
   "source": [
    "time_subset = get_speed_data_from_to(from_date=('fixed',2019,1), to_date=('fixed',2023,1))"
   ]
  },
  {
   "cell_type": "markdown",
   "id": "fd02857a",
   "metadata": {},
   "source": [
    "### Merge All The Data\n",
    "It's a bit messy, but we're merging several tables and removing a few of the redundant or non-useful \n",
    "columns as we go through. At the end the `features_table` variable will have all of the \n",
    "tiles within census areas labelled by what type of Census Subdivision, Dissemination Area, Population Centre, etc. they are in, as well as population information for the DA (smallest area with populations available) and the speed test averages over the last 4 quarters."
   ]
  },
  {
   "cell_type": "code",
   "execution_count": 15,
   "id": "75a3bb68",
   "metadata": {},
   "outputs": [],
   "source": [
    "## merge dissemination area (DA) populations with ookla tiles (already combined with other statcan data)\n",
    "features_table = tile_da_label.merge(da_pops, on='DAUID', how='left')\n",
    "features_table['DAPOP'] = features_table['DAPOP'].fillna(0).astype(int)\n",
    "del features_table['GEO_NAME']\n",
    "features_table = pd.DataFrame(features_table)\n",
    "del features_table['geometry']\n",
    "features_table['POP_DENSITY'] = features_table['DAPOP']/features_table['das_area']*1000**2 #people per square kilometer\n",
    "\n",
    "# take all ookla tiles, merge the speeds data and tile labels and populations\n",
    "features_table = ookla_tiles.merge(time_subset, on='quadkey').merge(features_table, on='quadkey')\n",
    "\n",
    "# compute spatial joins to identify if area is a population centre\n",
    "pop_info = statcan.boundary('population_centres').to_crs('epsg:4326')\n",
    "pop_info = pop_info[['PCUID', 'PCNAME', 'PCTYPE', 'PCPUID', 'PCCLASS', 'geometry']] ##removes some redundant cols from DAs\n",
    "features_table = features_table.sjoin(pop_info, how='left')\n",
    "del features_table['index_right']\n",
    "features_table = features_table.sort_values(by=['PCUID','quadkey']).drop_duplicates(subset=['quadkey']) #keep tiles where overlap was true"
   ]
  },
  {
   "cell_type": "markdown",
   "id": "dad6d808",
   "metadata": {},
   "source": [
    "### Categorize All the Columns\n",
    "All the columns from our joins above can be roughly split into categories based on the type of \n",
    "data and how you might use them in a simple supervised learning problem. These are broken down as follows:"
   ]
  },
  {
   "cell_type": "code",
   "execution_count": 16,
   "id": "aa9a4ae3",
   "metadata": {},
   "outputs": [],
   "source": [
    "pkey = 'quadkey'\n",
    "geometry = 'geometry'\n",
    "id_and_names = ['DAUID', 'CDUID', 'CDNAME', 'CCSUID', 'CSDNAME', 'CMAUID', 'CMAPUID', 'CMANAME', \n",
    "'CCSNAME', 'CSDUID', 'ERUID', 'ERNAME', 'CTUID', 'CTNAME', 'ADAUID', \n",
    "'PCUID', 'PCNAME', 'PCPUID', 'SACCODE',] ##SACCODE is half a category half ID values\n",
    "\n",
    "categorical_labels = [\n",
    "    #'PRUID', #PRUID is redundant with PRNAME\n",
    "    'PRNAME', 'CDTYPE', \n",
    "    'CSDTYPE',  \n",
    "    'SACTYPE', \n",
    "    'CMATYPE', 'PCTYPE', 'PCCLASS',\n",
    "]\n",
    "numerical_vars = [\n",
    "    'tests', 'devices',\n",
    "    'das_area', 'tile_area', 'tile_frac',  'das_frac', \n",
    "    'DAPOP','POP_DENSITY'\n",
    "]\n",
    "target_vars = ['avg_d_kbps', 'avg_u_kbps']"
   ]
  },
  {
   "cell_type": "code",
   "execution_count": null,
   "id": "97dbe082",
   "metadata": {},
   "outputs": [],
   "source": [
    "col_subset = [pkey] + categorical_labels + numerical_vars + target_vars\n",
    "features_table.loc[:,col_subset].set_index('quadkey')"
   ]
  },
  {
   "cell_type": "code",
   "execution_count": null,
   "id": "1fd3c647-9c50-4500-bd3f-43efc4eff45c",
   "metadata": {
    "tags": []
   },
   "outputs": [],
   "source": [
    "path_to_files = \"../data/\"\n",
    "save_df(features_table, df_type=\"gp\", base_path=path_to_files, file_name=\"features_table.gpkg\")"
   ]
  },
  {
   "cell_type": "markdown",
   "id": "39568acc-8480-427f-9b08-2c2aef6c9e09",
   "metadata": {},
   "source": [
    "# The end"
   ]
  }
 ],
 "metadata": {
  "kernelspec": {
   "display_name": "Python 3 (ipykernel)",
   "language": "python",
   "name": "python3"
  },
  "language_info": {
   "codemirror_mode": {
    "name": "ipython",
    "version": 3
   },
   "file_extension": ".py",
   "mimetype": "text/x-python",
   "name": "python",
   "nbconvert_exporter": "python",
   "pygments_lexer": "ipython3",
   "version": "3.10.10"
  },
  "vscode": {
   "interpreter": {
    "hash": "7baa5682b3ee41d95f3e6c53f6f101854543f295d881c00164f5d254f1692751"
   }
  }
 },
 "nbformat": 4,
 "nbformat_minor": 5
}
