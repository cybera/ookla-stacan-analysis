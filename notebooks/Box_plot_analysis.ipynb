{
 "cells": [
  {
   "cell_type": "markdown",
   "id": "4923ec2c",
   "metadata": {},
   "source": [
    "# Summary\n",
    "\n",
    "This note book is going to create box plots for rural and non rural areas in each province for upload and download speeds, averaged throughout time.\n"
   ]
  },
  {
   "cell_type": "code",
   "execution_count": 1,
   "id": "6e11b16f",
   "metadata": {
    "tags": []
   },
   "outputs": [],
   "source": [
    "import sys\n",
    "sys.path.append(\"..\")"
   ]
  },
  {
   "cell_type": "code",
   "execution_count": 2,
   "id": "e59298bc",
   "metadata": {
    "tags": []
   },
   "outputs": [],
   "source": [
    "import src.config"
   ]
  },
  {
   "cell_type": "code",
   "execution_count": 3,
   "id": "c0120861",
   "metadata": {
    "tags": []
   },
   "outputs": [],
   "source": [
    "from src.datasets.loading import statcan, ookla"
   ]
  },
  {
   "cell_type": "code",
   "execution_count": 4,
   "id": "44a651b9",
   "metadata": {
    "tags": []
   },
   "outputs": [],
   "source": [
    "import numpy as np \n",
    "import pandas as pd\n",
    "import geopandas as gp\n",
    "import os"
   ]
  },
  {
   "cell_type": "code",
   "execution_count": 5,
   "id": "7747ae1a",
   "metadata": {
    "tags": []
   },
   "outputs": [],
   "source": [
    "from sklearn import preprocessing, pipeline, compose\n",
    "from sklearn import linear_model, model_selection, svm\n",
    "from sklearn import metrics"
   ]
  },
  {
   "cell_type": "code",
   "execution_count": 6,
   "id": "28af861b",
   "metadata": {
    "tags": []
   },
   "outputs": [],
   "source": [
    "import matplotlib.pyplot as plt "
   ]
  },
  {
   "cell_type": "markdown",
   "id": "14697af4",
   "metadata": {},
   "source": [
    "## Load \n",
    "Load some of the available data. The census population data and StatCan boundaries are automatically loaded from \n",
    "the StatCan website. The overlays and tile geometries/speeds need to pre-computed and saved to the overlays directory and data directories. "
   ]
  },
  {
   "cell_type": "markdown",
   "id": "5dee2f19",
   "metadata": {},
   "source": [
    "### Load All Unique Tile Gemoetries"
   ]
  },
  {
   "cell_type": "code",
   "execution_count": 19,
   "id": "2f33da9d",
   "metadata": {
    "tags": []
   },
   "outputs": [],
   "source": [
    "# the following is a geopandas datafarme of shape (670292, 2) \n",
    "ookla_tiles = ookla.canada_tiles()"
   ]
  },
  {
   "cell_type": "code",
   "execution_count": 8,
   "id": "7b513683-d3a0-4ad1-95d4-0a98af2c005d",
   "metadata": {
    "tags": []
   },
   "outputs": [
    {
     "data": {
      "text/html": [
       "<div>\n",
       "<style scoped>\n",
       "    .dataframe tbody tr th:only-of-type {\n",
       "        vertical-align: middle;\n",
       "    }\n",
       "\n",
       "    .dataframe tbody tr th {\n",
       "        vertical-align: top;\n",
       "    }\n",
       "\n",
       "    .dataframe thead th {\n",
       "        text-align: right;\n",
       "    }\n",
       "</style>\n",
       "<table border=\"1\" class=\"dataframe\">\n",
       "  <thead>\n",
       "    <tr style=\"text-align: right;\">\n",
       "      <th></th>\n",
       "      <th>quadkey</th>\n",
       "      <th>geometry</th>\n",
       "    </tr>\n",
       "  </thead>\n",
       "  <tbody>\n",
       "    <tr>\n",
       "      <th>0</th>\n",
       "      <td>302303331012303</td>\n",
       "      <td>POLYGON ((-73.36121 45.53329, -73.35571 45.533...</td>\n",
       "    </tr>\n",
       "    <tr>\n",
       "      <th>1</th>\n",
       "      <td>212122230130321</td>\n",
       "      <td>POLYGON ((-122.75574 49.30364, -122.75024 49.3...</td>\n",
       "    </tr>\n",
       "    <tr>\n",
       "      <th>2</th>\n",
       "      <td>212120311013031</td>\n",
       "      <td>POLYGON ((-121.14075 51.58390, -121.13525 51.5...</td>\n",
       "    </tr>\n",
       "    <tr>\n",
       "      <th>3</th>\n",
       "      <td>212102012132221</td>\n",
       "      <td>POLYGON ((-122.77771 53.85901, -122.77222 53.8...</td>\n",
       "    </tr>\n",
       "    <tr>\n",
       "      <th>4</th>\n",
       "      <td>212122232013120</td>\n",
       "      <td>POLYGON ((-122.89307 49.11703, -122.88757 49.1...</td>\n",
       "    </tr>\n",
       "  </tbody>\n",
       "</table>\n",
       "</div>"
      ],
      "text/plain": [
       "           quadkey                                           geometry\n",
       "0  302303331012303  POLYGON ((-73.36121 45.53329, -73.35571 45.533...\n",
       "1  212122230130321  POLYGON ((-122.75574 49.30364, -122.75024 49.3...\n",
       "2  212120311013031  POLYGON ((-121.14075 51.58390, -121.13525 51.5...\n",
       "3  212102012132221  POLYGON ((-122.77771 53.85901, -122.77222 53.8...\n",
       "4  212122232013120  POLYGON ((-122.89307 49.11703, -122.88757 49.1..."
      ]
     },
     "execution_count": 8,
     "metadata": {},
     "output_type": "execute_result"
    }
   ],
   "source": [
    "ookla_tiles.head()"
   ]
  },
  {
   "cell_type": "markdown",
   "id": "f99eb5de",
   "metadata": {},
   "source": [
    "### Load Census Population Information"
   ]
  },
  {
   "cell_type": "code",
   "execution_count": 20,
   "id": "b6832deb",
   "metadata": {
    "tags": []
   },
   "outputs": [],
   "source": [
    "# a pandas dataframe containting 3 columns\n",
    "da_pops = statcan.dissemination_areas_populations()"
   ]
  },
  {
   "cell_type": "code",
   "execution_count": 21,
   "id": "4b371adf-e5d4-44a1-90d4-83fa291c76e0",
   "metadata": {
    "tags": []
   },
   "outputs": [
    {
     "data": {
      "text/html": [
       "<div>\n",
       "<style scoped>\n",
       "    .dataframe tbody tr th:only-of-type {\n",
       "        vertical-align: middle;\n",
       "    }\n",
       "\n",
       "    .dataframe tbody tr th {\n",
       "        vertical-align: top;\n",
       "    }\n",
       "\n",
       "    .dataframe thead th {\n",
       "        text-align: right;\n",
       "    }\n",
       "</style>\n",
       "<table border=\"1\" class=\"dataframe\">\n",
       "  <thead>\n",
       "    <tr style=\"text-align: right;\">\n",
       "      <th></th>\n",
       "      <th>DAUID</th>\n",
       "      <th>GEO_NAME</th>\n",
       "      <th>DAPOP</th>\n",
       "    </tr>\n",
       "  </thead>\n",
       "  <tbody>\n",
       "    <tr>\n",
       "      <th>508</th>\n",
       "      <td>10010734</td>\n",
       "      <td>10010734</td>\n",
       "      <td>150.0</td>\n",
       "    </tr>\n",
       "    <tr>\n",
       "      <th>762</th>\n",
       "      <td>10010735</td>\n",
       "      <td>10010735</td>\n",
       "      <td>350.0</td>\n",
       "    </tr>\n",
       "    <tr>\n",
       "      <th>889</th>\n",
       "      <td>10010736</td>\n",
       "      <td>10010736</td>\n",
       "      <td>130.0</td>\n",
       "    </tr>\n",
       "    <tr>\n",
       "      <th>1143</th>\n",
       "      <td>10010733</td>\n",
       "      <td>10010733</td>\n",
       "      <td>65.0</td>\n",
       "    </tr>\n",
       "    <tr>\n",
       "      <th>1397</th>\n",
       "      <td>10010737</td>\n",
       "      <td>10010737</td>\n",
       "      <td>365.0</td>\n",
       "    </tr>\n",
       "  </tbody>\n",
       "</table>\n",
       "</div>"
      ],
      "text/plain": [
       "         DAUID  GEO_NAME  DAPOP\n",
       "508   10010734  10010734  150.0\n",
       "762   10010735  10010735  350.0\n",
       "889   10010736  10010736  130.0\n",
       "1143  10010733  10010733   65.0\n",
       "1397  10010737  10010737  365.0"
      ]
     },
     "execution_count": 21,
     "metadata": {},
     "output_type": "execute_result"
    }
   ],
   "source": [
    "da_pops.head()"
   ]
  },
  {
   "cell_type": "markdown",
   "id": "5f62db26",
   "metadata": {},
   "source": [
    "### Labelling Tiles\n",
    "Generate labels from geometric overlay of the Ookla tiles and Statistics Canada Dissemination Areas (DA). \n",
    "Label each tile with the information from the StatCan areas based on which DA the tile overlaps the most with."
   ]
  },
  {
   "cell_type": "code",
   "execution_count": 22,
   "id": "2d2a7bd2",
   "metadata": {
    "tags": []
   },
   "outputs": [],
   "source": [
    "o = gp.read_file(src.config.OVERLAYS_DIR / 'tile_das_overlay') #this can take a few minutes to load.\n",
    "tile_da_label = o.dropna(subset=['DAUID','quadkey']).sort_values(by=['quadkey','tile_frac'],ascending=False).drop_duplicates(subset='quadkey', keep='first')\n",
    "tile_da_label['quadkey'] = tile_da_label['quadkey'].astype(int)\n",
    "tile_da_label['DAUID'] = tile_da_label['DAUID'].astype(int)"
   ]
  },
  {
   "cell_type": "code",
   "execution_count": 23,
   "id": "f4dcd622-2b8e-4883-9ddb-75ad37add6f4",
   "metadata": {
    "tags": []
   },
   "outputs": [
    {
     "data": {
      "text/plain": [
       "Index(['DAUID', 'PRUID', 'PRNAME', 'CDUID', 'CDNAME', 'CDTYPE', 'CCSUID',\n",
       "       'CCSNAME', 'CSDUID', 'CSDNAME', 'CSDTYPE', 'ERUID', 'ERNAME', 'SACCODE',\n",
       "       'SACTYPE', 'CMAUID', 'CMAPUID', 'CMANAME', 'CMATYPE', 'CTUID', 'CTNAME',\n",
       "       'ADAUID', 'das_area', 'quadkey', 'tile_area', 'tile_frac', 'das_frac',\n",
       "       'geometry'],\n",
       "      dtype='object')"
      ]
     },
     "execution_count": 23,
     "metadata": {},
     "output_type": "execute_result"
    }
   ],
   "source": [
    "tile_da_label.columns"
   ]
  },
  {
   "cell_type": "code",
   "execution_count": 12,
   "id": "38dd6f52-bdc2-4d29-8852-ee51dbf92acc",
   "metadata": {
    "tags": []
   },
   "outputs": [
    {
     "data": {
      "text/html": [
       "<div>\n",
       "<style scoped>\n",
       "    .dataframe tbody tr th:only-of-type {\n",
       "        vertical-align: middle;\n",
       "    }\n",
       "\n",
       "    .dataframe tbody tr th {\n",
       "        vertical-align: top;\n",
       "    }\n",
       "\n",
       "    .dataframe thead th {\n",
       "        text-align: right;\n",
       "    }\n",
       "</style>\n",
       "<table border=\"1\" class=\"dataframe\">\n",
       "  <thead>\n",
       "    <tr style=\"text-align: right;\">\n",
       "      <th></th>\n",
       "      <th>DAUID</th>\n",
       "      <th>PRUID</th>\n",
       "      <th>PRNAME</th>\n",
       "      <th>CDUID</th>\n",
       "      <th>CDNAME</th>\n",
       "      <th>CDTYPE</th>\n",
       "      <th>CCSUID</th>\n",
       "      <th>CCSNAME</th>\n",
       "      <th>CSDUID</th>\n",
       "      <th>CSDNAME</th>\n",
       "      <th>...</th>\n",
       "      <th>CMATYPE</th>\n",
       "      <th>CTUID</th>\n",
       "      <th>CTNAME</th>\n",
       "      <th>ADAUID</th>\n",
       "      <th>das_area</th>\n",
       "      <th>quadkey</th>\n",
       "      <th>tile_area</th>\n",
       "      <th>tile_frac</th>\n",
       "      <th>das_frac</th>\n",
       "      <th>geometry</th>\n",
       "    </tr>\n",
       "  </thead>\n",
       "  <tbody>\n",
       "    <tr>\n",
       "      <th>986447</th>\n",
       "      <td>62080028</td>\n",
       "      <td>62</td>\n",
       "      <td>Nunavut</td>\n",
       "      <td>6208</td>\n",
       "      <td>Kitikmeot</td>\n",
       "      <td>REG</td>\n",
       "      <td>6208098</td>\n",
       "      <td>Kitikmeot, Unorganized</td>\n",
       "      <td>6208081</td>\n",
       "      <td>Gjoa Haven</td>\n",
       "      <td>...</td>\n",
       "      <td>NaN</td>\n",
       "      <td>NaN</td>\n",
       "      <td>NaN</td>\n",
       "      <td>62080005</td>\n",
       "      <td>3.611392e+06</td>\n",
       "      <td>33321111030011</td>\n",
       "      <td>47209.300113</td>\n",
       "      <td>1.000000</td>\n",
       "      <td>0.013072</td>\n",
       "      <td>POLYGON ((6041822.741 3571239.252, 6041809.093...</td>\n",
       "    </tr>\n",
       "    <tr>\n",
       "      <th>986443</th>\n",
       "      <td>62080028</td>\n",
       "      <td>62</td>\n",
       "      <td>Nunavut</td>\n",
       "      <td>6208</td>\n",
       "      <td>Kitikmeot</td>\n",
       "      <td>REG</td>\n",
       "      <td>6208098</td>\n",
       "      <td>Kitikmeot, Unorganized</td>\n",
       "      <td>6208081</td>\n",
       "      <td>Gjoa Haven</td>\n",
       "      <td>...</td>\n",
       "      <td>NaN</td>\n",
       "      <td>NaN</td>\n",
       "      <td>NaN</td>\n",
       "      <td>62080005</td>\n",
       "      <td>3.611392e+06</td>\n",
       "      <td>33321111012233</td>\n",
       "      <td>47201.161453</td>\n",
       "      <td>0.506432</td>\n",
       "      <td>0.006619</td>\n",
       "      <td>POLYGON ((6041651.609 3571328.671, 6041669.834...</td>\n",
       "    </tr>\n",
       "    <tr>\n",
       "      <th>986446</th>\n",
       "      <td>62080027</td>\n",
       "      <td>62</td>\n",
       "      <td>Nunavut</td>\n",
       "      <td>6208</td>\n",
       "      <td>Kitikmeot</td>\n",
       "      <td>REG</td>\n",
       "      <td>6208098</td>\n",
       "      <td>Kitikmeot, Unorganized</td>\n",
       "      <td>6208081</td>\n",
       "      <td>Gjoa Haven</td>\n",
       "      <td>...</td>\n",
       "      <td>NaN</td>\n",
       "      <td>NaN</td>\n",
       "      <td>NaN</td>\n",
       "      <td>62080005</td>\n",
       "      <td>2.770787e+07</td>\n",
       "      <td>33321111012232</td>\n",
       "      <td>47201.161454</td>\n",
       "      <td>0.586428</td>\n",
       "      <td>0.000999</td>\n",
       "      <td>POLYGON ((6041569.680 3571359.606, 6041461.349...</td>\n",
       "    </tr>\n",
       "    <tr>\n",
       "      <th>1004929</th>\n",
       "      <td>62080027</td>\n",
       "      <td>62</td>\n",
       "      <td>Nunavut</td>\n",
       "      <td>6208</td>\n",
       "      <td>Kitikmeot</td>\n",
       "      <td>REG</td>\n",
       "      <td>6208098</td>\n",
       "      <td>Kitikmeot, Unorganized</td>\n",
       "      <td>6208081</td>\n",
       "      <td>Gjoa Haven</td>\n",
       "      <td>...</td>\n",
       "      <td>NaN</td>\n",
       "      <td>NaN</td>\n",
       "      <td>NaN</td>\n",
       "      <td>62080005</td>\n",
       "      <td>2.770787e+07</td>\n",
       "      <td>33321111012231</td>\n",
       "      <td>47193.024198</td>\n",
       "      <td>1.000000</td>\n",
       "      <td>0.001703</td>\n",
       "      <td>POLYGON ((6041850.036 3571672.697, 6041836.389...</td>\n",
       "    </tr>\n",
       "    <tr>\n",
       "      <th>1004930</th>\n",
       "      <td>62080027</td>\n",
       "      <td>62</td>\n",
       "      <td>Nunavut</td>\n",
       "      <td>6208</td>\n",
       "      <td>Kitikmeot</td>\n",
       "      <td>REG</td>\n",
       "      <td>6208098</td>\n",
       "      <td>Kitikmeot, Unorganized</td>\n",
       "      <td>6208081</td>\n",
       "      <td>Gjoa Haven</td>\n",
       "      <td>...</td>\n",
       "      <td>NaN</td>\n",
       "      <td>NaN</td>\n",
       "      <td>NaN</td>\n",
       "      <td>62080005</td>\n",
       "      <td>2.770787e+07</td>\n",
       "      <td>33321111012223</td>\n",
       "      <td>47201.161454</td>\n",
       "      <td>0.906848</td>\n",
       "      <td>0.001545</td>\n",
       "      <td>POLYGON ((6041224.366 3571429.663, 6041224.610...</td>\n",
       "    </tr>\n",
       "  </tbody>\n",
       "</table>\n",
       "<p>5 rows × 28 columns</p>\n",
       "</div>"
      ],
      "text/plain": [
       "            DAUID PRUID   PRNAME CDUID     CDNAME CDTYPE   CCSUID   \n",
       "986447   62080028    62  Nunavut  6208  Kitikmeot    REG  6208098  \\\n",
       "986443   62080028    62  Nunavut  6208  Kitikmeot    REG  6208098   \n",
       "986446   62080027    62  Nunavut  6208  Kitikmeot    REG  6208098   \n",
       "1004929  62080027    62  Nunavut  6208  Kitikmeot    REG  6208098   \n",
       "1004930  62080027    62  Nunavut  6208  Kitikmeot    REG  6208098   \n",
       "\n",
       "                        CCSNAME   CSDUID     CSDNAME  ... CMATYPE CTUID   \n",
       "986447   Kitikmeot, Unorganized  6208081  Gjoa Haven  ...     NaN   NaN  \\\n",
       "986443   Kitikmeot, Unorganized  6208081  Gjoa Haven  ...     NaN   NaN   \n",
       "986446   Kitikmeot, Unorganized  6208081  Gjoa Haven  ...     NaN   NaN   \n",
       "1004929  Kitikmeot, Unorganized  6208081  Gjoa Haven  ...     NaN   NaN   \n",
       "1004930  Kitikmeot, Unorganized  6208081  Gjoa Haven  ...     NaN   NaN   \n",
       "\n",
       "        CTNAME    ADAUID      das_area         quadkey     tile_area   \n",
       "986447     NaN  62080005  3.611392e+06  33321111030011  47209.300113  \\\n",
       "986443     NaN  62080005  3.611392e+06  33321111012233  47201.161453   \n",
       "986446     NaN  62080005  2.770787e+07  33321111012232  47201.161454   \n",
       "1004929    NaN  62080005  2.770787e+07  33321111012231  47193.024198   \n",
       "1004930    NaN  62080005  2.770787e+07  33321111012223  47201.161454   \n",
       "\n",
       "        tile_frac  das_frac                                           geometry  \n",
       "986447   1.000000  0.013072  POLYGON ((6041822.741 3571239.252, 6041809.093...  \n",
       "986443   0.506432  0.006619  POLYGON ((6041651.609 3571328.671, 6041669.834...  \n",
       "986446   0.586428  0.000999  POLYGON ((6041569.680 3571359.606, 6041461.349...  \n",
       "1004929  1.000000  0.001703  POLYGON ((6041850.036 3571672.697, 6041836.389...  \n",
       "1004930  0.906848  0.001545  POLYGON ((6041224.366 3571429.663, 6041224.610...  \n",
       "\n",
       "[5 rows x 28 columns]"
      ]
     },
     "execution_count": 12,
     "metadata": {},
     "output_type": "execute_result"
    }
   ],
   "source": [
    "tile_da_label.head()"
   ]
  },
  {
   "cell_type": "markdown",
   "id": "456a7eec-05a6-4db4-aae0-1a23ae4a8422",
   "metadata": {},
   "source": [
    "### Saving the CSVs so far"
   ]
  },
  {
   "cell_type": "code",
   "execution_count": 19,
   "id": "b146b5ba-0fcf-490e-83aa-569f36de61ca",
   "metadata": {
    "tags": []
   },
   "outputs": [],
   "source": [
    "def save_df(dataframe, df_type:str, base_path: str, file_name: str):\n",
    "    \n",
    "    full_path = os.path.join(base_path, file_name)\n",
    "    if df_type == \"pd\":\n",
    "        dataframe.to_csv(full_path, header=True)\n",
    "    elif df_type == \"gp\":\n",
    "        dataframe.to_file(full_path, driver='GPKG')\n",
    "    return"
   ]
  },
  {
   "cell_type": "code",
   "execution_count": 30,
   "id": "d0fd2aca-6f51-4802-8fcf-9aafe4555cfc",
   "metadata": {
    "tags": []
   },
   "outputs": [],
   "source": [
    "# saving the csv files\n",
    "path_to_files = \"../data/dataframes/\"\n",
    "save_df(ookla_tiles, df_type=\"gp\",base_path=path_to_files, file_name=\"ookla_tiles.gpkg\")\n",
    "save_df(da_pops, df_type=\"pd\", base_path=path_to_files, file_name=\"da_pops.csv\")\n",
    "save_df(tile_da_label, df_type=\"gp\", base_path=path_to_files, file_name=\"tile_da_label.gpkg\")\n"
   ]
  },
  {
   "cell_type": "markdown",
   "id": "689c82a7-8ae9-45da-b4bc-20edcc2f91da",
   "metadata": {},
   "source": [
    "### Loading in the csv files for faster runtime"
   ]
  },
  {
   "cell_type": "code",
   "execution_count": 7,
   "id": "fab16f29-e918-47ad-9222-1700a049d240",
   "metadata": {
    "tags": []
   },
   "outputs": [],
   "source": [
    "def load_csv_file(df_type:str, base_path: str, file_name:str):\n",
    "    \"\"\"\n",
    "    load in the dataframe whether pandas or geopandas\n",
    "    \"\"\"\n",
    "    \n",
    "    full_path = os.path.join(base_path, file_name)\n",
    "    if df_type == \"pd\":\n",
    "        result = pd.read_csv(full_path)\n",
    "    elif df_type == \"gp\":\n",
    "        result = gp.read_file(full_path)\n",
    "    return result\n",
    "    "
   ]
  },
  {
   "cell_type": "code",
   "execution_count": 8,
   "id": "960756b5-3056-456d-99da-ba54cf7646ce",
   "metadata": {
    "tags": []
   },
   "outputs": [
    {
     "name": "stdout",
     "output_type": "stream",
     "text": [
      "ookla loaded\n",
      "da pops loaded\n",
      "tile da label loaded\n"
     ]
    }
   ],
   "source": [
    "path_to_files = \"../data/dataframes/\"\n",
    "ookla_tiles = load_csv_file(df_type=\"gp\", base_path=path_to_files, file_name=\"ookla_tiles.gpkg\")\n",
    "print(\"ookla loaded\")\n",
    "da_pops = load_csv_file(df_type=\"pd\", base_path=path_to_files, file_name=\"da_pops.csv\")\n",
    "print(\"da pops loaded\")\n",
    "tile_da_label = load_csv_file(df_type=\"gp\", base_path=path_to_files, file_name=\"tile_da_label.gpkg\")\n",
    "print(\"tile da label loaded\")"
   ]
  },
  {
   "cell_type": "markdown",
   "id": "e0112f24",
   "metadata": {},
   "source": [
    "### Speed Test Data\n",
    "Load in the previous 4 quarters of data. Since we're currently in Q3 of 2022, the most recent quarter is Q2 \n",
    "so we can slice the files listed to grab those. Subsequently, we'll calculate weighted averages for individual tiles and use those as representative speeds for our model."
   ]
  },
  {
   "cell_type": "code",
   "execution_count": 11,
   "id": "7de6dfbb-fb82-49f4-8098-76d83b9fe87d",
   "metadata": {
    "tags": []
   },
   "outputs": [],
   "source": [
    "def get_speed_data_from_to(from_date:tuple, to_date:tuple):\n",
    "    \"\"\"\n",
    "    Getting speed data inclusive from some date to some other date.\n",
    "    \"\"\"\n",
    "    # get all data from starting time to ending time\n",
    "    data_subset = ookla.speed_data(ookla.available_files().loc[from_date:to_date].path)\n",
    "    # averaging speed test data over time over region\n",
    "    down = data_subset.groupby('quadkey').apply(lambda s:np.average(s.avg_d_kbps, weights=s.tests)).rename('avg_d_kbps')\n",
    "    up = data_subset.groupby('quadkey').apply(lambda s:np.average(s.avg_u_kbps, weights=s.tests)).rename('avg_u_kbps')\n",
    "    tests = data_subset.groupby('quadkey')['tests'].sum()\n",
    "    devices = data_subset.groupby('quadkey')['devices'].sum()\n",
    "    averaged_over_region = pd.concat([down, up, tests, devices],axis=1)\n",
    "    return averaged_over_region"
   ]
  },
  {
   "cell_type": "code",
   "execution_count": 12,
   "id": "246ca578",
   "metadata": {},
   "outputs": [],
   "source": [
    "time_subset = get_speed_data_from_to(from_date=('fixed',2019,1), to_date=('fixed',2023,1))"
   ]
  },
  {
   "cell_type": "code",
   "execution_count": 13,
   "id": "8dd0bb64-db74-41f1-9b1a-99a23f4b991a",
   "metadata": {
    "tags": []
   },
   "outputs": [
    {
     "data": {
      "text/html": [
       "<div>\n",
       "<style scoped>\n",
       "    .dataframe tbody tr th:only-of-type {\n",
       "        vertical-align: middle;\n",
       "    }\n",
       "\n",
       "    .dataframe tbody tr th {\n",
       "        vertical-align: top;\n",
       "    }\n",
       "\n",
       "    .dataframe thead th {\n",
       "        text-align: right;\n",
       "    }\n",
       "</style>\n",
       "<table border=\"1\" class=\"dataframe\">\n",
       "  <thead>\n",
       "    <tr style=\"text-align: right;\">\n",
       "      <th></th>\n",
       "      <th>avg_d_kbps</th>\n",
       "      <th>avg_u_kbps</th>\n",
       "      <th>tests</th>\n",
       "      <th>devices</th>\n",
       "    </tr>\n",
       "    <tr>\n",
       "      <th>quadkey</th>\n",
       "      <th></th>\n",
       "      <th></th>\n",
       "      <th></th>\n",
       "      <th></th>\n",
       "    </tr>\n",
       "  </thead>\n",
       "  <tbody>\n",
       "    <tr>\n",
       "      <th>13230212122122</th>\n",
       "      <td>544197.000000</td>\n",
       "      <td>269445.0</td>\n",
       "      <td>1</td>\n",
       "      <td>1</td>\n",
       "    </tr>\n",
       "    <tr>\n",
       "      <th>23313133202223</th>\n",
       "      <td>43221.000000</td>\n",
       "      <td>3756.0</td>\n",
       "      <td>2</td>\n",
       "      <td>1</td>\n",
       "    </tr>\n",
       "    <tr>\n",
       "      <th>23313133220001</th>\n",
       "      <td>29290.000000</td>\n",
       "      <td>2404.0</td>\n",
       "      <td>2</td>\n",
       "      <td>1</td>\n",
       "    </tr>\n",
       "    <tr>\n",
       "      <th>23313203322102</th>\n",
       "      <td>76875.000000</td>\n",
       "      <td>21079.0</td>\n",
       "      <td>2</td>\n",
       "      <td>1</td>\n",
       "    </tr>\n",
       "    <tr>\n",
       "      <th>23331133131232</th>\n",
       "      <td>2342.333333</td>\n",
       "      <td>1151.0</td>\n",
       "      <td>3</td>\n",
       "      <td>2</td>\n",
       "    </tr>\n",
       "  </tbody>\n",
       "</table>\n",
       "</div>"
      ],
      "text/plain": [
       "                   avg_d_kbps  avg_u_kbps  tests  devices\n",
       "quadkey                                                  \n",
       "13230212122122  544197.000000    269445.0      1        1\n",
       "23313133202223   43221.000000      3756.0      2        1\n",
       "23313133220001   29290.000000      2404.0      2        1\n",
       "23313203322102   76875.000000     21079.0      2        1\n",
       "23331133131232    2342.333333      1151.0      3        2"
      ]
     },
     "execution_count": 13,
     "metadata": {},
     "output_type": "execute_result"
    }
   ],
   "source": [
    "time_subset.head()"
   ]
  },
  {
   "cell_type": "code",
   "execution_count": 14,
   "id": "c3e3798b-0047-495d-8f11-b8c880a36b01",
   "metadata": {
    "tags": []
   },
   "outputs": [
    {
     "data": {
      "text/plain": [
       "(615683, 4)"
      ]
     },
     "execution_count": 14,
     "metadata": {},
     "output_type": "execute_result"
    }
   ],
   "source": [
    "time_subset.shape"
   ]
  },
  {
   "cell_type": "markdown",
   "id": "fd02857a",
   "metadata": {},
   "source": [
    "### Merge All The Data\n",
    "It's a bit messy, but we're merging several tables and removing a few of the redundant or non-useful \n",
    "columns as we go through. At the end the `features_table` variable will have all of the \n",
    "tiles within census areas labelled by what type of Census Subdivision, Dissemination Area, Population Centre, etc. they are in, as well as population information for the DA (smallest area with populations available) and the speed test averages over the last 4 quarters."
   ]
  },
  {
   "cell_type": "code",
   "execution_count": 15,
   "id": "75a3bb68",
   "metadata": {},
   "outputs": [],
   "source": [
    "## merge dissemination area (DA) populations with ookla tiles (already combined with other statcan data)\n",
    "features_table = tile_da_label.merge(da_pops, on='DAUID', how='left')\n",
    "features_table['DAPOP'] = features_table['DAPOP'].fillna(0).astype(int)\n",
    "del features_table['GEO_NAME']\n",
    "features_table = pd.DataFrame(features_table)\n",
    "del features_table['geometry']\n",
    "features_table['POP_DENSITY'] = features_table['DAPOP']/features_table['das_area']*1000**2 #people per square kilometer\n",
    "\n",
    "# take all ookla tiles, merge the speeds data and tile labels and populations\n",
    "features_table = ookla_tiles.merge(time_subset, on='quadkey').merge(features_table, on='quadkey')\n",
    "\n",
    "# compute spatial joins to identify if area is a population centre\n",
    "pop_info = statcan.boundary('population_centres').to_crs('epsg:4326')\n",
    "pop_info = pop_info[['PCUID', 'PCNAME', 'PCTYPE', 'PCPUID', 'PCCLASS', 'geometry']] ##removes some redundant cols from DAs\n",
    "features_table = features_table.sjoin(pop_info, how='left')\n",
    "del features_table['index_right']\n",
    "features_table = features_table.sort_values(by=['PCUID','quadkey']).drop_duplicates(subset=['quadkey']) #keep tiles where overlap was true"
   ]
  },
  {
   "cell_type": "markdown",
   "id": "dad6d808",
   "metadata": {},
   "source": [
    "### Categorize All the Columns\n",
    "All the columns from our joins above can be roughly split into categories based on the type of \n",
    "data and how you might use them in a simple supervised learning problem. These are broken down as follows:"
   ]
  },
  {
   "cell_type": "code",
   "execution_count": 16,
   "id": "aa9a4ae3",
   "metadata": {},
   "outputs": [],
   "source": [
    "pkey = 'quadkey'\n",
    "geometry = 'geometry'\n",
    "id_and_names = ['DAUID', 'CDUID', 'CDNAME', 'CCSUID', 'CSDNAME', 'CMAUID', 'CMAPUID', 'CMANAME', \n",
    "'CCSNAME', 'CSDUID', 'ERUID', 'ERNAME', 'CTUID', 'CTNAME', 'ADAUID', \n",
    "'PCUID', 'PCNAME', 'PCPUID', 'SACCODE',] ##SACCODE is half a category half ID values\n",
    "\n",
    "categorical_labels = [\n",
    "    #'PRUID', #PRUID is redundant with PRNAME\n",
    "    'PRNAME', 'CDTYPE', \n",
    "    'CSDTYPE',  \n",
    "    'SACTYPE', \n",
    "    'CMATYPE', 'PCTYPE', 'PCCLASS',\n",
    "]\n",
    "numerical_vars = [\n",
    "    'tests', 'devices',\n",
    "    'das_area', 'tile_area', 'tile_frac',  'das_frac', \n",
    "    'DAPOP','POP_DENSITY'\n",
    "]\n",
    "target_vars = ['avg_d_kbps', 'avg_u_kbps']"
   ]
  },
  {
   "cell_type": "code",
   "execution_count": 17,
   "id": "97dbe082",
   "metadata": {},
   "outputs": [
    {
     "data": {
      "text/html": [
       "<div>\n",
       "<style scoped>\n",
       "    .dataframe tbody tr th:only-of-type {\n",
       "        vertical-align: middle;\n",
       "    }\n",
       "\n",
       "    .dataframe tbody tr th {\n",
       "        vertical-align: top;\n",
       "    }\n",
       "\n",
       "    .dataframe thead th {\n",
       "        text-align: right;\n",
       "    }\n",
       "</style>\n",
       "<table border=\"1\" class=\"dataframe\">\n",
       "  <thead>\n",
       "    <tr style=\"text-align: right;\">\n",
       "      <th></th>\n",
       "      <th>PRNAME</th>\n",
       "      <th>CDTYPE</th>\n",
       "      <th>CSDTYPE</th>\n",
       "      <th>SACTYPE</th>\n",
       "      <th>CMATYPE</th>\n",
       "      <th>PCTYPE</th>\n",
       "      <th>PCCLASS</th>\n",
       "      <th>tests</th>\n",
       "      <th>devices</th>\n",
       "      <th>das_area</th>\n",
       "      <th>tile_area</th>\n",
       "      <th>tile_frac</th>\n",
       "      <th>das_frac</th>\n",
       "      <th>DAPOP</th>\n",
       "      <th>POP_DENSITY</th>\n",
       "      <th>avg_d_kbps</th>\n",
       "      <th>avg_u_kbps</th>\n",
       "    </tr>\n",
       "    <tr>\n",
       "      <th>quadkey</th>\n",
       "      <th></th>\n",
       "      <th></th>\n",
       "      <th></th>\n",
       "      <th></th>\n",
       "      <th></th>\n",
       "      <th></th>\n",
       "      <th></th>\n",
       "      <th></th>\n",
       "      <th></th>\n",
       "      <th></th>\n",
       "      <th></th>\n",
       "      <th></th>\n",
       "      <th></th>\n",
       "      <th></th>\n",
       "      <th></th>\n",
       "      <th></th>\n",
       "      <th></th>\n",
       "    </tr>\n",
       "  </thead>\n",
       "  <tbody>\n",
       "    <tr>\n",
       "      <th>302231302213222</th>\n",
       "      <td>Ontario</td>\n",
       "      <td>RM</td>\n",
       "      <td>T</td>\n",
       "      <td>1</td>\n",
       "      <td>B</td>\n",
       "      <td>2</td>\n",
       "      <td>2</td>\n",
       "      <td>142</td>\n",
       "      <td>36</td>\n",
       "      <td>4.489387e+06</td>\n",
       "      <td>205331.876525</td>\n",
       "      <td>0.917314</td>\n",
       "      <td>0.041955</td>\n",
       "      <td>1420</td>\n",
       "      <td>316.301553</td>\n",
       "      <td>131957.809859</td>\n",
       "      <td>17415.246479</td>\n",
       "    </tr>\n",
       "    <tr>\n",
       "      <th>302231302213223</th>\n",
       "      <td>Ontario</td>\n",
       "      <td>RM</td>\n",
       "      <td>T</td>\n",
       "      <td>1</td>\n",
       "      <td>B</td>\n",
       "      <td>2</td>\n",
       "      <td>2</td>\n",
       "      <td>18</td>\n",
       "      <td>11</td>\n",
       "      <td>2.309252e+07</td>\n",
       "      <td>205331.876525</td>\n",
       "      <td>0.475620</td>\n",
       "      <td>0.004229</td>\n",
       "      <td>470</td>\n",
       "      <td>20.352909</td>\n",
       "      <td>130224.055556</td>\n",
       "      <td>55252.222222</td>\n",
       "    </tr>\n",
       "    <tr>\n",
       "      <th>302231302230013</th>\n",
       "      <td>Ontario</td>\n",
       "      <td>RM</td>\n",
       "      <td>T</td>\n",
       "      <td>1</td>\n",
       "      <td>B</td>\n",
       "      <td>2</td>\n",
       "      <td>2</td>\n",
       "      <td>80</td>\n",
       "      <td>29</td>\n",
       "      <td>5.391016e+06</td>\n",
       "      <td>205402.379648</td>\n",
       "      <td>0.894827</td>\n",
       "      <td>0.034094</td>\n",
       "      <td>1030</td>\n",
       "      <td>191.058601</td>\n",
       "      <td>275870.087500</td>\n",
       "      <td>126846.125000</td>\n",
       "    </tr>\n",
       "    <tr>\n",
       "      <th>302231302230022</th>\n",
       "      <td>Ontario</td>\n",
       "      <td>RM</td>\n",
       "      <td>T</td>\n",
       "      <td>1</td>\n",
       "      <td>B</td>\n",
       "      <td>2</td>\n",
       "      <td>2</td>\n",
       "      <td>69</td>\n",
       "      <td>10</td>\n",
       "      <td>1.030375e+07</td>\n",
       "      <td>205472.906899</td>\n",
       "      <td>0.611219</td>\n",
       "      <td>0.012189</td>\n",
       "      <td>505</td>\n",
       "      <td>49.011263</td>\n",
       "      <td>7741.492754</td>\n",
       "      <td>978.376812</td>\n",
       "    </tr>\n",
       "    <tr>\n",
       "      <th>302231302230023</th>\n",
       "      <td>Ontario</td>\n",
       "      <td>RM</td>\n",
       "      <td>T</td>\n",
       "      <td>1</td>\n",
       "      <td>B</td>\n",
       "      <td>2</td>\n",
       "      <td>2</td>\n",
       "      <td>438</td>\n",
       "      <td>53</td>\n",
       "      <td>1.765704e+06</td>\n",
       "      <td>205472.906900</td>\n",
       "      <td>0.871430</td>\n",
       "      <td>0.101407</td>\n",
       "      <td>795</td>\n",
       "      <td>450.245236</td>\n",
       "      <td>10936.929224</td>\n",
       "      <td>1343.034247</td>\n",
       "    </tr>\n",
       "    <tr>\n",
       "      <th>...</th>\n",
       "      <td>...</td>\n",
       "      <td>...</td>\n",
       "      <td>...</td>\n",
       "      <td>...</td>\n",
       "      <td>...</td>\n",
       "      <td>...</td>\n",
       "      <td>...</td>\n",
       "      <td>...</td>\n",
       "      <td>...</td>\n",
       "      <td>...</td>\n",
       "      <td>...</td>\n",
       "      <td>...</td>\n",
       "      <td>...</td>\n",
       "      <td>...</td>\n",
       "      <td>...</td>\n",
       "      <td>...</td>\n",
       "      <td>...</td>\n",
       "    </tr>\n",
       "    <tr>\n",
       "      <th>303303002111300</th>\n",
       "      <td>Newfoundland and Labrador / Terre-Neuve-et-Lab...</td>\n",
       "      <td>CDR</td>\n",
       "      <td>SNO</td>\n",
       "      <td>7</td>\n",
       "      <td>NaN</td>\n",
       "      <td>NaN</td>\n",
       "      <td>NaN</td>\n",
       "      <td>2</td>\n",
       "      <td>1</td>\n",
       "      <td>9.644073e+08</td>\n",
       "      <td>178641.754217</td>\n",
       "      <td>1.000000</td>\n",
       "      <td>0.000185</td>\n",
       "      <td>0</td>\n",
       "      <td>0.000000</td>\n",
       "      <td>21316.000000</td>\n",
       "      <td>1134.000000</td>\n",
       "    </tr>\n",
       "    <tr>\n",
       "      <th>303303002122000</th>\n",
       "      <td>Newfoundland and Labrador / Terre-Neuve-et-Lab...</td>\n",
       "      <td>CDR</td>\n",
       "      <td>T</td>\n",
       "      <td>7</td>\n",
       "      <td>NaN</td>\n",
       "      <td>NaN</td>\n",
       "      <td>NaN</td>\n",
       "      <td>5</td>\n",
       "      <td>2</td>\n",
       "      <td>1.194131e+06</td>\n",
       "      <td>179256.404038</td>\n",
       "      <td>0.574792</td>\n",
       "      <td>0.086285</td>\n",
       "      <td>150</td>\n",
       "      <td>125.614323</td>\n",
       "      <td>12788.600000</td>\n",
       "      <td>2904.200000</td>\n",
       "    </tr>\n",
       "    <tr>\n",
       "      <th>303303002122001</th>\n",
       "      <td>Newfoundland and Labrador / Terre-Neuve-et-Lab...</td>\n",
       "      <td>CDR</td>\n",
       "      <td>T</td>\n",
       "      <td>7</td>\n",
       "      <td>NaN</td>\n",
       "      <td>NaN</td>\n",
       "      <td>NaN</td>\n",
       "      <td>16</td>\n",
       "      <td>6</td>\n",
       "      <td>1.194131e+06</td>\n",
       "      <td>179256.404038</td>\n",
       "      <td>1.000000</td>\n",
       "      <td>0.150114</td>\n",
       "      <td>150</td>\n",
       "      <td>125.614323</td>\n",
       "      <td>39349.375000</td>\n",
       "      <td>9668.250000</td>\n",
       "    </tr>\n",
       "    <tr>\n",
       "      <th>303303002122002</th>\n",
       "      <td>Newfoundland and Labrador / Terre-Neuve-et-Lab...</td>\n",
       "      <td>CDR</td>\n",
       "      <td>T</td>\n",
       "      <td>7</td>\n",
       "      <td>NaN</td>\n",
       "      <td>NaN</td>\n",
       "      <td>NaN</td>\n",
       "      <td>2</td>\n",
       "      <td>2</td>\n",
       "      <td>1.194131e+06</td>\n",
       "      <td>179287.191779</td>\n",
       "      <td>0.514279</td>\n",
       "      <td>0.077214</td>\n",
       "      <td>150</td>\n",
       "      <td>125.614323</td>\n",
       "      <td>5414.500000</td>\n",
       "      <td>2030.000000</td>\n",
       "    </tr>\n",
       "    <tr>\n",
       "      <th>303303002122003</th>\n",
       "      <td>Newfoundland and Labrador / Terre-Neuve-et-Lab...</td>\n",
       "      <td>CDR</td>\n",
       "      <td>T</td>\n",
       "      <td>7</td>\n",
       "      <td>NaN</td>\n",
       "      <td>NaN</td>\n",
       "      <td>NaN</td>\n",
       "      <td>1</td>\n",
       "      <td>1</td>\n",
       "      <td>1.194131e+06</td>\n",
       "      <td>179287.191779</td>\n",
       "      <td>0.912957</td>\n",
       "      <td>0.137072</td>\n",
       "      <td>150</td>\n",
       "      <td>125.614323</td>\n",
       "      <td>37499.000000</td>\n",
       "      <td>436.000000</td>\n",
       "    </tr>\n",
       "  </tbody>\n",
       "</table>\n",
       "<p>582648 rows × 17 columns</p>\n",
       "</div>"
      ],
      "text/plain": [
       "                                                            PRNAME CDTYPE   \n",
       "quadkey                                                                     \n",
       "302231302213222                                            Ontario     RM  \\\n",
       "302231302213223                                            Ontario     RM   \n",
       "302231302230013                                            Ontario     RM   \n",
       "302231302230022                                            Ontario     RM   \n",
       "302231302230023                                            Ontario     RM   \n",
       "...                                                            ...    ...   \n",
       "303303002111300  Newfoundland and Labrador / Terre-Neuve-et-Lab...    CDR   \n",
       "303303002122000  Newfoundland and Labrador / Terre-Neuve-et-Lab...    CDR   \n",
       "303303002122001  Newfoundland and Labrador / Terre-Neuve-et-Lab...    CDR   \n",
       "303303002122002  Newfoundland and Labrador / Terre-Neuve-et-Lab...    CDR   \n",
       "303303002122003  Newfoundland and Labrador / Terre-Neuve-et-Lab...    CDR   \n",
       "\n",
       "                CSDTYPE SACTYPE CMATYPE PCTYPE PCCLASS  tests  devices   \n",
       "quadkey                                                                  \n",
       "302231302213222       T       1       B      2       2    142       36  \\\n",
       "302231302213223       T       1       B      2       2     18       11   \n",
       "302231302230013       T       1       B      2       2     80       29   \n",
       "302231302230022       T       1       B      2       2     69       10   \n",
       "302231302230023       T       1       B      2       2    438       53   \n",
       "...                 ...     ...     ...    ...     ...    ...      ...   \n",
       "303303002111300     SNO       7     NaN    NaN     NaN      2        1   \n",
       "303303002122000       T       7     NaN    NaN     NaN      5        2   \n",
       "303303002122001       T       7     NaN    NaN     NaN     16        6   \n",
       "303303002122002       T       7     NaN    NaN     NaN      2        2   \n",
       "303303002122003       T       7     NaN    NaN     NaN      1        1   \n",
       "\n",
       "                     das_area      tile_area  tile_frac  das_frac  DAPOP   \n",
       "quadkey                                                                    \n",
       "302231302213222  4.489387e+06  205331.876525   0.917314  0.041955   1420  \\\n",
       "302231302213223  2.309252e+07  205331.876525   0.475620  0.004229    470   \n",
       "302231302230013  5.391016e+06  205402.379648   0.894827  0.034094   1030   \n",
       "302231302230022  1.030375e+07  205472.906899   0.611219  0.012189    505   \n",
       "302231302230023  1.765704e+06  205472.906900   0.871430  0.101407    795   \n",
       "...                       ...            ...        ...       ...    ...   \n",
       "303303002111300  9.644073e+08  178641.754217   1.000000  0.000185      0   \n",
       "303303002122000  1.194131e+06  179256.404038   0.574792  0.086285    150   \n",
       "303303002122001  1.194131e+06  179256.404038   1.000000  0.150114    150   \n",
       "303303002122002  1.194131e+06  179287.191779   0.514279  0.077214    150   \n",
       "303303002122003  1.194131e+06  179287.191779   0.912957  0.137072    150   \n",
       "\n",
       "                 POP_DENSITY     avg_d_kbps     avg_u_kbps  \n",
       "quadkey                                                     \n",
       "302231302213222   316.301553  131957.809859   17415.246479  \n",
       "302231302213223    20.352909  130224.055556   55252.222222  \n",
       "302231302230013   191.058601  275870.087500  126846.125000  \n",
       "302231302230022    49.011263    7741.492754     978.376812  \n",
       "302231302230023   450.245236   10936.929224    1343.034247  \n",
       "...                      ...            ...            ...  \n",
       "303303002111300     0.000000   21316.000000    1134.000000  \n",
       "303303002122000   125.614323   12788.600000    2904.200000  \n",
       "303303002122001   125.614323   39349.375000    9668.250000  \n",
       "303303002122002   125.614323    5414.500000    2030.000000  \n",
       "303303002122003   125.614323   37499.000000     436.000000  \n",
       "\n",
       "[582648 rows x 17 columns]"
      ]
     },
     "execution_count": 17,
     "metadata": {},
     "output_type": "execute_result"
    }
   ],
   "source": [
    "col_subset = [pkey] + categorical_labels + numerical_vars + target_vars\n",
    "features_table.loc[:,col_subset].set_index('quadkey')"
   ]
  },
  {
   "cell_type": "code",
   "execution_count": 18,
   "id": "56254fc0-eff4-4510-8378-90c69b9ac8f5",
   "metadata": {
    "tags": []
   },
   "outputs": [
    {
     "data": {
      "text/plain": [
       "geopandas.geodataframe.GeoDataFrame"
      ]
     },
     "execution_count": 18,
     "metadata": {},
     "output_type": "execute_result"
    }
   ],
   "source": [
    "type(features_table)"
   ]
  },
  {
   "cell_type": "code",
   "execution_count": 21,
   "id": "8f70d067-0246-411b-bd66-ede5a5f4cdc1",
   "metadata": {
    "tags": []
   },
   "outputs": [],
   "source": [
    "path_to_files = \"../data/dataframes/\"\n",
    "save_df(features_table, df_type=\"gp\", base_path=path_to_files, file_name=\"features_table.gpkg\")"
   ]
  },
  {
   "cell_type": "markdown",
   "id": "cae6cd3c-8bfb-4f1f-90f2-d7f0929f942a",
   "metadata": {},
   "source": [
    "# Loading the Features Table Dataset"
   ]
  },
  {
   "cell_type": "code",
   "execution_count": null,
   "id": "8d9c8661-90ce-4110-859b-6eacd6150350",
   "metadata": {},
   "outputs": [],
   "source": [
    "path_to_files = \"../data/dataframes/\"\n",
    "features_table = load_csv_file(df_type=\"gp\", base_path=path_to_files, file_name=\"features_table.gpkg\")"
   ]
  },
  {
   "cell_type": "markdown",
   "id": "d19982da-2800-434e-a05a-b6ac68c73fdd",
   "metadata": {},
   "source": [
    "### Inputs to the Program"
   ]
  },
  {
   "cell_type": "markdown",
   "id": "b8cb4c37-009e-4821-b453-67d53cd37e84",
   "metadata": {},
   "source": [
    "The inputs to the program include:\n",
    "- Name of Province\n",
    "- Upload or Download\n",
    "- Population Percentile (from 10 to 90)"
   ]
  },
  {
   "cell_type": "code",
   "execution_count": 23,
   "id": "34743728-f706-4723-8ddf-a77bf90c17a0",
   "metadata": {
    "tags": []
   },
   "outputs": [
    {
     "name": "stdout",
     "output_type": "stream",
     "text": [
      "['Ontario' 'Quebec / Québec' 'Alberta' 'Manitoba'\n",
      " 'Nova Scotia / Nouvelle-Écosse' 'British Columbia / Colombie-Britannique'\n",
      " 'Saskatchewan' 'New Brunswick / Nouveau-Brunswick'\n",
      " 'Newfoundland and Labrador / Terre-Neuve-et-Labrador'\n",
      " 'Prince Edward Island / Île-du-Prince-Édouard' 'Nunavut'\n",
      " 'Northwest Territories / Territoires du Nord-Ouest' 'Yukon']\n"
     ]
    }
   ],
   "source": [
    "province_names = features_table[\"PRNAME\"].unique()\n",
    "print(province_names)"
   ]
  },
  {
   "cell_type": "code",
   "execution_count": null,
   "id": "a571a3fe-1127-4076-8f8e-0c249653b03a",
   "metadata": {},
   "outputs": [],
   "source": []
  }
 ],
 "metadata": {
  "kernelspec": {
   "display_name": "Python 3 (ipykernel)",
   "language": "python",
   "name": "python3"
  },
  "language_info": {
   "codemirror_mode": {
    "name": "ipython",
    "version": 3
   },
   "file_extension": ".py",
   "mimetype": "text/x-python",
   "name": "python",
   "nbconvert_exporter": "python",
   "pygments_lexer": "ipython3",
   "version": "3.10.10"
  },
  "vscode": {
   "interpreter": {
    "hash": "7baa5682b3ee41d95f3e6c53f6f101854543f295d881c00164f5d254f1692751"
   }
  }
 },
 "nbformat": 4,
 "nbformat_minor": 5
}
