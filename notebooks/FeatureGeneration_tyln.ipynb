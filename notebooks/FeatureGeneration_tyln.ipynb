{
 "cells": [
  {
   "cell_type": "markdown",
   "id": "67e6c18a-e1a3-49cf-bbfc-daf05574895d",
   "metadata": {},
   "source": [
    "## Generating Data For Time Series Model (Alberta)\n",
    "\n",
    "For simplicity I picked Alberta data to build a time series forecasting model for upcoming years. \n",
    "\n",
    "Some part of the codes are copied from *Simple Tile Speed Model.ipynb* file."
   ]
  },
  {
   "cell_type": "markdown",
   "id": "d3a5c402-6640-464d-9efc-56a24f44afc6",
   "metadata": {},
   "source": [
    "### 1. Packages"
   ]
  },
  {
   "cell_type": "code",
   "execution_count": 2,
   "id": "bf810cce-9b8b-4811-ae5f-728f5a0a1a47",
   "metadata": {
    "tags": []
   },
   "outputs": [],
   "source": [
    "import sys\n",
    "sys.path.append(\"..\")\n",
    "import src.config\n",
    "from src.datasets.loading import statcan, ookla\n",
    "import numpy as np \n",
    "import pandas as pd\n",
    "import geopandas as gp\n",
    "\n",
    "#from sklearn import preprocessing, pipeline, compose\n",
    "#from sklearn import linear_model, model_selection, svm\n",
    "#from sklearn import metrics\n",
    "\n",
    "import matplotlib.pyplot as plt "
   ]
  },
  {
   "cell_type": "markdown",
   "id": "530ccba3-a624-43f9-81a9-1d957ec57576",
   "metadata": {},
   "source": [
    "### 2. Data Loading"
   ]
  },
  {
   "cell_type": "markdown",
   "id": "92bf3820-eb5c-4de6-b07a-d735ab863c13",
   "metadata": {},
   "source": [
    "Following codes copied from *Simple Tile Speed Model.ipynb* notebook"
   ]
  },
  {
   "cell_type": "code",
   "execution_count": 3,
   "id": "678cffda-694d-4da4-8cfa-6c7e9b752e64",
   "metadata": {
    "tags": []
   },
   "outputs": [],
   "source": [
    "ookla_tiles = ookla.canada_tiles()"
   ]
  },
  {
   "cell_type": "code",
   "execution_count": 4,
   "id": "1c21d578-4bce-40a6-b837-a3ebde93c6ca",
   "metadata": {
    "tags": []
   },
   "outputs": [
    {
     "name": "stderr",
     "output_type": "stream",
     "text": [
      "/home/jovyan/src/datasets/loading/statcan.py:234: DtypeWarning: Columns (3,11,12,13) have mixed types. Specify dtype option on import or set low_memory=False.\n",
      "  return pd.read_csv(POP_FILE)\n"
     ]
    }
   ],
   "source": [
    "da_pops = statcan.dissemination_areas_populations()"
   ]
  },
  {
   "cell_type": "code",
   "execution_count": 5,
   "id": "692d0194-455e-42d0-b18e-00fbc67ef19a",
   "metadata": {
    "tags": []
   },
   "outputs": [],
   "source": [
    "o = gp.read_file(src.config.OVERLAYS_DIR / 'tile_das_overlay') #this can take a few minutes to load.\n",
    "tile_da_label = o.dropna(subset=['DAUID','quadkey']).sort_values(by=['quadkey','tile_frac'],ascending=False).drop_duplicates(subset='quadkey', keep='first')\n",
    "tile_da_label['quadkey'] = tile_da_label['quadkey'].astype(int)\n",
    "tile_da_label['DAUID'] = tile_da_label['DAUID'].astype(int)"
   ]
  },
  {
   "cell_type": "code",
   "execution_count": 6,
   "id": "ce6ae238-bb9d-421c-9e3e-9e86a57a6324",
   "metadata": {
    "tags": []
   },
   "outputs": [],
   "source": [
    "all_quarters = ookla.speed_data(ookla.available_files().loc[('fixed',2019,1):('fixed',2023,1)].path)"
   ]
  },
  {
   "cell_type": "code",
   "execution_count": 37,
   "id": "6448212b-41f2-4de6-8b8c-beb72d5af89c",
   "metadata": {
    "tags": []
   },
   "outputs": [
    {
     "data": {
      "text/html": [
       "<div>\n",
       "<style scoped>\n",
       "    .dataframe tbody tr th:only-of-type {\n",
       "        vertical-align: middle;\n",
       "    }\n",
       "\n",
       "    .dataframe tbody tr th {\n",
       "        vertical-align: top;\n",
       "    }\n",
       "\n",
       "    .dataframe thead th {\n",
       "        text-align: right;\n",
       "    }\n",
       "</style>\n",
       "<table border=\"1\" class=\"dataframe\">\n",
       "  <thead>\n",
       "    <tr style=\"text-align: right;\">\n",
       "      <th></th>\n",
       "      <th>quadkey</th>\n",
       "      <th>avg_d_kbps</th>\n",
       "      <th>avg_u_kbps</th>\n",
       "      <th>avg_lat_ms</th>\n",
       "      <th>tests</th>\n",
       "      <th>devices</th>\n",
       "      <th>conn_type</th>\n",
       "      <th>year</th>\n",
       "      <th>quarter</th>\n",
       "    </tr>\n",
       "  </thead>\n",
       "  <tbody>\n",
       "    <tr>\n",
       "      <th>0</th>\n",
       "      <td>302303331012303</td>\n",
       "      <td>130704</td>\n",
       "      <td>26290</td>\n",
       "      <td>11</td>\n",
       "      <td>8</td>\n",
       "      <td>6</td>\n",
       "      <td>fixed</td>\n",
       "      <td>2019</td>\n",
       "      <td>1</td>\n",
       "    </tr>\n",
       "    <tr>\n",
       "      <th>1</th>\n",
       "      <td>212122230130321</td>\n",
       "      <td>100966</td>\n",
       "      <td>55007</td>\n",
       "      <td>8</td>\n",
       "      <td>118</td>\n",
       "      <td>23</td>\n",
       "      <td>fixed</td>\n",
       "      <td>2019</td>\n",
       "      <td>1</td>\n",
       "    </tr>\n",
       "    <tr>\n",
       "      <th>2</th>\n",
       "      <td>212120311013031</td>\n",
       "      <td>890</td>\n",
       "      <td>2432</td>\n",
       "      <td>362</td>\n",
       "      <td>5</td>\n",
       "      <td>2</td>\n",
       "      <td>fixed</td>\n",
       "      <td>2019</td>\n",
       "      <td>1</td>\n",
       "    </tr>\n",
       "    <tr>\n",
       "      <th>3</th>\n",
       "      <td>212102012132221</td>\n",
       "      <td>36347</td>\n",
       "      <td>11509</td>\n",
       "      <td>14</td>\n",
       "      <td>44</td>\n",
       "      <td>1</td>\n",
       "      <td>fixed</td>\n",
       "      <td>2019</td>\n",
       "      <td>1</td>\n",
       "    </tr>\n",
       "    <tr>\n",
       "      <th>4</th>\n",
       "      <td>212122232013120</td>\n",
       "      <td>59481</td>\n",
       "      <td>23797</td>\n",
       "      <td>10</td>\n",
       "      <td>45</td>\n",
       "      <td>13</td>\n",
       "      <td>fixed</td>\n",
       "      <td>2019</td>\n",
       "      <td>1</td>\n",
       "    </tr>\n",
       "  </tbody>\n",
       "</table>\n",
       "</div>"
      ],
      "text/plain": [
       "           quadkey  avg_d_kbps  avg_u_kbps  avg_lat_ms  tests  devices   \n",
       "0  302303331012303      130704       26290          11      8        6  \\\n",
       "1  212122230130321      100966       55007           8    118       23   \n",
       "2  212120311013031         890        2432         362      5        2   \n",
       "3  212102012132221       36347       11509          14     44        1   \n",
       "4  212122232013120       59481       23797          10     45       13   \n",
       "\n",
       "  conn_type  year  quarter  \n",
       "0     fixed  2019        1  \n",
       "1     fixed  2019        1  \n",
       "2     fixed  2019        1  \n",
       "3     fixed  2019        1  \n",
       "4     fixed  2019        1  "
      ]
     },
     "execution_count": 37,
     "metadata": {},
     "output_type": "execute_result"
    }
   ],
   "source": [
    "all_quarters.head()"
   ]
  },
  {
   "cell_type": "markdown",
   "id": "530d53e9-3cfd-440c-8c1b-521e492f9291",
   "metadata": {},
   "source": [
    "### 3. Data Wrangling"
   ]
  },
  {
   "cell_type": "code",
   "execution_count": 67,
   "id": "adfaf8cf-07b4-43cf-a497-2db3d26e3a0d",
   "metadata": {
    "tags": []
   },
   "outputs": [],
   "source": [
    "tile_da_label_subset = tile_da_label[['quadkey', 'PRUID']]\n",
    "merged_df = all_quarters.merge(tile_da_label_subset, on='quadkey', how='left')"
   ]
  },
  {
   "cell_type": "code",
   "execution_count": 68,
   "id": "5f2c642f-00c4-4f92-b99f-ff4882bb0dee",
   "metadata": {
    "tags": []
   },
   "outputs": [
    {
     "data": {
      "text/plain": [
       "Index(['quadkey', 'avg_d_kbps', 'avg_u_kbps', 'avg_lat_ms', 'tests', 'devices',\n",
       "       'conn_type', 'year', 'quarter', 'PRUID'],\n",
       "      dtype='object')"
      ]
     },
     "execution_count": 68,
     "metadata": {},
     "output_type": "execute_result"
    }
   ],
   "source": [
    "merged_df.columns"
   ]
  },
  {
   "cell_type": "code",
   "execution_count": 69,
   "id": "763fc913-fa4c-4db0-990a-05a167b5bd53",
   "metadata": {
    "tags": []
   },
   "outputs": [
    {
     "data": {
      "text/plain": [
       "array(['24', '59', '35', '48', '11', '46', '12', '13', '47', nan, '10',\n",
       "       '61', '60', '62'], dtype=object)"
      ]
     },
     "execution_count": 69,
     "metadata": {},
     "output_type": "execute_result"
    }
   ],
   "source": [
    "merged_df.PRUID.unique()"
   ]
  },
  {
   "cell_type": "code",
   "execution_count": 70,
   "id": "ce23a230-21de-4200-9380-2279ccee9ef1",
   "metadata": {
    "tags": []
   },
   "outputs": [
    {
     "data": {
      "text/html": [
       "<div>\n",
       "<style scoped>\n",
       "    .dataframe tbody tr th:only-of-type {\n",
       "        vertical-align: middle;\n",
       "    }\n",
       "\n",
       "    .dataframe tbody tr th {\n",
       "        vertical-align: top;\n",
       "    }\n",
       "\n",
       "    .dataframe thead th {\n",
       "        text-align: right;\n",
       "    }\n",
       "</style>\n",
       "<table border=\"1\" class=\"dataframe\">\n",
       "  <thead>\n",
       "    <tr style=\"text-align: right;\">\n",
       "      <th></th>\n",
       "      <th>quadkey</th>\n",
       "      <th>avg_d_kbps</th>\n",
       "      <th>avg_u_kbps</th>\n",
       "      <th>avg_lat_ms</th>\n",
       "      <th>tests</th>\n",
       "      <th>devices</th>\n",
       "      <th>conn_type</th>\n",
       "      <th>year</th>\n",
       "      <th>quarter</th>\n",
       "      <th>PRUID</th>\n",
       "    </tr>\n",
       "  </thead>\n",
       "  <tbody>\n",
       "    <tr>\n",
       "      <th>473</th>\n",
       "      <td>212122221131202</td>\n",
       "      <td>184386</td>\n",
       "      <td>15984</td>\n",
       "      <td>10</td>\n",
       "      <td>1</td>\n",
       "      <td>1</td>\n",
       "      <td>fixed</td>\n",
       "      <td>2019</td>\n",
       "      <td>1</td>\n",
       "      <td>NaN</td>\n",
       "    </tr>\n",
       "    <tr>\n",
       "      <th>4924</th>\n",
       "      <td>212122221131323</td>\n",
       "      <td>17384</td>\n",
       "      <td>14256</td>\n",
       "      <td>10</td>\n",
       "      <td>1</td>\n",
       "      <td>1</td>\n",
       "      <td>fixed</td>\n",
       "      <td>2019</td>\n",
       "      <td>1</td>\n",
       "      <td>NaN</td>\n",
       "    </tr>\n",
       "    <tr>\n",
       "      <th>6897</th>\n",
       "      <td>302232121000001</td>\n",
       "      <td>165698</td>\n",
       "      <td>22965</td>\n",
       "      <td>28</td>\n",
       "      <td>88</td>\n",
       "      <td>2</td>\n",
       "      <td>fixed</td>\n",
       "      <td>2019</td>\n",
       "      <td>1</td>\n",
       "      <td>NaN</td>\n",
       "    </tr>\n",
       "    <tr>\n",
       "      <th>7202</th>\n",
       "      <td>212122203210202</td>\n",
       "      <td>7124</td>\n",
       "      <td>4201</td>\n",
       "      <td>19</td>\n",
       "      <td>1</td>\n",
       "      <td>1</td>\n",
       "      <td>fixed</td>\n",
       "      <td>2019</td>\n",
       "      <td>1</td>\n",
       "      <td>NaN</td>\n",
       "    </tr>\n",
       "    <tr>\n",
       "      <th>8468</th>\n",
       "      <td>302303321312313</td>\n",
       "      <td>74341</td>\n",
       "      <td>21353</td>\n",
       "      <td>15</td>\n",
       "      <td>2</td>\n",
       "      <td>2</td>\n",
       "      <td>fixed</td>\n",
       "      <td>2019</td>\n",
       "      <td>1</td>\n",
       "      <td>NaN</td>\n",
       "    </tr>\n",
       "    <tr>\n",
       "      <th>...</th>\n",
       "      <td>...</td>\n",
       "      <td>...</td>\n",
       "      <td>...</td>\n",
       "      <td>...</td>\n",
       "      <td>...</td>\n",
       "      <td>...</td>\n",
       "      <td>...</td>\n",
       "      <td>...</td>\n",
       "      <td>...</td>\n",
       "      <td>...</td>\n",
       "    </tr>\n",
       "    <tr>\n",
       "      <th>3114375</th>\n",
       "      <td>303301203231010</td>\n",
       "      <td>62133</td>\n",
       "      <td>18841</td>\n",
       "      <td>64</td>\n",
       "      <td>2</td>\n",
       "      <td>1</td>\n",
       "      <td>fixed</td>\n",
       "      <td>2023</td>\n",
       "      <td>1</td>\n",
       "      <td>NaN</td>\n",
       "    </tr>\n",
       "    <tr>\n",
       "      <th>3114376</th>\n",
       "      <td>303301203231112</td>\n",
       "      <td>24915</td>\n",
       "      <td>10131</td>\n",
       "      <td>97</td>\n",
       "      <td>1</td>\n",
       "      <td>1</td>\n",
       "      <td>fixed</td>\n",
       "      <td>2023</td>\n",
       "      <td>1</td>\n",
       "      <td>NaN</td>\n",
       "    </tr>\n",
       "    <tr>\n",
       "      <th>3115076</th>\n",
       "      <td>303301220133003</td>\n",
       "      <td>301130</td>\n",
       "      <td>212592</td>\n",
       "      <td>8</td>\n",
       "      <td>6</td>\n",
       "      <td>2</td>\n",
       "      <td>fixed</td>\n",
       "      <td>2023</td>\n",
       "      <td>1</td>\n",
       "      <td>NaN</td>\n",
       "    </tr>\n",
       "    <tr>\n",
       "      <th>3115148</th>\n",
       "      <td>303301221001202</td>\n",
       "      <td>328713</td>\n",
       "      <td>143597</td>\n",
       "      <td>6</td>\n",
       "      <td>1</td>\n",
       "      <td>1</td>\n",
       "      <td>fixed</td>\n",
       "      <td>2023</td>\n",
       "      <td>1</td>\n",
       "      <td>NaN</td>\n",
       "    </tr>\n",
       "    <tr>\n",
       "      <th>3115463</th>\n",
       "      <td>303302001213223</td>\n",
       "      <td>15064</td>\n",
       "      <td>8501</td>\n",
       "      <td>18</td>\n",
       "      <td>1</td>\n",
       "      <td>1</td>\n",
       "      <td>fixed</td>\n",
       "      <td>2023</td>\n",
       "      <td>1</td>\n",
       "      <td>NaN</td>\n",
       "    </tr>\n",
       "  </tbody>\n",
       "</table>\n",
       "<p>11781 rows × 10 columns</p>\n",
       "</div>"
      ],
      "text/plain": [
       "                 quadkey  avg_d_kbps  avg_u_kbps  avg_lat_ms  tests  devices   \n",
       "473      212122221131202      184386       15984          10      1        1  \\\n",
       "4924     212122221131323       17384       14256          10      1        1   \n",
       "6897     302232121000001      165698       22965          28     88        2   \n",
       "7202     212122203210202        7124        4201          19      1        1   \n",
       "8468     302303321312313       74341       21353          15      2        2   \n",
       "...                  ...         ...         ...         ...    ...      ...   \n",
       "3114375  303301203231010       62133       18841          64      2        1   \n",
       "3114376  303301203231112       24915       10131          97      1        1   \n",
       "3115076  303301220133003      301130      212592           8      6        2   \n",
       "3115148  303301221001202      328713      143597           6      1        1   \n",
       "3115463  303302001213223       15064        8501          18      1        1   \n",
       "\n",
       "        conn_type  year  quarter PRUID  \n",
       "473         fixed  2019        1   NaN  \n",
       "4924        fixed  2019        1   NaN  \n",
       "6897        fixed  2019        1   NaN  \n",
       "7202        fixed  2019        1   NaN  \n",
       "8468        fixed  2019        1   NaN  \n",
       "...           ...   ...      ...   ...  \n",
       "3114375     fixed  2023        1   NaN  \n",
       "3114376     fixed  2023        1   NaN  \n",
       "3115076     fixed  2023        1   NaN  \n",
       "3115148     fixed  2023        1   NaN  \n",
       "3115463     fixed  2023        1   NaN  \n",
       "\n",
       "[11781 rows x 10 columns]"
      ]
     },
     "execution_count": 70,
     "metadata": {},
     "output_type": "execute_result"
    }
   ],
   "source": [
    "merged_df[merged_df['PRUID'].isna()]"
   ]
  },
  {
   "cell_type": "code",
   "execution_count": 71,
   "id": "73ef2b0a-4d02-40ef-8978-bf365b60bf90",
   "metadata": {
    "tags": []
   },
   "outputs": [],
   "source": [
    "merged_df = merged_df.dropna(subset=['PRUID'])"
   ]
  },
  {
   "cell_type": "code",
   "execution_count": 72,
   "id": "824aad5b-694c-42e2-8e80-6d61ab41d8dd",
   "metadata": {
    "tags": []
   },
   "outputs": [],
   "source": [
    "prov_dict = {10: 'NL', 11: 'PE', 12: 'NS', 13: 'NB', 24: 'QC', 35: 'ON', 46: 'MB', 47: 'SK', 48: 'AB', 59: 'BC', 60: 'YT', 61: 'NT', 62: 'NU'}"
   ]
  },
  {
   "cell_type": "code",
   "execution_count": 73,
   "id": "6547f7a4-223e-47fc-a903-3325301a7b8c",
   "metadata": {
    "tags": []
   },
   "outputs": [],
   "source": [
    "merged_df['PR'] = merged_df['PRUID'].astype(int).map(prov_dict)"
   ]
  },
  {
   "cell_type": "code",
   "execution_count": 79,
   "id": "5e5e9fb2-1d59-4e8f-9e1b-ecaef4da74ae",
   "metadata": {
    "tags": []
   },
   "outputs": [],
   "source": [
    "merged_df = merged_df[['PR', 'avg_d_kbps', 'avg_u_kbps', 'quarter', 'year']]"
   ]
  },
  {
   "cell_type": "code",
   "execution_count": 80,
   "id": "b1003c8e-e6d4-4e95-a742-60bac361d727",
   "metadata": {
    "tags": []
   },
   "outputs": [
    {
     "data": {
      "text/html": [
       "<div>\n",
       "<style scoped>\n",
       "    .dataframe tbody tr th:only-of-type {\n",
       "        vertical-align: middle;\n",
       "    }\n",
       "\n",
       "    .dataframe tbody tr th {\n",
       "        vertical-align: top;\n",
       "    }\n",
       "\n",
       "    .dataframe thead th {\n",
       "        text-align: right;\n",
       "    }\n",
       "</style>\n",
       "<table border=\"1\" class=\"dataframe\">\n",
       "  <thead>\n",
       "    <tr style=\"text-align: right;\">\n",
       "      <th></th>\n",
       "      <th>PR</th>\n",
       "      <th>year</th>\n",
       "      <th>quarter</th>\n",
       "      <th>avg_d_kbps</th>\n",
       "      <th>avg_u_kbps</th>\n",
       "    </tr>\n",
       "  </thead>\n",
       "  <tbody>\n",
       "    <tr>\n",
       "      <th>0</th>\n",
       "      <td>AB</td>\n",
       "      <td>2019</td>\n",
       "      <td>1</td>\n",
       "      <td>64501.807089</td>\n",
       "      <td>15061.175467</td>\n",
       "    </tr>\n",
       "    <tr>\n",
       "      <th>1</th>\n",
       "      <td>AB</td>\n",
       "      <td>2019</td>\n",
       "      <td>2</td>\n",
       "      <td>65839.564439</td>\n",
       "      <td>16230.529401</td>\n",
       "    </tr>\n",
       "    <tr>\n",
       "      <th>2</th>\n",
       "      <td>AB</td>\n",
       "      <td>2019</td>\n",
       "      <td>3</td>\n",
       "      <td>69426.308808</td>\n",
       "      <td>18790.990094</td>\n",
       "    </tr>\n",
       "    <tr>\n",
       "      <th>3</th>\n",
       "      <td>AB</td>\n",
       "      <td>2019</td>\n",
       "      <td>4</td>\n",
       "      <td>71961.254161</td>\n",
       "      <td>21125.670596</td>\n",
       "    </tr>\n",
       "    <tr>\n",
       "      <th>4</th>\n",
       "      <td>AB</td>\n",
       "      <td>2020</td>\n",
       "      <td>1</td>\n",
       "      <td>73054.660884</td>\n",
       "      <td>21226.205331</td>\n",
       "    </tr>\n",
       "  </tbody>\n",
       "</table>\n",
       "</div>"
      ],
      "text/plain": [
       "   PR  year  quarter    avg_d_kbps    avg_u_kbps\n",
       "0  AB  2019        1  64501.807089  15061.175467\n",
       "1  AB  2019        2  65839.564439  16230.529401\n",
       "2  AB  2019        3  69426.308808  18790.990094\n",
       "3  AB  2019        4  71961.254161  21125.670596\n",
       "4  AB  2020        1  73054.660884  21226.205331"
      ]
     },
     "execution_count": 80,
     "metadata": {},
     "output_type": "execute_result"
    }
   ],
   "source": [
    "df_grouped = merged_df.groupby(['PR', 'year', 'quarter']).mean().reset_index()\n",
    "df_grouped.head()"
   ]
  },
  {
   "cell_type": "markdown",
   "id": "abd78eea-6f88-4618-b222-c24e603b7271",
   "metadata": {},
   "source": [
    "Creating Province DataFrames"
   ]
  },
  {
   "cell_type": "code",
   "execution_count": 83,
   "id": "fbc2dc95-a458-4091-a677-6e51d4055a64",
   "metadata": {
    "tags": []
   },
   "outputs": [],
   "source": [
    "AB_df = df_grouped[df_grouped['PR'] == 'AB']"
   ]
  },
  {
   "cell_type": "code",
   "execution_count": 84,
   "id": "ecd2bfe4-df5c-4e22-90da-cb2a88c1788f",
   "metadata": {
    "tags": []
   },
   "outputs": [
    {
     "data": {
      "text/plain": [
       "(17, 5)"
      ]
     },
     "execution_count": 84,
     "metadata": {},
     "output_type": "execute_result"
    }
   ],
   "source": [
    "AB_df.shape"
   ]
  },
  {
   "cell_type": "code",
   "execution_count": 90,
   "id": "2eb93702-f850-4f4a-b5ff-f0dda104f6cc",
   "metadata": {
    "tags": []
   },
   "outputs": [
    {
     "data": {
      "text/html": [
       "<div>\n",
       "<style scoped>\n",
       "    .dataframe tbody tr th:only-of-type {\n",
       "        vertical-align: middle;\n",
       "    }\n",
       "\n",
       "    .dataframe tbody tr th {\n",
       "        vertical-align: top;\n",
       "    }\n",
       "\n",
       "    .dataframe thead th {\n",
       "        text-align: right;\n",
       "    }\n",
       "</style>\n",
       "<table border=\"1\" class=\"dataframe\">\n",
       "  <thead>\n",
       "    <tr style=\"text-align: right;\">\n",
       "      <th></th>\n",
       "      <th>PR</th>\n",
       "      <th>year</th>\n",
       "      <th>quarter</th>\n",
       "      <th>avg_d_kbps</th>\n",
       "      <th>avg_u_kbps</th>\n",
       "    </tr>\n",
       "  </thead>\n",
       "  <tbody>\n",
       "    <tr>\n",
       "      <th>0</th>\n",
       "      <td>AB</td>\n",
       "      <td>2019</td>\n",
       "      <td>1</td>\n",
       "      <td>64501.807089</td>\n",
       "      <td>15061.175467</td>\n",
       "    </tr>\n",
       "    <tr>\n",
       "      <th>1</th>\n",
       "      <td>AB</td>\n",
       "      <td>2019</td>\n",
       "      <td>2</td>\n",
       "      <td>65839.564439</td>\n",
       "      <td>16230.529401</td>\n",
       "    </tr>\n",
       "    <tr>\n",
       "      <th>2</th>\n",
       "      <td>AB</td>\n",
       "      <td>2019</td>\n",
       "      <td>3</td>\n",
       "      <td>69426.308808</td>\n",
       "      <td>18790.990094</td>\n",
       "    </tr>\n",
       "    <tr>\n",
       "      <th>3</th>\n",
       "      <td>AB</td>\n",
       "      <td>2019</td>\n",
       "      <td>4</td>\n",
       "      <td>71961.254161</td>\n",
       "      <td>21125.670596</td>\n",
       "    </tr>\n",
       "    <tr>\n",
       "      <th>4</th>\n",
       "      <td>AB</td>\n",
       "      <td>2020</td>\n",
       "      <td>1</td>\n",
       "      <td>73054.660884</td>\n",
       "      <td>21226.205331</td>\n",
       "    </tr>\n",
       "    <tr>\n",
       "      <th>5</th>\n",
       "      <td>AB</td>\n",
       "      <td>2020</td>\n",
       "      <td>2</td>\n",
       "      <td>70591.225705</td>\n",
       "      <td>22041.207882</td>\n",
       "    </tr>\n",
       "    <tr>\n",
       "      <th>6</th>\n",
       "      <td>AB</td>\n",
       "      <td>2020</td>\n",
       "      <td>3</td>\n",
       "      <td>77523.109218</td>\n",
       "      <td>25959.033187</td>\n",
       "    </tr>\n",
       "    <tr>\n",
       "      <th>7</th>\n",
       "      <td>AB</td>\n",
       "      <td>2020</td>\n",
       "      <td>4</td>\n",
       "      <td>87178.815007</td>\n",
       "      <td>32084.795266</td>\n",
       "    </tr>\n",
       "    <tr>\n",
       "      <th>8</th>\n",
       "      <td>AB</td>\n",
       "      <td>2021</td>\n",
       "      <td>1</td>\n",
       "      <td>87970.058126</td>\n",
       "      <td>32130.989513</td>\n",
       "    </tr>\n",
       "    <tr>\n",
       "      <th>9</th>\n",
       "      <td>AB</td>\n",
       "      <td>2021</td>\n",
       "      <td>2</td>\n",
       "      <td>101021.247794</td>\n",
       "      <td>34229.928305</td>\n",
       "    </tr>\n",
       "    <tr>\n",
       "      <th>10</th>\n",
       "      <td>AB</td>\n",
       "      <td>2021</td>\n",
       "      <td>3</td>\n",
       "      <td>104065.769300</td>\n",
       "      <td>37364.055700</td>\n",
       "    </tr>\n",
       "    <tr>\n",
       "      <th>11</th>\n",
       "      <td>AB</td>\n",
       "      <td>2021</td>\n",
       "      <td>4</td>\n",
       "      <td>112881.817081</td>\n",
       "      <td>43918.732761</td>\n",
       "    </tr>\n",
       "    <tr>\n",
       "      <th>12</th>\n",
       "      <td>AB</td>\n",
       "      <td>2022</td>\n",
       "      <td>1</td>\n",
       "      <td>124735.968083</td>\n",
       "      <td>48668.496341</td>\n",
       "    </tr>\n",
       "    <tr>\n",
       "      <th>13</th>\n",
       "      <td>AB</td>\n",
       "      <td>2022</td>\n",
       "      <td>2</td>\n",
       "      <td>123492.358711</td>\n",
       "      <td>49931.670439</td>\n",
       "    </tr>\n",
       "    <tr>\n",
       "      <th>14</th>\n",
       "      <td>AB</td>\n",
       "      <td>2022</td>\n",
       "      <td>3</td>\n",
       "      <td>132949.329561</td>\n",
       "      <td>56933.652570</td>\n",
       "    </tr>\n",
       "    <tr>\n",
       "      <th>15</th>\n",
       "      <td>AB</td>\n",
       "      <td>2022</td>\n",
       "      <td>4</td>\n",
       "      <td>150487.339316</td>\n",
       "      <td>64443.109998</td>\n",
       "    </tr>\n",
       "    <tr>\n",
       "      <th>16</th>\n",
       "      <td>AB</td>\n",
       "      <td>2023</td>\n",
       "      <td>1</td>\n",
       "      <td>162894.836870</td>\n",
       "      <td>66867.775150</td>\n",
       "    </tr>\n",
       "  </tbody>\n",
       "</table>\n",
       "</div>"
      ],
      "text/plain": [
       "    PR  year  quarter     avg_d_kbps    avg_u_kbps\n",
       "0   AB  2019        1   64501.807089  15061.175467\n",
       "1   AB  2019        2   65839.564439  16230.529401\n",
       "2   AB  2019        3   69426.308808  18790.990094\n",
       "3   AB  2019        4   71961.254161  21125.670596\n",
       "4   AB  2020        1   73054.660884  21226.205331\n",
       "5   AB  2020        2   70591.225705  22041.207882\n",
       "6   AB  2020        3   77523.109218  25959.033187\n",
       "7   AB  2020        4   87178.815007  32084.795266\n",
       "8   AB  2021        1   87970.058126  32130.989513\n",
       "9   AB  2021        2  101021.247794  34229.928305\n",
       "10  AB  2021        3  104065.769300  37364.055700\n",
       "11  AB  2021        4  112881.817081  43918.732761\n",
       "12  AB  2022        1  124735.968083  48668.496341\n",
       "13  AB  2022        2  123492.358711  49931.670439\n",
       "14  AB  2022        3  132949.329561  56933.652570\n",
       "15  AB  2022        4  150487.339316  64443.109998\n",
       "16  AB  2023        1  162894.836870  66867.775150"
      ]
     },
     "execution_count": 90,
     "metadata": {},
     "output_type": "execute_result"
    }
   ],
   "source": [
    "AB_df"
   ]
  },
  {
   "cell_type": "code",
   "execution_count": 112,
   "id": "aee0fe79-1cae-4c66-9195-f2e57bb335f3",
   "metadata": {
    "tags": []
   },
   "outputs": [],
   "source": [
    "time_index = pd.date_range(start='2019-Q1', end='2023-Q2', freq='Q')\n",
    "AB_avg_d_kbps = AB_df[['avg_d_kbps']]"
   ]
  },
  {
   "cell_type": "code",
   "execution_count": 113,
   "id": "458c5707-64dc-46c2-9e37-1083a891a4c7",
   "metadata": {
    "tags": []
   },
   "outputs": [],
   "source": [
    "AB_avg_d_kbps.set_index(time_index, inplace=True)"
   ]
  },
  {
   "cell_type": "code",
   "execution_count": 115,
   "id": "8029f80b-b348-42f1-85b5-5ba9154fc336",
   "metadata": {
    "tags": []
   },
   "outputs": [
    {
     "data": {
      "text/html": [
       "<div>\n",
       "<style scoped>\n",
       "    .dataframe tbody tr th:only-of-type {\n",
       "        vertical-align: middle;\n",
       "    }\n",
       "\n",
       "    .dataframe tbody tr th {\n",
       "        vertical-align: top;\n",
       "    }\n",
       "\n",
       "    .dataframe thead th {\n",
       "        text-align: right;\n",
       "    }\n",
       "</style>\n",
       "<table border=\"1\" class=\"dataframe\">\n",
       "  <thead>\n",
       "    <tr style=\"text-align: right;\">\n",
       "      <th></th>\n",
       "      <th>avg_d_kbps</th>\n",
       "    </tr>\n",
       "  </thead>\n",
       "  <tbody>\n",
       "    <tr>\n",
       "      <th>2019-03-31</th>\n",
       "      <td>64501.807089</td>\n",
       "    </tr>\n",
       "    <tr>\n",
       "      <th>2019-06-30</th>\n",
       "      <td>65839.564439</td>\n",
       "    </tr>\n",
       "    <tr>\n",
       "      <th>2019-09-30</th>\n",
       "      <td>69426.308808</td>\n",
       "    </tr>\n",
       "    <tr>\n",
       "      <th>2019-12-31</th>\n",
       "      <td>71961.254161</td>\n",
       "    </tr>\n",
       "    <tr>\n",
       "      <th>2020-03-31</th>\n",
       "      <td>73054.660884</td>\n",
       "    </tr>\n",
       "  </tbody>\n",
       "</table>\n",
       "</div>"
      ],
      "text/plain": [
       "              avg_d_kbps\n",
       "2019-03-31  64501.807089\n",
       "2019-06-30  65839.564439\n",
       "2019-09-30  69426.308808\n",
       "2019-12-31  71961.254161\n",
       "2020-03-31  73054.660884"
      ]
     },
     "execution_count": 115,
     "metadata": {},
     "output_type": "execute_result"
    }
   ],
   "source": [
    "AB_avg_d_kbps.head()"
   ]
  },
  {
   "cell_type": "markdown",
   "id": "dcbc0e06-4b5e-4685-86c4-e2688807f302",
   "metadata": {},
   "source": [
    "### 4. Storing Data For Future Use"
   ]
  },
  {
   "cell_type": "code",
   "execution_count": 116,
   "id": "63a4ce47-2a87-44d9-92d7-e2bcfa436edf",
   "metadata": {
    "tags": []
   },
   "outputs": [],
   "source": [
    "import os\n",
    "\n",
    "folder_name = \"../data/model_data\"\n",
    "\n",
    "if not os.path.exists(folder_name):\n",
    "        os.makedirs(folder_name)\n",
    "        \n",
    "df_grouped.to_csv(f'{folder_name}/speed_data_grouped.csv', index = False)\n",
    "merged_df.to_csv(f'{folder_name}/speed_data_merged.csv', index = False)\n",
    "AB_avg_d_kbps.to_csv(f'{folder_name}/Alberta_Speed_Data_Grouped.csv', index = False)"
   ]
  }
 ],
 "metadata": {
  "kernelspec": {
   "display_name": "Python 3 (ipykernel)",
   "language": "python",
   "name": "python3"
  },
  "language_info": {
   "codemirror_mode": {
    "name": "ipython",
    "version": 3
   },
   "file_extension": ".py",
   "mimetype": "text/x-python",
   "name": "python",
   "nbconvert_exporter": "python",
   "pygments_lexer": "ipython3",
   "version": "3.10.10"
  }
 },
 "nbformat": 4,
 "nbformat_minor": 5
}
